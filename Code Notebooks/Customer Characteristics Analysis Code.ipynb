{
  "cells": [
    {
      "cell_type": "markdown",
      "source": [
        "## **ISOM 672 Final Project**\n",
        "\n",
        "David Ishimwe Ruberamitwe, Richard Jensen, Yifei Wang, Laurie Ye, Yuki Ying\n",
        "\n",
        "*Code is written in reference to the Python codes provided in class:*\n",
        "\n",
        "https://colab.research.google.com/drive/10aOYercpcwMVVGbnGMsRI9P76KM300T4?usp=sharing *(decision tree)*\n",
        "\n",
        "https://colab.research.google.com/drive/1Tk3iWD1MgSIUrhbvrEobmcA5PNG7Njkw?usp=sharing *(kNN)*\n",
        "\n",
        "https://colab.research.google.com/drive/1C8JHLwMi0hDGFMknsr_UITbDHHK8AS7J?usp=sharing *(logistic regression)*\n",
        "\n",
        "https://colab.research.google.com/drive/1l432-Uc7x-MciHJzw2HHd_aJOikAyccL?usp=sharing *(model evaluation and hyperparameter tuning)*"
      ],
      "metadata": {
        "id": "a16dKb5zwGDL"
      },
      "id": "a16dKb5zwGDL"
    },
    {
      "cell_type": "markdown",
      "source": [
        "## Remarks"
      ],
      "metadata": {
        "id": "oIt2K3LiwcKL"
      },
      "id": "oIt2K3LiwcKL"
    },
    {
      "cell_type": "markdown",
      "source": [
        "**Data understanding**\n",
        "*   See \"Data exploration\", \"Data understanding\", & \"Data imbalance\"\n",
        "*   Class imbalance is present with ~15% positive class and 85% negative class\n",
        "\n",
        "\n",
        "**Data preparation**\n",
        "*   Imputed missing values in Income with the mean\n",
        "*   Extracted date column into year/month/day variables\n",
        "*   Used label encoding to transform categorical variables into numeric\n",
        "\n",
        "\n",
        "**Modeling**\n",
        "*   Built DT, kNN, LR models using default parameters to find the best technique to deal with imbalance\n",
        "*   After determining the best technique to deal with imbalance for each model, used nested cross-validation to tune the parameters for each of the DT, kNN, and LR models\n",
        "\n",
        "\n",
        "**Evaluation**\n",
        "*   Business context puts emphasis on TP & avoiding FP (FP is costly)\n",
        "*   FN is not as significant (did not target customer but customer purchased product anyways), so low recall was not a concern\n",
        "*   We pick the model with highest precision performanec\n",
        "\n"
      ],
      "metadata": {
        "id": "NhaZJoEKwe3B"
      },
      "id": "NhaZJoEKwe3B"
    },
    {
      "cell_type": "markdown",
      "source": [
        "## Set-up"
      ],
      "metadata": {
        "id": "B7MvkG7KMTzX"
      },
      "id": "B7MvkG7KMTzX"
    },
    {
      "cell_type": "code",
      "execution_count": null,
      "id": "9a55d645-d2c8-4df3-90b8-75905945d8be",
      "metadata": {
        "id": "9a55d645-d2c8-4df3-90b8-75905945d8be"
      },
      "outputs": [],
      "source": [
        "import requests #import module requests\n",
        "import pandas as pd\n",
        "import io\n",
        "import numpy as np\n",
        "import matplotlib.pyplot as plt\n",
        "from sklearn import linear_model\n",
        "from sklearn.model_selection import KFold, GridSearchCV\n",
        "from sklearn.model_selection import learning_curve\n",
        "from sklearn.model_selection import ShuffleSplit\n",
        "from sklearn.neighbors import KNeighborsClassifier\n",
        "from sklearn.linear_model import LogisticRegression\n",
        "from sklearn.tree import DecisionTreeClassifier\n",
        "from sklearn.model_selection import learning_curve\n",
        "from sklearn.preprocessing import StandardScaler, LabelEncoder\n",
        "from sklearn.model_selection import train_test_split,cross_val_predict,cross_val_score,cross_validate\n",
        "from sklearn.metrics import precision_recall_fscore_support, roc_curve,auc\n",
        "from sklearn.metrics import accuracy_score, recall_score, precision_score, f1_score, confusion_matrix, roc_auc_score\n",
        "from imblearn.under_sampling import RandomUnderSampler\n",
        "import plotly.express as px\n",
        "import seaborn as sns\n",
        "import plotly.graph_objects as go"
      ]
    },
    {
      "cell_type": "code",
      "execution_count": null,
      "id": "b7c5ca5f-b902-4d01-93ec-e87682c49c5c",
      "metadata": {
        "id": "b7c5ca5f-b902-4d01-93ec-e87682c49c5c"
      },
      "outputs": [],
      "source": [
        "Data = pd.read_csv(\"marketing_campaign.csv\", delimiter='\\t')"
      ]
    },
    {
      "cell_type": "markdown",
      "source": [
        "## Data exploration"
      ],
      "metadata": {
        "id": "xV9ntJoBMfJ9"
      },
      "id": "xV9ntJoBMfJ9"
    },
    {
      "cell_type": "code",
      "execution_count": null,
      "id": "221ea662-da05-4a40-b743-0f16a936b34f",
      "metadata": {
        "colab": {
          "base_uri": "https://localhost:8080/"
        },
        "id": "221ea662-da05-4a40-b743-0f16a936b34f",
        "outputId": "f294e289-8036-4373-ca7e-193d3e16d974"
      },
      "outputs": [
        {
          "output_type": "execute_result",
          "data": {
            "text/plain": [
              "64960"
            ]
          },
          "metadata": {},
          "execution_count": 4
        }
      ],
      "source": [
        "Data.size"
      ]
    },
    {
      "cell_type": "code",
      "execution_count": null,
      "id": "51b5f971-80c9-458f-a5e5-29f62ef90a57",
      "metadata": {
        "colab": {
          "base_uri": "https://localhost:8080/"
        },
        "id": "51b5f971-80c9-458f-a5e5-29f62ef90a57",
        "outputId": "af6fb2c1-1e71-41d9-eb12-f14d9bed3e23"
      },
      "outputs": [
        {
          "output_type": "stream",
          "name": "stdout",
          "text": [
            "number of rows=2240  and number of columns=29\n"
          ]
        }
      ],
      "source": [
        "shape=Data.shape\n",
        "print(f\"number of rows={shape[0]}  and number of columns={shape[1]}\")"
      ]
    },
    {
      "cell_type": "code",
      "execution_count": null,
      "id": "1308935e-7493-44b8-8f67-a024ec5cbcf3",
      "metadata": {
        "colab": {
          "base_uri": "https://localhost:8080/"
        },
        "id": "1308935e-7493-44b8-8f67-a024ec5cbcf3",
        "outputId": "5d231a08-bcfb-48cc-f2c7-82ac7df7d2f2"
      },
      "outputs": [
        {
          "output_type": "stream",
          "name": "stdout",
          "text": [
            "<class 'pandas.core.frame.DataFrame'>\n",
            "RangeIndex: 2240 entries, 0 to 2239\n",
            "Data columns (total 29 columns):\n",
            " #   Column               Non-Null Count  Dtype  \n",
            "---  ------               --------------  -----  \n",
            " 0   ID                   2240 non-null   int64  \n",
            " 1   Year_Birth           2240 non-null   int64  \n",
            " 2   Education            2240 non-null   object \n",
            " 3   Marital_Status       2240 non-null   object \n",
            " 4   Income               2216 non-null   float64\n",
            " 5   Kidhome              2240 non-null   int64  \n",
            " 6   Teenhome             2240 non-null   int64  \n",
            " 7   Dt_Customer          2240 non-null   object \n",
            " 8   Recency              2240 non-null   int64  \n",
            " 9   MntWines             2240 non-null   int64  \n",
            " 10  MntFruits            2240 non-null   int64  \n",
            " 11  MntMeatProducts      2240 non-null   int64  \n",
            " 12  MntFishProducts      2240 non-null   int64  \n",
            " 13  MntSweetProducts     2240 non-null   int64  \n",
            " 14  MntGoldProds         2240 non-null   int64  \n",
            " 15  NumDealsPurchases    2240 non-null   int64  \n",
            " 16  NumWebPurchases      2240 non-null   int64  \n",
            " 17  NumCatalogPurchases  2240 non-null   int64  \n",
            " 18  NumStorePurchases    2240 non-null   int64  \n",
            " 19  NumWebVisitsMonth    2240 non-null   int64  \n",
            " 20  AcceptedCmp3         2240 non-null   int64  \n",
            " 21  AcceptedCmp4         2240 non-null   int64  \n",
            " 22  AcceptedCmp5         2240 non-null   int64  \n",
            " 23  AcceptedCmp1         2240 non-null   int64  \n",
            " 24  AcceptedCmp2         2240 non-null   int64  \n",
            " 25  Complain             2240 non-null   int64  \n",
            " 26  Z_CostContact        2240 non-null   int64  \n",
            " 27  Z_Revenue            2240 non-null   int64  \n",
            " 28  Response             2240 non-null   int64  \n",
            "dtypes: float64(1), int64(25), object(3)\n",
            "memory usage: 507.6+ KB\n"
          ]
        }
      ],
      "source": [
        "Data.info()"
      ]
    },
    {
      "cell_type": "code",
      "execution_count": null,
      "id": "b5f547e2-711e-4c11-855d-45e11275e698",
      "metadata": {
        "colab": {
          "base_uri": "https://localhost:8080/",
          "height": 256
        },
        "id": "b5f547e2-711e-4c11-855d-45e11275e698",
        "outputId": "c51c96a4-5498-4654-cb18-588334f72267"
      },
      "outputs": [
        {
          "output_type": "execute_result",
          "data": {
            "text/plain": [
              "     ID  Year_Birth   Education Marital_Status   Income  Kidhome  Teenhome  \\\n",
              "0  5524        1957  Graduation         Single  58138.0        0         0   \n",
              "1  2174        1954  Graduation         Single  46344.0        1         1   \n",
              "2  4141        1965  Graduation       Together  71613.0        0         0   \n",
              "3  6182        1984  Graduation       Together  26646.0        1         0   \n",
              "4  5324        1981         PhD        Married  58293.0        1         0   \n",
              "\n",
              "  Dt_Customer  Recency  MntWines  ...  NumWebVisitsMonth  AcceptedCmp3  \\\n",
              "0  04-09-2012       58       635  ...                  7             0   \n",
              "1  08-03-2014       38        11  ...                  5             0   \n",
              "2  21-08-2013       26       426  ...                  4             0   \n",
              "3  10-02-2014       26        11  ...                  6             0   \n",
              "4  19-01-2014       94       173  ...                  5             0   \n",
              "\n",
              "   AcceptedCmp4  AcceptedCmp5  AcceptedCmp1  AcceptedCmp2  Complain  \\\n",
              "0             0             0             0             0         0   \n",
              "1             0             0             0             0         0   \n",
              "2             0             0             0             0         0   \n",
              "3             0             0             0             0         0   \n",
              "4             0             0             0             0         0   \n",
              "\n",
              "   Z_CostContact  Z_Revenue  Response  \n",
              "0              3         11         1  \n",
              "1              3         11         0  \n",
              "2              3         11         0  \n",
              "3              3         11         0  \n",
              "4              3         11         0  \n",
              "\n",
              "[5 rows x 29 columns]"
            ],
            "text/html": [
              "\n",
              "  <div id=\"df-a84d01ab-f291-4f14-bfb8-bb07e97a6a33\" class=\"colab-df-container\">\n",
              "    <div>\n",
              "<style scoped>\n",
              "    .dataframe tbody tr th:only-of-type {\n",
              "        vertical-align: middle;\n",
              "    }\n",
              "\n",
              "    .dataframe tbody tr th {\n",
              "        vertical-align: top;\n",
              "    }\n",
              "\n",
              "    .dataframe thead th {\n",
              "        text-align: right;\n",
              "    }\n",
              "</style>\n",
              "<table border=\"1\" class=\"dataframe\">\n",
              "  <thead>\n",
              "    <tr style=\"text-align: right;\">\n",
              "      <th></th>\n",
              "      <th>ID</th>\n",
              "      <th>Year_Birth</th>\n",
              "      <th>Education</th>\n",
              "      <th>Marital_Status</th>\n",
              "      <th>Income</th>\n",
              "      <th>Kidhome</th>\n",
              "      <th>Teenhome</th>\n",
              "      <th>Dt_Customer</th>\n",
              "      <th>Recency</th>\n",
              "      <th>MntWines</th>\n",
              "      <th>...</th>\n",
              "      <th>NumWebVisitsMonth</th>\n",
              "      <th>AcceptedCmp3</th>\n",
              "      <th>AcceptedCmp4</th>\n",
              "      <th>AcceptedCmp5</th>\n",
              "      <th>AcceptedCmp1</th>\n",
              "      <th>AcceptedCmp2</th>\n",
              "      <th>Complain</th>\n",
              "      <th>Z_CostContact</th>\n",
              "      <th>Z_Revenue</th>\n",
              "      <th>Response</th>\n",
              "    </tr>\n",
              "  </thead>\n",
              "  <tbody>\n",
              "    <tr>\n",
              "      <th>0</th>\n",
              "      <td>5524</td>\n",
              "      <td>1957</td>\n",
              "      <td>Graduation</td>\n",
              "      <td>Single</td>\n",
              "      <td>58138.0</td>\n",
              "      <td>0</td>\n",
              "      <td>0</td>\n",
              "      <td>04-09-2012</td>\n",
              "      <td>58</td>\n",
              "      <td>635</td>\n",
              "      <td>...</td>\n",
              "      <td>7</td>\n",
              "      <td>0</td>\n",
              "      <td>0</td>\n",
              "      <td>0</td>\n",
              "      <td>0</td>\n",
              "      <td>0</td>\n",
              "      <td>0</td>\n",
              "      <td>3</td>\n",
              "      <td>11</td>\n",
              "      <td>1</td>\n",
              "    </tr>\n",
              "    <tr>\n",
              "      <th>1</th>\n",
              "      <td>2174</td>\n",
              "      <td>1954</td>\n",
              "      <td>Graduation</td>\n",
              "      <td>Single</td>\n",
              "      <td>46344.0</td>\n",
              "      <td>1</td>\n",
              "      <td>1</td>\n",
              "      <td>08-03-2014</td>\n",
              "      <td>38</td>\n",
              "      <td>11</td>\n",
              "      <td>...</td>\n",
              "      <td>5</td>\n",
              "      <td>0</td>\n",
              "      <td>0</td>\n",
              "      <td>0</td>\n",
              "      <td>0</td>\n",
              "      <td>0</td>\n",
              "      <td>0</td>\n",
              "      <td>3</td>\n",
              "      <td>11</td>\n",
              "      <td>0</td>\n",
              "    </tr>\n",
              "    <tr>\n",
              "      <th>2</th>\n",
              "      <td>4141</td>\n",
              "      <td>1965</td>\n",
              "      <td>Graduation</td>\n",
              "      <td>Together</td>\n",
              "      <td>71613.0</td>\n",
              "      <td>0</td>\n",
              "      <td>0</td>\n",
              "      <td>21-08-2013</td>\n",
              "      <td>26</td>\n",
              "      <td>426</td>\n",
              "      <td>...</td>\n",
              "      <td>4</td>\n",
              "      <td>0</td>\n",
              "      <td>0</td>\n",
              "      <td>0</td>\n",
              "      <td>0</td>\n",
              "      <td>0</td>\n",
              "      <td>0</td>\n",
              "      <td>3</td>\n",
              "      <td>11</td>\n",
              "      <td>0</td>\n",
              "    </tr>\n",
              "    <tr>\n",
              "      <th>3</th>\n",
              "      <td>6182</td>\n",
              "      <td>1984</td>\n",
              "      <td>Graduation</td>\n",
              "      <td>Together</td>\n",
              "      <td>26646.0</td>\n",
              "      <td>1</td>\n",
              "      <td>0</td>\n",
              "      <td>10-02-2014</td>\n",
              "      <td>26</td>\n",
              "      <td>11</td>\n",
              "      <td>...</td>\n",
              "      <td>6</td>\n",
              "      <td>0</td>\n",
              "      <td>0</td>\n",
              "      <td>0</td>\n",
              "      <td>0</td>\n",
              "      <td>0</td>\n",
              "      <td>0</td>\n",
              "      <td>3</td>\n",
              "      <td>11</td>\n",
              "      <td>0</td>\n",
              "    </tr>\n",
              "    <tr>\n",
              "      <th>4</th>\n",
              "      <td>5324</td>\n",
              "      <td>1981</td>\n",
              "      <td>PhD</td>\n",
              "      <td>Married</td>\n",
              "      <td>58293.0</td>\n",
              "      <td>1</td>\n",
              "      <td>0</td>\n",
              "      <td>19-01-2014</td>\n",
              "      <td>94</td>\n",
              "      <td>173</td>\n",
              "      <td>...</td>\n",
              "      <td>5</td>\n",
              "      <td>0</td>\n",
              "      <td>0</td>\n",
              "      <td>0</td>\n",
              "      <td>0</td>\n",
              "      <td>0</td>\n",
              "      <td>0</td>\n",
              "      <td>3</td>\n",
              "      <td>11</td>\n",
              "      <td>0</td>\n",
              "    </tr>\n",
              "  </tbody>\n",
              "</table>\n",
              "<p>5 rows × 29 columns</p>\n",
              "</div>\n",
              "    <div class=\"colab-df-buttons\">\n",
              "\n",
              "  <div class=\"colab-df-container\">\n",
              "    <button class=\"colab-df-convert\" onclick=\"convertToInteractive('df-a84d01ab-f291-4f14-bfb8-bb07e97a6a33')\"\n",
              "            title=\"Convert this dataframe to an interactive table.\"\n",
              "            style=\"display:none;\">\n",
              "\n",
              "  <svg xmlns=\"http://www.w3.org/2000/svg\" height=\"24px\" viewBox=\"0 -960 960 960\">\n",
              "    <path d=\"M120-120v-720h720v720H120Zm60-500h600v-160H180v160Zm220 220h160v-160H400v160Zm0 220h160v-160H400v160ZM180-400h160v-160H180v160Zm440 0h160v-160H620v160ZM180-180h160v-160H180v160Zm440 0h160v-160H620v160Z\"/>\n",
              "  </svg>\n",
              "    </button>\n",
              "\n",
              "  <style>\n",
              "    .colab-df-container {\n",
              "      display:flex;\n",
              "      gap: 12px;\n",
              "    }\n",
              "\n",
              "    .colab-df-convert {\n",
              "      background-color: #E8F0FE;\n",
              "      border: none;\n",
              "      border-radius: 50%;\n",
              "      cursor: pointer;\n",
              "      display: none;\n",
              "      fill: #1967D2;\n",
              "      height: 32px;\n",
              "      padding: 0 0 0 0;\n",
              "      width: 32px;\n",
              "    }\n",
              "\n",
              "    .colab-df-convert:hover {\n",
              "      background-color: #E2EBFA;\n",
              "      box-shadow: 0px 1px 2px rgba(60, 64, 67, 0.3), 0px 1px 3px 1px rgba(60, 64, 67, 0.15);\n",
              "      fill: #174EA6;\n",
              "    }\n",
              "\n",
              "    .colab-df-buttons div {\n",
              "      margin-bottom: 4px;\n",
              "    }\n",
              "\n",
              "    [theme=dark] .colab-df-convert {\n",
              "      background-color: #3B4455;\n",
              "      fill: #D2E3FC;\n",
              "    }\n",
              "\n",
              "    [theme=dark] .colab-df-convert:hover {\n",
              "      background-color: #434B5C;\n",
              "      box-shadow: 0px 1px 3px 1px rgba(0, 0, 0, 0.15);\n",
              "      filter: drop-shadow(0px 1px 2px rgba(0, 0, 0, 0.3));\n",
              "      fill: #FFFFFF;\n",
              "    }\n",
              "  </style>\n",
              "\n",
              "    <script>\n",
              "      const buttonEl =\n",
              "        document.querySelector('#df-a84d01ab-f291-4f14-bfb8-bb07e97a6a33 button.colab-df-convert');\n",
              "      buttonEl.style.display =\n",
              "        google.colab.kernel.accessAllowed ? 'block' : 'none';\n",
              "\n",
              "      async function convertToInteractive(key) {\n",
              "        const element = document.querySelector('#df-a84d01ab-f291-4f14-bfb8-bb07e97a6a33');\n",
              "        const dataTable =\n",
              "          await google.colab.kernel.invokeFunction('convertToInteractive',\n",
              "                                                    [key], {});\n",
              "        if (!dataTable) return;\n",
              "\n",
              "        const docLinkHtml = 'Like what you see? Visit the ' +\n",
              "          '<a target=\"_blank\" href=https://colab.research.google.com/notebooks/data_table.ipynb>data table notebook</a>'\n",
              "          + ' to learn more about interactive tables.';\n",
              "        element.innerHTML = '';\n",
              "        dataTable['output_type'] = 'display_data';\n",
              "        await google.colab.output.renderOutput(dataTable, element);\n",
              "        const docLink = document.createElement('div');\n",
              "        docLink.innerHTML = docLinkHtml;\n",
              "        element.appendChild(docLink);\n",
              "      }\n",
              "    </script>\n",
              "  </div>\n",
              "\n",
              "\n",
              "<div id=\"df-505ab83d-eab6-4357-8520-4afc8f9aeb10\">\n",
              "  <button class=\"colab-df-quickchart\" onclick=\"quickchart('df-505ab83d-eab6-4357-8520-4afc8f9aeb10')\"\n",
              "            title=\"Suggest charts.\"\n",
              "            style=\"display:none;\">\n",
              "\n",
              "<svg xmlns=\"http://www.w3.org/2000/svg\" height=\"24px\"viewBox=\"0 0 24 24\"\n",
              "     width=\"24px\">\n",
              "    <g>\n",
              "        <path d=\"M19 3H5c-1.1 0-2 .9-2 2v14c0 1.1.9 2 2 2h14c1.1 0 2-.9 2-2V5c0-1.1-.9-2-2-2zM9 17H7v-7h2v7zm4 0h-2V7h2v10zm4 0h-2v-4h2v4z\"/>\n",
              "    </g>\n",
              "</svg>\n",
              "  </button>\n",
              "\n",
              "<style>\n",
              "  .colab-df-quickchart {\n",
              "      --bg-color: #E8F0FE;\n",
              "      --fill-color: #1967D2;\n",
              "      --hover-bg-color: #E2EBFA;\n",
              "      --hover-fill-color: #174EA6;\n",
              "      --disabled-fill-color: #AAA;\n",
              "      --disabled-bg-color: #DDD;\n",
              "  }\n",
              "\n",
              "  [theme=dark] .colab-df-quickchart {\n",
              "      --bg-color: #3B4455;\n",
              "      --fill-color: #D2E3FC;\n",
              "      --hover-bg-color: #434B5C;\n",
              "      --hover-fill-color: #FFFFFF;\n",
              "      --disabled-bg-color: #3B4455;\n",
              "      --disabled-fill-color: #666;\n",
              "  }\n",
              "\n",
              "  .colab-df-quickchart {\n",
              "    background-color: var(--bg-color);\n",
              "    border: none;\n",
              "    border-radius: 50%;\n",
              "    cursor: pointer;\n",
              "    display: none;\n",
              "    fill: var(--fill-color);\n",
              "    height: 32px;\n",
              "    padding: 0;\n",
              "    width: 32px;\n",
              "  }\n",
              "\n",
              "  .colab-df-quickchart:hover {\n",
              "    background-color: var(--hover-bg-color);\n",
              "    box-shadow: 0 1px 2px rgba(60, 64, 67, 0.3), 0 1px 3px 1px rgba(60, 64, 67, 0.15);\n",
              "    fill: var(--button-hover-fill-color);\n",
              "  }\n",
              "\n",
              "  .colab-df-quickchart-complete:disabled,\n",
              "  .colab-df-quickchart-complete:disabled:hover {\n",
              "    background-color: var(--disabled-bg-color);\n",
              "    fill: var(--disabled-fill-color);\n",
              "    box-shadow: none;\n",
              "  }\n",
              "\n",
              "  .colab-df-spinner {\n",
              "    border: 2px solid var(--fill-color);\n",
              "    border-color: transparent;\n",
              "    border-bottom-color: var(--fill-color);\n",
              "    animation:\n",
              "      spin 1s steps(1) infinite;\n",
              "  }\n",
              "\n",
              "  @keyframes spin {\n",
              "    0% {\n",
              "      border-color: transparent;\n",
              "      border-bottom-color: var(--fill-color);\n",
              "      border-left-color: var(--fill-color);\n",
              "    }\n",
              "    20% {\n",
              "      border-color: transparent;\n",
              "      border-left-color: var(--fill-color);\n",
              "      border-top-color: var(--fill-color);\n",
              "    }\n",
              "    30% {\n",
              "      border-color: transparent;\n",
              "      border-left-color: var(--fill-color);\n",
              "      border-top-color: var(--fill-color);\n",
              "      border-right-color: var(--fill-color);\n",
              "    }\n",
              "    40% {\n",
              "      border-color: transparent;\n",
              "      border-right-color: var(--fill-color);\n",
              "      border-top-color: var(--fill-color);\n",
              "    }\n",
              "    60% {\n",
              "      border-color: transparent;\n",
              "      border-right-color: var(--fill-color);\n",
              "    }\n",
              "    80% {\n",
              "      border-color: transparent;\n",
              "      border-right-color: var(--fill-color);\n",
              "      border-bottom-color: var(--fill-color);\n",
              "    }\n",
              "    90% {\n",
              "      border-color: transparent;\n",
              "      border-bottom-color: var(--fill-color);\n",
              "    }\n",
              "  }\n",
              "</style>\n",
              "\n",
              "  <script>\n",
              "    async function quickchart(key) {\n",
              "      const quickchartButtonEl =\n",
              "        document.querySelector('#' + key + ' button');\n",
              "      quickchartButtonEl.disabled = true;  // To prevent multiple clicks.\n",
              "      quickchartButtonEl.classList.add('colab-df-spinner');\n",
              "      try {\n",
              "        const charts = await google.colab.kernel.invokeFunction(\n",
              "            'suggestCharts', [key], {});\n",
              "      } catch (error) {\n",
              "        console.error('Error during call to suggestCharts:', error);\n",
              "      }\n",
              "      quickchartButtonEl.classList.remove('colab-df-spinner');\n",
              "      quickchartButtonEl.classList.add('colab-df-quickchart-complete');\n",
              "    }\n",
              "    (() => {\n",
              "      let quickchartButtonEl =\n",
              "        document.querySelector('#df-505ab83d-eab6-4357-8520-4afc8f9aeb10 button');\n",
              "      quickchartButtonEl.style.display =\n",
              "        google.colab.kernel.accessAllowed ? 'block' : 'none';\n",
              "    })();\n",
              "  </script>\n",
              "</div>\n",
              "    </div>\n",
              "  </div>\n"
            ]
          },
          "metadata": {},
          "execution_count": 7
        }
      ],
      "source": [
        "Data.head()"
      ]
    },
    {
      "cell_type": "code",
      "execution_count": null,
      "id": "c0b9b20a-e46d-4390-b1e4-2127db18d3a6",
      "metadata": {
        "colab": {
          "base_uri": "https://localhost:8080/",
          "height": 350
        },
        "id": "c0b9b20a-e46d-4390-b1e4-2127db18d3a6",
        "outputId": "d434b694-5932-4376-dbe5-5cf03bdf8194"
      },
      "outputs": [
        {
          "output_type": "execute_result",
          "data": {
            "text/plain": [
              "                 ID   Year_Birth         Income      Kidhome     Teenhome  \\\n",
              "count   2240.000000  2240.000000    2216.000000  2240.000000  2240.000000   \n",
              "mean    5592.159821  1968.805804   52247.251354     0.444196     0.506250   \n",
              "std     3246.662198    11.984069   25173.076661     0.538398     0.544538   \n",
              "min        0.000000  1893.000000    1730.000000     0.000000     0.000000   \n",
              "25%     2828.250000  1959.000000   35303.000000     0.000000     0.000000   \n",
              "50%     5458.500000  1970.000000   51381.500000     0.000000     0.000000   \n",
              "75%     8427.750000  1977.000000   68522.000000     1.000000     1.000000   \n",
              "max    11191.000000  1996.000000  666666.000000     2.000000     2.000000   \n",
              "\n",
              "           Recency     MntWines    MntFruits  MntMeatProducts  \\\n",
              "count  2240.000000  2240.000000  2240.000000      2240.000000   \n",
              "mean     49.109375   303.935714    26.302232       166.950000   \n",
              "std      28.962453   336.597393    39.773434       225.715373   \n",
              "min       0.000000     0.000000     0.000000         0.000000   \n",
              "25%      24.000000    23.750000     1.000000        16.000000   \n",
              "50%      49.000000   173.500000     8.000000        67.000000   \n",
              "75%      74.000000   504.250000    33.000000       232.000000   \n",
              "max      99.000000  1493.000000   199.000000      1725.000000   \n",
              "\n",
              "       MntFishProducts  ...  NumWebVisitsMonth  AcceptedCmp3  AcceptedCmp4  \\\n",
              "count      2240.000000  ...        2240.000000   2240.000000   2240.000000   \n",
              "mean         37.525446  ...           5.316518      0.072768      0.074554   \n",
              "std          54.628979  ...           2.426645      0.259813      0.262728   \n",
              "min           0.000000  ...           0.000000      0.000000      0.000000   \n",
              "25%           3.000000  ...           3.000000      0.000000      0.000000   \n",
              "50%          12.000000  ...           6.000000      0.000000      0.000000   \n",
              "75%          50.000000  ...           7.000000      0.000000      0.000000   \n",
              "max         259.000000  ...          20.000000      1.000000      1.000000   \n",
              "\n",
              "       AcceptedCmp5  AcceptedCmp1  AcceptedCmp2     Complain  Z_CostContact  \\\n",
              "count   2240.000000   2240.000000   2240.000000  2240.000000         2240.0   \n",
              "mean       0.072768      0.064286      0.013393     0.009375            3.0   \n",
              "std        0.259813      0.245316      0.114976     0.096391            0.0   \n",
              "min        0.000000      0.000000      0.000000     0.000000            3.0   \n",
              "25%        0.000000      0.000000      0.000000     0.000000            3.0   \n",
              "50%        0.000000      0.000000      0.000000     0.000000            3.0   \n",
              "75%        0.000000      0.000000      0.000000     0.000000            3.0   \n",
              "max        1.000000      1.000000      1.000000     1.000000            3.0   \n",
              "\n",
              "       Z_Revenue     Response  \n",
              "count     2240.0  2240.000000  \n",
              "mean        11.0     0.149107  \n",
              "std          0.0     0.356274  \n",
              "min         11.0     0.000000  \n",
              "25%         11.0     0.000000  \n",
              "50%         11.0     0.000000  \n",
              "75%         11.0     0.000000  \n",
              "max         11.0     1.000000  \n",
              "\n",
              "[8 rows x 26 columns]"
            ],
            "text/html": [
              "\n",
              "  <div id=\"df-af493d3c-1407-4305-8a88-d340a4fe05aa\" class=\"colab-df-container\">\n",
              "    <div>\n",
              "<style scoped>\n",
              "    .dataframe tbody tr th:only-of-type {\n",
              "        vertical-align: middle;\n",
              "    }\n",
              "\n",
              "    .dataframe tbody tr th {\n",
              "        vertical-align: top;\n",
              "    }\n",
              "\n",
              "    .dataframe thead th {\n",
              "        text-align: right;\n",
              "    }\n",
              "</style>\n",
              "<table border=\"1\" class=\"dataframe\">\n",
              "  <thead>\n",
              "    <tr style=\"text-align: right;\">\n",
              "      <th></th>\n",
              "      <th>ID</th>\n",
              "      <th>Year_Birth</th>\n",
              "      <th>Income</th>\n",
              "      <th>Kidhome</th>\n",
              "      <th>Teenhome</th>\n",
              "      <th>Recency</th>\n",
              "      <th>MntWines</th>\n",
              "      <th>MntFruits</th>\n",
              "      <th>MntMeatProducts</th>\n",
              "      <th>MntFishProducts</th>\n",
              "      <th>...</th>\n",
              "      <th>NumWebVisitsMonth</th>\n",
              "      <th>AcceptedCmp3</th>\n",
              "      <th>AcceptedCmp4</th>\n",
              "      <th>AcceptedCmp5</th>\n",
              "      <th>AcceptedCmp1</th>\n",
              "      <th>AcceptedCmp2</th>\n",
              "      <th>Complain</th>\n",
              "      <th>Z_CostContact</th>\n",
              "      <th>Z_Revenue</th>\n",
              "      <th>Response</th>\n",
              "    </tr>\n",
              "  </thead>\n",
              "  <tbody>\n",
              "    <tr>\n",
              "      <th>count</th>\n",
              "      <td>2240.000000</td>\n",
              "      <td>2240.000000</td>\n",
              "      <td>2216.000000</td>\n",
              "      <td>2240.000000</td>\n",
              "      <td>2240.000000</td>\n",
              "      <td>2240.000000</td>\n",
              "      <td>2240.000000</td>\n",
              "      <td>2240.000000</td>\n",
              "      <td>2240.000000</td>\n",
              "      <td>2240.000000</td>\n",
              "      <td>...</td>\n",
              "      <td>2240.000000</td>\n",
              "      <td>2240.000000</td>\n",
              "      <td>2240.000000</td>\n",
              "      <td>2240.000000</td>\n",
              "      <td>2240.000000</td>\n",
              "      <td>2240.000000</td>\n",
              "      <td>2240.000000</td>\n",
              "      <td>2240.0</td>\n",
              "      <td>2240.0</td>\n",
              "      <td>2240.000000</td>\n",
              "    </tr>\n",
              "    <tr>\n",
              "      <th>mean</th>\n",
              "      <td>5592.159821</td>\n",
              "      <td>1968.805804</td>\n",
              "      <td>52247.251354</td>\n",
              "      <td>0.444196</td>\n",
              "      <td>0.506250</td>\n",
              "      <td>49.109375</td>\n",
              "      <td>303.935714</td>\n",
              "      <td>26.302232</td>\n",
              "      <td>166.950000</td>\n",
              "      <td>37.525446</td>\n",
              "      <td>...</td>\n",
              "      <td>5.316518</td>\n",
              "      <td>0.072768</td>\n",
              "      <td>0.074554</td>\n",
              "      <td>0.072768</td>\n",
              "      <td>0.064286</td>\n",
              "      <td>0.013393</td>\n",
              "      <td>0.009375</td>\n",
              "      <td>3.0</td>\n",
              "      <td>11.0</td>\n",
              "      <td>0.149107</td>\n",
              "    </tr>\n",
              "    <tr>\n",
              "      <th>std</th>\n",
              "      <td>3246.662198</td>\n",
              "      <td>11.984069</td>\n",
              "      <td>25173.076661</td>\n",
              "      <td>0.538398</td>\n",
              "      <td>0.544538</td>\n",
              "      <td>28.962453</td>\n",
              "      <td>336.597393</td>\n",
              "      <td>39.773434</td>\n",
              "      <td>225.715373</td>\n",
              "      <td>54.628979</td>\n",
              "      <td>...</td>\n",
              "      <td>2.426645</td>\n",
              "      <td>0.259813</td>\n",
              "      <td>0.262728</td>\n",
              "      <td>0.259813</td>\n",
              "      <td>0.245316</td>\n",
              "      <td>0.114976</td>\n",
              "      <td>0.096391</td>\n",
              "      <td>0.0</td>\n",
              "      <td>0.0</td>\n",
              "      <td>0.356274</td>\n",
              "    </tr>\n",
              "    <tr>\n",
              "      <th>min</th>\n",
              "      <td>0.000000</td>\n",
              "      <td>1893.000000</td>\n",
              "      <td>1730.000000</td>\n",
              "      <td>0.000000</td>\n",
              "      <td>0.000000</td>\n",
              "      <td>0.000000</td>\n",
              "      <td>0.000000</td>\n",
              "      <td>0.000000</td>\n",
              "      <td>0.000000</td>\n",
              "      <td>0.000000</td>\n",
              "      <td>...</td>\n",
              "      <td>0.000000</td>\n",
              "      <td>0.000000</td>\n",
              "      <td>0.000000</td>\n",
              "      <td>0.000000</td>\n",
              "      <td>0.000000</td>\n",
              "      <td>0.000000</td>\n",
              "      <td>0.000000</td>\n",
              "      <td>3.0</td>\n",
              "      <td>11.0</td>\n",
              "      <td>0.000000</td>\n",
              "    </tr>\n",
              "    <tr>\n",
              "      <th>25%</th>\n",
              "      <td>2828.250000</td>\n",
              "      <td>1959.000000</td>\n",
              "      <td>35303.000000</td>\n",
              "      <td>0.000000</td>\n",
              "      <td>0.000000</td>\n",
              "      <td>24.000000</td>\n",
              "      <td>23.750000</td>\n",
              "      <td>1.000000</td>\n",
              "      <td>16.000000</td>\n",
              "      <td>3.000000</td>\n",
              "      <td>...</td>\n",
              "      <td>3.000000</td>\n",
              "      <td>0.000000</td>\n",
              "      <td>0.000000</td>\n",
              "      <td>0.000000</td>\n",
              "      <td>0.000000</td>\n",
              "      <td>0.000000</td>\n",
              "      <td>0.000000</td>\n",
              "      <td>3.0</td>\n",
              "      <td>11.0</td>\n",
              "      <td>0.000000</td>\n",
              "    </tr>\n",
              "    <tr>\n",
              "      <th>50%</th>\n",
              "      <td>5458.500000</td>\n",
              "      <td>1970.000000</td>\n",
              "      <td>51381.500000</td>\n",
              "      <td>0.000000</td>\n",
              "      <td>0.000000</td>\n",
              "      <td>49.000000</td>\n",
              "      <td>173.500000</td>\n",
              "      <td>8.000000</td>\n",
              "      <td>67.000000</td>\n",
              "      <td>12.000000</td>\n",
              "      <td>...</td>\n",
              "      <td>6.000000</td>\n",
              "      <td>0.000000</td>\n",
              "      <td>0.000000</td>\n",
              "      <td>0.000000</td>\n",
              "      <td>0.000000</td>\n",
              "      <td>0.000000</td>\n",
              "      <td>0.000000</td>\n",
              "      <td>3.0</td>\n",
              "      <td>11.0</td>\n",
              "      <td>0.000000</td>\n",
              "    </tr>\n",
              "    <tr>\n",
              "      <th>75%</th>\n",
              "      <td>8427.750000</td>\n",
              "      <td>1977.000000</td>\n",
              "      <td>68522.000000</td>\n",
              "      <td>1.000000</td>\n",
              "      <td>1.000000</td>\n",
              "      <td>74.000000</td>\n",
              "      <td>504.250000</td>\n",
              "      <td>33.000000</td>\n",
              "      <td>232.000000</td>\n",
              "      <td>50.000000</td>\n",
              "      <td>...</td>\n",
              "      <td>7.000000</td>\n",
              "      <td>0.000000</td>\n",
              "      <td>0.000000</td>\n",
              "      <td>0.000000</td>\n",
              "      <td>0.000000</td>\n",
              "      <td>0.000000</td>\n",
              "      <td>0.000000</td>\n",
              "      <td>3.0</td>\n",
              "      <td>11.0</td>\n",
              "      <td>0.000000</td>\n",
              "    </tr>\n",
              "    <tr>\n",
              "      <th>max</th>\n",
              "      <td>11191.000000</td>\n",
              "      <td>1996.000000</td>\n",
              "      <td>666666.000000</td>\n",
              "      <td>2.000000</td>\n",
              "      <td>2.000000</td>\n",
              "      <td>99.000000</td>\n",
              "      <td>1493.000000</td>\n",
              "      <td>199.000000</td>\n",
              "      <td>1725.000000</td>\n",
              "      <td>259.000000</td>\n",
              "      <td>...</td>\n",
              "      <td>20.000000</td>\n",
              "      <td>1.000000</td>\n",
              "      <td>1.000000</td>\n",
              "      <td>1.000000</td>\n",
              "      <td>1.000000</td>\n",
              "      <td>1.000000</td>\n",
              "      <td>1.000000</td>\n",
              "      <td>3.0</td>\n",
              "      <td>11.0</td>\n",
              "      <td>1.000000</td>\n",
              "    </tr>\n",
              "  </tbody>\n",
              "</table>\n",
              "<p>8 rows × 26 columns</p>\n",
              "</div>\n",
              "    <div class=\"colab-df-buttons\">\n",
              "\n",
              "  <div class=\"colab-df-container\">\n",
              "    <button class=\"colab-df-convert\" onclick=\"convertToInteractive('df-af493d3c-1407-4305-8a88-d340a4fe05aa')\"\n",
              "            title=\"Convert this dataframe to an interactive table.\"\n",
              "            style=\"display:none;\">\n",
              "\n",
              "  <svg xmlns=\"http://www.w3.org/2000/svg\" height=\"24px\" viewBox=\"0 -960 960 960\">\n",
              "    <path d=\"M120-120v-720h720v720H120Zm60-500h600v-160H180v160Zm220 220h160v-160H400v160Zm0 220h160v-160H400v160ZM180-400h160v-160H180v160Zm440 0h160v-160H620v160ZM180-180h160v-160H180v160Zm440 0h160v-160H620v160Z\"/>\n",
              "  </svg>\n",
              "    </button>\n",
              "\n",
              "  <style>\n",
              "    .colab-df-container {\n",
              "      display:flex;\n",
              "      gap: 12px;\n",
              "    }\n",
              "\n",
              "    .colab-df-convert {\n",
              "      background-color: #E8F0FE;\n",
              "      border: none;\n",
              "      border-radius: 50%;\n",
              "      cursor: pointer;\n",
              "      display: none;\n",
              "      fill: #1967D2;\n",
              "      height: 32px;\n",
              "      padding: 0 0 0 0;\n",
              "      width: 32px;\n",
              "    }\n",
              "\n",
              "    .colab-df-convert:hover {\n",
              "      background-color: #E2EBFA;\n",
              "      box-shadow: 0px 1px 2px rgba(60, 64, 67, 0.3), 0px 1px 3px 1px rgba(60, 64, 67, 0.15);\n",
              "      fill: #174EA6;\n",
              "    }\n",
              "\n",
              "    .colab-df-buttons div {\n",
              "      margin-bottom: 4px;\n",
              "    }\n",
              "\n",
              "    [theme=dark] .colab-df-convert {\n",
              "      background-color: #3B4455;\n",
              "      fill: #D2E3FC;\n",
              "    }\n",
              "\n",
              "    [theme=dark] .colab-df-convert:hover {\n",
              "      background-color: #434B5C;\n",
              "      box-shadow: 0px 1px 3px 1px rgba(0, 0, 0, 0.15);\n",
              "      filter: drop-shadow(0px 1px 2px rgba(0, 0, 0, 0.3));\n",
              "      fill: #FFFFFF;\n",
              "    }\n",
              "  </style>\n",
              "\n",
              "    <script>\n",
              "      const buttonEl =\n",
              "        document.querySelector('#df-af493d3c-1407-4305-8a88-d340a4fe05aa button.colab-df-convert');\n",
              "      buttonEl.style.display =\n",
              "        google.colab.kernel.accessAllowed ? 'block' : 'none';\n",
              "\n",
              "      async function convertToInteractive(key) {\n",
              "        const element = document.querySelector('#df-af493d3c-1407-4305-8a88-d340a4fe05aa');\n",
              "        const dataTable =\n",
              "          await google.colab.kernel.invokeFunction('convertToInteractive',\n",
              "                                                    [key], {});\n",
              "        if (!dataTable) return;\n",
              "\n",
              "        const docLinkHtml = 'Like what you see? Visit the ' +\n",
              "          '<a target=\"_blank\" href=https://colab.research.google.com/notebooks/data_table.ipynb>data table notebook</a>'\n",
              "          + ' to learn more about interactive tables.';\n",
              "        element.innerHTML = '';\n",
              "        dataTable['output_type'] = 'display_data';\n",
              "        await google.colab.output.renderOutput(dataTable, element);\n",
              "        const docLink = document.createElement('div');\n",
              "        docLink.innerHTML = docLinkHtml;\n",
              "        element.appendChild(docLink);\n",
              "      }\n",
              "    </script>\n",
              "  </div>\n",
              "\n",
              "\n",
              "<div id=\"df-8ba0da7a-f7e4-4a69-8b74-e3313df9bdd0\">\n",
              "  <button class=\"colab-df-quickchart\" onclick=\"quickchart('df-8ba0da7a-f7e4-4a69-8b74-e3313df9bdd0')\"\n",
              "            title=\"Suggest charts.\"\n",
              "            style=\"display:none;\">\n",
              "\n",
              "<svg xmlns=\"http://www.w3.org/2000/svg\" height=\"24px\"viewBox=\"0 0 24 24\"\n",
              "     width=\"24px\">\n",
              "    <g>\n",
              "        <path d=\"M19 3H5c-1.1 0-2 .9-2 2v14c0 1.1.9 2 2 2h14c1.1 0 2-.9 2-2V5c0-1.1-.9-2-2-2zM9 17H7v-7h2v7zm4 0h-2V7h2v10zm4 0h-2v-4h2v4z\"/>\n",
              "    </g>\n",
              "</svg>\n",
              "  </button>\n",
              "\n",
              "<style>\n",
              "  .colab-df-quickchart {\n",
              "      --bg-color: #E8F0FE;\n",
              "      --fill-color: #1967D2;\n",
              "      --hover-bg-color: #E2EBFA;\n",
              "      --hover-fill-color: #174EA6;\n",
              "      --disabled-fill-color: #AAA;\n",
              "      --disabled-bg-color: #DDD;\n",
              "  }\n",
              "\n",
              "  [theme=dark] .colab-df-quickchart {\n",
              "      --bg-color: #3B4455;\n",
              "      --fill-color: #D2E3FC;\n",
              "      --hover-bg-color: #434B5C;\n",
              "      --hover-fill-color: #FFFFFF;\n",
              "      --disabled-bg-color: #3B4455;\n",
              "      --disabled-fill-color: #666;\n",
              "  }\n",
              "\n",
              "  .colab-df-quickchart {\n",
              "    background-color: var(--bg-color);\n",
              "    border: none;\n",
              "    border-radius: 50%;\n",
              "    cursor: pointer;\n",
              "    display: none;\n",
              "    fill: var(--fill-color);\n",
              "    height: 32px;\n",
              "    padding: 0;\n",
              "    width: 32px;\n",
              "  }\n",
              "\n",
              "  .colab-df-quickchart:hover {\n",
              "    background-color: var(--hover-bg-color);\n",
              "    box-shadow: 0 1px 2px rgba(60, 64, 67, 0.3), 0 1px 3px 1px rgba(60, 64, 67, 0.15);\n",
              "    fill: var(--button-hover-fill-color);\n",
              "  }\n",
              "\n",
              "  .colab-df-quickchart-complete:disabled,\n",
              "  .colab-df-quickchart-complete:disabled:hover {\n",
              "    background-color: var(--disabled-bg-color);\n",
              "    fill: var(--disabled-fill-color);\n",
              "    box-shadow: none;\n",
              "  }\n",
              "\n",
              "  .colab-df-spinner {\n",
              "    border: 2px solid var(--fill-color);\n",
              "    border-color: transparent;\n",
              "    border-bottom-color: var(--fill-color);\n",
              "    animation:\n",
              "      spin 1s steps(1) infinite;\n",
              "  }\n",
              "\n",
              "  @keyframes spin {\n",
              "    0% {\n",
              "      border-color: transparent;\n",
              "      border-bottom-color: var(--fill-color);\n",
              "      border-left-color: var(--fill-color);\n",
              "    }\n",
              "    20% {\n",
              "      border-color: transparent;\n",
              "      border-left-color: var(--fill-color);\n",
              "      border-top-color: var(--fill-color);\n",
              "    }\n",
              "    30% {\n",
              "      border-color: transparent;\n",
              "      border-left-color: var(--fill-color);\n",
              "      border-top-color: var(--fill-color);\n",
              "      border-right-color: var(--fill-color);\n",
              "    }\n",
              "    40% {\n",
              "      border-color: transparent;\n",
              "      border-right-color: var(--fill-color);\n",
              "      border-top-color: var(--fill-color);\n",
              "    }\n",
              "    60% {\n",
              "      border-color: transparent;\n",
              "      border-right-color: var(--fill-color);\n",
              "    }\n",
              "    80% {\n",
              "      border-color: transparent;\n",
              "      border-right-color: var(--fill-color);\n",
              "      border-bottom-color: var(--fill-color);\n",
              "    }\n",
              "    90% {\n",
              "      border-color: transparent;\n",
              "      border-bottom-color: var(--fill-color);\n",
              "    }\n",
              "  }\n",
              "</style>\n",
              "\n",
              "  <script>\n",
              "    async function quickchart(key) {\n",
              "      const quickchartButtonEl =\n",
              "        document.querySelector('#' + key + ' button');\n",
              "      quickchartButtonEl.disabled = true;  // To prevent multiple clicks.\n",
              "      quickchartButtonEl.classList.add('colab-df-spinner');\n",
              "      try {\n",
              "        const charts = await google.colab.kernel.invokeFunction(\n",
              "            'suggestCharts', [key], {});\n",
              "      } catch (error) {\n",
              "        console.error('Error during call to suggestCharts:', error);\n",
              "      }\n",
              "      quickchartButtonEl.classList.remove('colab-df-spinner');\n",
              "      quickchartButtonEl.classList.add('colab-df-quickchart-complete');\n",
              "    }\n",
              "    (() => {\n",
              "      let quickchartButtonEl =\n",
              "        document.querySelector('#df-8ba0da7a-f7e4-4a69-8b74-e3313df9bdd0 button');\n",
              "      quickchartButtonEl.style.display =\n",
              "        google.colab.kernel.accessAllowed ? 'block' : 'none';\n",
              "    })();\n",
              "  </script>\n",
              "</div>\n",
              "    </div>\n",
              "  </div>\n"
            ]
          },
          "metadata": {},
          "execution_count": 8
        }
      ],
      "source": [
        "Data.describe()"
      ]
    },
    {
      "cell_type": "markdown",
      "source": [
        "## Data understanding"
      ],
      "metadata": {
        "id": "obV8BTcr5Hnk"
      },
      "id": "obV8BTcr5Hnk"
    },
    {
      "cell_type": "markdown",
      "source": [
        "Create customer data"
      ],
      "metadata": {
        "id": "M6B1WbEiHake"
      },
      "id": "M6B1WbEiHake"
    },
    {
      "cell_type": "code",
      "source": [
        "customer_data = Data.copy()\n",
        "\n",
        "replace_values = ['Graduation', 'Basic', '2n Cycle']\n",
        "customer_data['Education'] = customer_data['Education'].apply(lambda val: 'Undergraduate' if val in replace_values else 'Postgraduate')\n",
        "\n",
        "replace_values = ['Together', 'Married']\n",
        "customer_data['Marital_Status'] = customer_data['Marital_Status'].apply(lambda val: 'In relationship' if val in replace_values else val)\n",
        "\n",
        "replace_values = [\"Alone\", \"Single\"]\n",
        "customer_data['Marital_Status'] = customer_data['Marital_Status'].apply(lambda val: 'Single' if val in replace_values else val)\n",
        "\n",
        "# Calculate the current year\n",
        "current_year = (pd.to_datetime(customer_data['Dt_Customer'],format='%d-%m-%Y')).dt.year\n",
        "\n",
        "# Create the \"Age\" column\n",
        "customer_data['age'] = current_year - customer_data['Year_Birth']\n",
        "\n",
        "age_bins = [0, 35, 45, 55, 65, 75, float('inf')]\n",
        "age_labels = ['Under 35', '35-45', '46-55', '56-65', '66-75', 'Over 75']\n",
        "customer_data['age_group'] = pd.cut(customer_data['age'], bins=age_bins, labels=age_labels)\n",
        "\n",
        "customer_data.head()"
      ],
      "metadata": {
        "colab": {
          "base_uri": "https://localhost:8080/",
          "height": 255
        },
        "id": "eabqMCOzHZRg",
        "outputId": "5e53a463-371c-441f-e83e-626b8d917009"
      },
      "id": "eabqMCOzHZRg",
      "execution_count": null,
      "outputs": [
        {
          "output_type": "execute_result",
          "data": {
            "text/plain": [
              "     ID  Year_Birth      Education   Marital_Status   Income  Kidhome  \\\n",
              "0  5524        1957  Undergraduate           Single  58138.0        0   \n",
              "1  2174        1954  Undergraduate           Single  46344.0        1   \n",
              "2  4141        1965  Undergraduate  In relationship  71613.0        0   \n",
              "3  6182        1984  Undergraduate  In relationship  26646.0        1   \n",
              "4  5324        1981   Postgraduate  In relationship  58293.0        1   \n",
              "\n",
              "   Teenhome Dt_Customer  Recency  MntWines  ...  AcceptedCmp4  AcceptedCmp5  \\\n",
              "0         0  04-09-2012       58       635  ...             0             0   \n",
              "1         1  08-03-2014       38        11  ...             0             0   \n",
              "2         0  21-08-2013       26       426  ...             0             0   \n",
              "3         0  10-02-2014       26        11  ...             0             0   \n",
              "4         0  19-01-2014       94       173  ...             0             0   \n",
              "\n",
              "   AcceptedCmp1  AcceptedCmp2  Complain  Z_CostContact  Z_Revenue  Response  \\\n",
              "0             0             0         0              3         11         1   \n",
              "1             0             0         0              3         11         0   \n",
              "2             0             0         0              3         11         0   \n",
              "3             0             0         0              3         11         0   \n",
              "4             0             0         0              3         11         0   \n",
              "\n",
              "   age  age_group  \n",
              "0   55      46-55  \n",
              "1   60      56-65  \n",
              "2   48      46-55  \n",
              "3   30   Under 35  \n",
              "4   33   Under 35  \n",
              "\n",
              "[5 rows x 31 columns]"
            ],
            "text/html": [
              "\n",
              "  <div id=\"df-2e71435a-19af-43dc-b5f9-1828cc252cc9\" class=\"colab-df-container\">\n",
              "    <div>\n",
              "<style scoped>\n",
              "    .dataframe tbody tr th:only-of-type {\n",
              "        vertical-align: middle;\n",
              "    }\n",
              "\n",
              "    .dataframe tbody tr th {\n",
              "        vertical-align: top;\n",
              "    }\n",
              "\n",
              "    .dataframe thead th {\n",
              "        text-align: right;\n",
              "    }\n",
              "</style>\n",
              "<table border=\"1\" class=\"dataframe\">\n",
              "  <thead>\n",
              "    <tr style=\"text-align: right;\">\n",
              "      <th></th>\n",
              "      <th>ID</th>\n",
              "      <th>Year_Birth</th>\n",
              "      <th>Education</th>\n",
              "      <th>Marital_Status</th>\n",
              "      <th>Income</th>\n",
              "      <th>Kidhome</th>\n",
              "      <th>Teenhome</th>\n",
              "      <th>Dt_Customer</th>\n",
              "      <th>Recency</th>\n",
              "      <th>MntWines</th>\n",
              "      <th>...</th>\n",
              "      <th>AcceptedCmp4</th>\n",
              "      <th>AcceptedCmp5</th>\n",
              "      <th>AcceptedCmp1</th>\n",
              "      <th>AcceptedCmp2</th>\n",
              "      <th>Complain</th>\n",
              "      <th>Z_CostContact</th>\n",
              "      <th>Z_Revenue</th>\n",
              "      <th>Response</th>\n",
              "      <th>age</th>\n",
              "      <th>age_group</th>\n",
              "    </tr>\n",
              "  </thead>\n",
              "  <tbody>\n",
              "    <tr>\n",
              "      <th>0</th>\n",
              "      <td>5524</td>\n",
              "      <td>1957</td>\n",
              "      <td>Undergraduate</td>\n",
              "      <td>Single</td>\n",
              "      <td>58138.0</td>\n",
              "      <td>0</td>\n",
              "      <td>0</td>\n",
              "      <td>04-09-2012</td>\n",
              "      <td>58</td>\n",
              "      <td>635</td>\n",
              "      <td>...</td>\n",
              "      <td>0</td>\n",
              "      <td>0</td>\n",
              "      <td>0</td>\n",
              "      <td>0</td>\n",
              "      <td>0</td>\n",
              "      <td>3</td>\n",
              "      <td>11</td>\n",
              "      <td>1</td>\n",
              "      <td>55</td>\n",
              "      <td>46-55</td>\n",
              "    </tr>\n",
              "    <tr>\n",
              "      <th>1</th>\n",
              "      <td>2174</td>\n",
              "      <td>1954</td>\n",
              "      <td>Undergraduate</td>\n",
              "      <td>Single</td>\n",
              "      <td>46344.0</td>\n",
              "      <td>1</td>\n",
              "      <td>1</td>\n",
              "      <td>08-03-2014</td>\n",
              "      <td>38</td>\n",
              "      <td>11</td>\n",
              "      <td>...</td>\n",
              "      <td>0</td>\n",
              "      <td>0</td>\n",
              "      <td>0</td>\n",
              "      <td>0</td>\n",
              "      <td>0</td>\n",
              "      <td>3</td>\n",
              "      <td>11</td>\n",
              "      <td>0</td>\n",
              "      <td>60</td>\n",
              "      <td>56-65</td>\n",
              "    </tr>\n",
              "    <tr>\n",
              "      <th>2</th>\n",
              "      <td>4141</td>\n",
              "      <td>1965</td>\n",
              "      <td>Undergraduate</td>\n",
              "      <td>In relationship</td>\n",
              "      <td>71613.0</td>\n",
              "      <td>0</td>\n",
              "      <td>0</td>\n",
              "      <td>21-08-2013</td>\n",
              "      <td>26</td>\n",
              "      <td>426</td>\n",
              "      <td>...</td>\n",
              "      <td>0</td>\n",
              "      <td>0</td>\n",
              "      <td>0</td>\n",
              "      <td>0</td>\n",
              "      <td>0</td>\n",
              "      <td>3</td>\n",
              "      <td>11</td>\n",
              "      <td>0</td>\n",
              "      <td>48</td>\n",
              "      <td>46-55</td>\n",
              "    </tr>\n",
              "    <tr>\n",
              "      <th>3</th>\n",
              "      <td>6182</td>\n",
              "      <td>1984</td>\n",
              "      <td>Undergraduate</td>\n",
              "      <td>In relationship</td>\n",
              "      <td>26646.0</td>\n",
              "      <td>1</td>\n",
              "      <td>0</td>\n",
              "      <td>10-02-2014</td>\n",
              "      <td>26</td>\n",
              "      <td>11</td>\n",
              "      <td>...</td>\n",
              "      <td>0</td>\n",
              "      <td>0</td>\n",
              "      <td>0</td>\n",
              "      <td>0</td>\n",
              "      <td>0</td>\n",
              "      <td>3</td>\n",
              "      <td>11</td>\n",
              "      <td>0</td>\n",
              "      <td>30</td>\n",
              "      <td>Under 35</td>\n",
              "    </tr>\n",
              "    <tr>\n",
              "      <th>4</th>\n",
              "      <td>5324</td>\n",
              "      <td>1981</td>\n",
              "      <td>Postgraduate</td>\n",
              "      <td>In relationship</td>\n",
              "      <td>58293.0</td>\n",
              "      <td>1</td>\n",
              "      <td>0</td>\n",
              "      <td>19-01-2014</td>\n",
              "      <td>94</td>\n",
              "      <td>173</td>\n",
              "      <td>...</td>\n",
              "      <td>0</td>\n",
              "      <td>0</td>\n",
              "      <td>0</td>\n",
              "      <td>0</td>\n",
              "      <td>0</td>\n",
              "      <td>3</td>\n",
              "      <td>11</td>\n",
              "      <td>0</td>\n",
              "      <td>33</td>\n",
              "      <td>Under 35</td>\n",
              "    </tr>\n",
              "  </tbody>\n",
              "</table>\n",
              "<p>5 rows × 31 columns</p>\n",
              "</div>\n",
              "    <div class=\"colab-df-buttons\">\n",
              "\n",
              "  <div class=\"colab-df-container\">\n",
              "    <button class=\"colab-df-convert\" onclick=\"convertToInteractive('df-2e71435a-19af-43dc-b5f9-1828cc252cc9')\"\n",
              "            title=\"Convert this dataframe to an interactive table.\"\n",
              "            style=\"display:none;\">\n",
              "\n",
              "  <svg xmlns=\"http://www.w3.org/2000/svg\" height=\"24px\" viewBox=\"0 -960 960 960\">\n",
              "    <path d=\"M120-120v-720h720v720H120Zm60-500h600v-160H180v160Zm220 220h160v-160H400v160Zm0 220h160v-160H400v160ZM180-400h160v-160H180v160Zm440 0h160v-160H620v160ZM180-180h160v-160H180v160Zm440 0h160v-160H620v160Z\"/>\n",
              "  </svg>\n",
              "    </button>\n",
              "\n",
              "  <style>\n",
              "    .colab-df-container {\n",
              "      display:flex;\n",
              "      gap: 12px;\n",
              "    }\n",
              "\n",
              "    .colab-df-convert {\n",
              "      background-color: #E8F0FE;\n",
              "      border: none;\n",
              "      border-radius: 50%;\n",
              "      cursor: pointer;\n",
              "      display: none;\n",
              "      fill: #1967D2;\n",
              "      height: 32px;\n",
              "      padding: 0 0 0 0;\n",
              "      width: 32px;\n",
              "    }\n",
              "\n",
              "    .colab-df-convert:hover {\n",
              "      background-color: #E2EBFA;\n",
              "      box-shadow: 0px 1px 2px rgba(60, 64, 67, 0.3), 0px 1px 3px 1px rgba(60, 64, 67, 0.15);\n",
              "      fill: #174EA6;\n",
              "    }\n",
              "\n",
              "    .colab-df-buttons div {\n",
              "      margin-bottom: 4px;\n",
              "    }\n",
              "\n",
              "    [theme=dark] .colab-df-convert {\n",
              "      background-color: #3B4455;\n",
              "      fill: #D2E3FC;\n",
              "    }\n",
              "\n",
              "    [theme=dark] .colab-df-convert:hover {\n",
              "      background-color: #434B5C;\n",
              "      box-shadow: 0px 1px 3px 1px rgba(0, 0, 0, 0.15);\n",
              "      filter: drop-shadow(0px 1px 2px rgba(0, 0, 0, 0.3));\n",
              "      fill: #FFFFFF;\n",
              "    }\n",
              "  </style>\n",
              "\n",
              "    <script>\n",
              "      const buttonEl =\n",
              "        document.querySelector('#df-2e71435a-19af-43dc-b5f9-1828cc252cc9 button.colab-df-convert');\n",
              "      buttonEl.style.display =\n",
              "        google.colab.kernel.accessAllowed ? 'block' : 'none';\n",
              "\n",
              "      async function convertToInteractive(key) {\n",
              "        const element = document.querySelector('#df-2e71435a-19af-43dc-b5f9-1828cc252cc9');\n",
              "        const dataTable =\n",
              "          await google.colab.kernel.invokeFunction('convertToInteractive',\n",
              "                                                    [key], {});\n",
              "        if (!dataTable) return;\n",
              "\n",
              "        const docLinkHtml = 'Like what you see? Visit the ' +\n",
              "          '<a target=\"_blank\" href=https://colab.research.google.com/notebooks/data_table.ipynb>data table notebook</a>'\n",
              "          + ' to learn more about interactive tables.';\n",
              "        element.innerHTML = '';\n",
              "        dataTable['output_type'] = 'display_data';\n",
              "        await google.colab.output.renderOutput(dataTable, element);\n",
              "        const docLink = document.createElement('div');\n",
              "        docLink.innerHTML = docLinkHtml;\n",
              "        element.appendChild(docLink);\n",
              "      }\n",
              "    </script>\n",
              "  </div>\n",
              "\n",
              "\n",
              "<div id=\"df-f0d84c70-1e7a-4449-bfbf-9bb0162f2532\">\n",
              "  <button class=\"colab-df-quickchart\" onclick=\"quickchart('df-f0d84c70-1e7a-4449-bfbf-9bb0162f2532')\"\n",
              "            title=\"Suggest charts.\"\n",
              "            style=\"display:none;\">\n",
              "\n",
              "<svg xmlns=\"http://www.w3.org/2000/svg\" height=\"24px\"viewBox=\"0 0 24 24\"\n",
              "     width=\"24px\">\n",
              "    <g>\n",
              "        <path d=\"M19 3H5c-1.1 0-2 .9-2 2v14c0 1.1.9 2 2 2h14c1.1 0 2-.9 2-2V5c0-1.1-.9-2-2-2zM9 17H7v-7h2v7zm4 0h-2V7h2v10zm4 0h-2v-4h2v4z\"/>\n",
              "    </g>\n",
              "</svg>\n",
              "  </button>\n",
              "\n",
              "<style>\n",
              "  .colab-df-quickchart {\n",
              "      --bg-color: #E8F0FE;\n",
              "      --fill-color: #1967D2;\n",
              "      --hover-bg-color: #E2EBFA;\n",
              "      --hover-fill-color: #174EA6;\n",
              "      --disabled-fill-color: #AAA;\n",
              "      --disabled-bg-color: #DDD;\n",
              "  }\n",
              "\n",
              "  [theme=dark] .colab-df-quickchart {\n",
              "      --bg-color: #3B4455;\n",
              "      --fill-color: #D2E3FC;\n",
              "      --hover-bg-color: #434B5C;\n",
              "      --hover-fill-color: #FFFFFF;\n",
              "      --disabled-bg-color: #3B4455;\n",
              "      --disabled-fill-color: #666;\n",
              "  }\n",
              "\n",
              "  .colab-df-quickchart {\n",
              "    background-color: var(--bg-color);\n",
              "    border: none;\n",
              "    border-radius: 50%;\n",
              "    cursor: pointer;\n",
              "    display: none;\n",
              "    fill: var(--fill-color);\n",
              "    height: 32px;\n",
              "    padding: 0;\n",
              "    width: 32px;\n",
              "  }\n",
              "\n",
              "  .colab-df-quickchart:hover {\n",
              "    background-color: var(--hover-bg-color);\n",
              "    box-shadow: 0 1px 2px rgba(60, 64, 67, 0.3), 0 1px 3px 1px rgba(60, 64, 67, 0.15);\n",
              "    fill: var(--button-hover-fill-color);\n",
              "  }\n",
              "\n",
              "  .colab-df-quickchart-complete:disabled,\n",
              "  .colab-df-quickchart-complete:disabled:hover {\n",
              "    background-color: var(--disabled-bg-color);\n",
              "    fill: var(--disabled-fill-color);\n",
              "    box-shadow: none;\n",
              "  }\n",
              "\n",
              "  .colab-df-spinner {\n",
              "    border: 2px solid var(--fill-color);\n",
              "    border-color: transparent;\n",
              "    border-bottom-color: var(--fill-color);\n",
              "    animation:\n",
              "      spin 1s steps(1) infinite;\n",
              "  }\n",
              "\n",
              "  @keyframes spin {\n",
              "    0% {\n",
              "      border-color: transparent;\n",
              "      border-bottom-color: var(--fill-color);\n",
              "      border-left-color: var(--fill-color);\n",
              "    }\n",
              "    20% {\n",
              "      border-color: transparent;\n",
              "      border-left-color: var(--fill-color);\n",
              "      border-top-color: var(--fill-color);\n",
              "    }\n",
              "    30% {\n",
              "      border-color: transparent;\n",
              "      border-left-color: var(--fill-color);\n",
              "      border-top-color: var(--fill-color);\n",
              "      border-right-color: var(--fill-color);\n",
              "    }\n",
              "    40% {\n",
              "      border-color: transparent;\n",
              "      border-right-color: var(--fill-color);\n",
              "      border-top-color: var(--fill-color);\n",
              "    }\n",
              "    60% {\n",
              "      border-color: transparent;\n",
              "      border-right-color: var(--fill-color);\n",
              "    }\n",
              "    80% {\n",
              "      border-color: transparent;\n",
              "      border-right-color: var(--fill-color);\n",
              "      border-bottom-color: var(--fill-color);\n",
              "    }\n",
              "    90% {\n",
              "      border-color: transparent;\n",
              "      border-bottom-color: var(--fill-color);\n",
              "    }\n",
              "  }\n",
              "</style>\n",
              "\n",
              "  <script>\n",
              "    async function quickchart(key) {\n",
              "      const quickchartButtonEl =\n",
              "        document.querySelector('#' + key + ' button');\n",
              "      quickchartButtonEl.disabled = true;  // To prevent multiple clicks.\n",
              "      quickchartButtonEl.classList.add('colab-df-spinner');\n",
              "      try {\n",
              "        const charts = await google.colab.kernel.invokeFunction(\n",
              "            'suggestCharts', [key], {});\n",
              "      } catch (error) {\n",
              "        console.error('Error during call to suggestCharts:', error);\n",
              "      }\n",
              "      quickchartButtonEl.classList.remove('colab-df-spinner');\n",
              "      quickchartButtonEl.classList.add('colab-df-quickchart-complete');\n",
              "    }\n",
              "    (() => {\n",
              "      let quickchartButtonEl =\n",
              "        document.querySelector('#df-f0d84c70-1e7a-4449-bfbf-9bb0162f2532 button');\n",
              "      quickchartButtonEl.style.display =\n",
              "        google.colab.kernel.accessAllowed ? 'block' : 'none';\n",
              "    })();\n",
              "  </script>\n",
              "</div>\n",
              "    </div>\n",
              "  </div>\n"
            ]
          },
          "metadata": {},
          "execution_count": 12
        }
      ]
    },
    {
      "cell_type": "markdown",
      "source": [
        "*Distribution of demographics*"
      ],
      "metadata": {
        "id": "cCqe5kKt5JH9"
      },
      "id": "cCqe5kKt5JH9"
    },
    {
      "cell_type": "code",
      "source": [
        "# Filter data for age less than 100\n",
        "filtered_data = customer_data[customer_data[\"age\"] < 100]\n",
        "\n",
        "# Create a histogram to visualize age distribution based on marital status\n",
        "marital_status_hist = px.histogram(filtered_data,\n",
        "                                   x=\"age\",\n",
        "                                   color=\"Marital_Status\",\n",
        "                                   title=\"Age Distribution by Marital Status\",\n",
        "                                   color_discrete_sequence=px.colors.sequential.RdBu)\n",
        "marital_status_hist.show()\n",
        "\n",
        "# Create a histogram to visualize age distribution based on education\n",
        "education_hist = px.histogram(customer_data,\n",
        "                             x=\"age\",\n",
        "                             color=\"Education\",\n",
        "                             title=\"Age & Education Distribution of Customers\",\n",
        "                             color_discrete_sequence=px.colors.sequential.Viridis)\n",
        "education_hist.show()"
      ],
      "metadata": {
        "colab": {
          "base_uri": "https://localhost:8080/",
          "height": 1000
        },
        "id": "umMREZI25LNh",
        "outputId": "a818e9ca-ab29-4e32-8536-936d5d0c2fc8"
      },
      "id": "umMREZI25LNh",
      "execution_count": null,
      "outputs": [
        {
          "output_type": "display_data",
          "data": {
            "text/html": [
              "<html>\n",
              "<head><meta charset=\"utf-8\" /></head>\n",
              "<body>\n",
              "    <div>            <script src=\"https://cdnjs.cloudflare.com/ajax/libs/mathjax/2.7.5/MathJax.js?config=TeX-AMS-MML_SVG\"></script><script type=\"text/javascript\">if (window.MathJax && window.MathJax.Hub && window.MathJax.Hub.Config) {window.MathJax.Hub.Config({SVG: {font: \"STIX-Web\"}});}</script>                <script type=\"text/javascript\">window.PlotlyConfig = {MathJaxConfig: 'local'};</script>\n",
              "        <script charset=\"utf-8\" src=\"https://cdn.plot.ly/plotly-2.24.1.min.js\"></script>                <div id=\"7bb9e898-bf5b-47ce-83c6-d527c741cd16\" class=\"plotly-graph-div\" style=\"height:525px; width:100%;\"></div>            <script type=\"text/javascript\">                                    window.PLOTLYENV=window.PLOTLYENV || {};                                    if (document.getElementById(\"7bb9e898-bf5b-47ce-83c6-d527c741cd16\")) {                    Plotly.newPlot(                        \"7bb9e898-bf5b-47ce-83c6-d527c741cd16\",                        [{\"alignmentgroup\":\"True\",\"bingroup\":\"x\",\"hovertemplate\":\"Marital_Status=Single\\u003cbr\\u003eage=%{x}\\u003cbr\\u003ecount=%{y}\\u003cextra\\u003e\\u003c\\u002fextra\\u003e\",\"legendgroup\":\"Single\",\"marker\":{\"color\":\"rgb(103,0,31)\",\"pattern\":{\"shape\":\"\"}},\"name\":\"Single\",\"offsetgroup\":\"Single\",\"orientation\":\"v\",\"showlegend\":true,\"x\":[55,60,66,27,44,27,62,54,38,63,36,26,31,31,61,35,36,27,57,57,42,53,55,34,21,22,51,47,30,29,55,41,20,39,26,55,35,58,55,25,47,44,41,45,48,28,36,47,63,55,40,42,38,28,38,48,49,56,59,31,57,27,31,26,67,37,27,43,60,27,30,24,24,47,36,35,43,37,43,46,41,37,43,23,44,33,42,21,25,39,58,40,30,25,32,52,44,23,49,58,42,46,45,26,42,38,49,24,34,38,23,27,48,44,31,32,28,51,25,43,35,33,50,34,35,28,48,52,58,26,44,43,48,42,35,38,35,54,40,61,49,54,47,26,51,37,35,33,40,43,19,64,52,26,47,38,56,60,64,19,43,47,35,62,48,48,58,42,40,44,63,52,51,69,41,41,39,58,33,53,20,41,33,37,26,21,56,50,39,34,38,47,27,55,33,58,42,40,59,35,23,40,37,52,47,18,59,59,20,44,31,21,25,61,62,42,61,26,42,60,52,37,25,19,26,59,50,35,37,35,26,42,32,41,21,47,27,60,26,22,46,49,43,43,56,40,41,34,26,53,30,41,54,29,45,34,46,28,46,28,51,26,51,45,23,55,43,28,61,62,38,48,50,26,58,61,30,52,20,62,56,50,40,42,36,51,34,56,51,35,31,65,30,31,38,20,51,68,50,42,54,37,39,48,52,38,50,37,55,23,34,41,46,56,41,40,60,46,44,47,56,26,34,37,57,37,34,42,30,38,40,27,37,24,24,46,60,49,61,48,66,23,37,47,39,29,23,24,23,38,27,54,33,51,36,33,55,48,24,28,28,34,42,24,62,31,24,22,57,22,32,35,48,55,47,69,34,34,42,34,27,27,33,38,45,51,38,58,37,47,47,49,38,49,62,42,26,26,17,29,61,34,30,42,65,27,44,29,28,40,60,69,31,42,44,32,37,37,56,70,54,55,57,35,45,73,63,49,56,23,61,31,45,28,38,66,56,34,43,48,41,27,54,62,22,42,43,42,38,59,48,32,26,58,33,57,51,51,37,44,41,56,49,21,39,23,32,49,35,30,61,40,23,43,44,17,31,44,51,29,42,26],\"xaxis\":\"x\",\"yaxis\":\"y\",\"type\":\"histogram\"},{\"alignmentgroup\":\"True\",\"bingroup\":\"x\",\"hovertemplate\":\"Marital_Status=In relationship\\u003cbr\\u003eage=%{x}\\u003cbr\\u003ecount=%{y}\\u003cextra\\u003e\\u003c\\u002fextra\\u003e\",\"legendgroup\":\"In relationship\",\"marker\":{\"color\":\"rgb(178,24,43)\",\"pattern\":{\"shape\":\"\"}},\"name\":\"In relationship\",\"offsetgroup\":\"In relationship\",\"orientation\":\"v\",\"showlegend\":true,\"x\":[48,30,33,46,28,39,64,30,36,25,32,66,64,30,34,63,60,62,37,24,48,50,42,67,43,37,33,28,55,38,16,45,58,48,35,57,46,37,65,42,47,55,43,58,39,54,38,62,40,37,48,44,40,50,53,43,41,47,55,40,44,31,62,30,34,68,55,34,49,44,52,34,51,32,44,35,46,44,60,28,48,61,52,58,61,45,50,49,46,54,37,51,25,36,37,32,39,48,61,45,40,60,64,36,67,30,41,47,57,49,31,44,55,37,64,44,55,62,38,26,67,30,53,29,47,37,49,34,24,25,40,36,34,59,59,35,25,48,57,60,44,39,28,37,65,32,26,44,44,33,35,36,40,28,42,48,38,31,54,23,54,50,41,60,24,43,54,45,51,44,34,61,47,51,42,43,43,39,54,50,33,32,36,66,40,39,39,61,57,29,44,32,43,48,60,27,57,36,29,52,49,21,46,24,47,58,41,62,42,39,56,29,63,57,42,30,40,48,43,63,40,48,38,56,27,38,58,43,70,65,55,36,34,45,53,50,30,37,52,44,28,39,45,52,63,35,34,67,46,22,41,28,32,47,53,49,39,49,36,58,51,71,38,20,42,41,31,32,39,72,60,28,25,25,45,23,46,49,57,42,27,24,65,67,40,37,60,44,33,36,40,29,62,30,50,51,39,58,63,41,38,33,31,35,57,37,40,35,40,38,52,37,39,45,54,58,42,65,69,62,52,22,27,57,37,21,32,49,55,67,52,54,70,22,59,25,26,55,37,53,37,51,62,47,61,36,31,37,24,33,46,41,50,64,60,31,43,54,35,42,44,64,62,42,38,46,43,32,36,46,43,47,57,38,62,46,62,31,43,52,59,54,37,37,41,38,44,35,31,52,64,47,37,49,39,46,39,37,52,52,58,37,52,43,56,44,51,42,52,66,66,42,43,37,55,27,38,64,61,54,66,49,28,32,57,53,39,45,42,49,33,40,49,28,31,58,46,30,25,44,55,61,52,54,36,27,65,42,27,60,31,37,35,47,59,30,48,36,48,58,48,22,59,35,65,40,62,24,43,57,35,50,61,38,60,41,55,44,35,35,40,49,34,55,32,25,58,35,25,48,57,34,62,41,55,60,56,38,42,41,26,54,36,68,55,35,60,40,45,43,62,55,37,43,56,41,32,58,27,44,38,42,35,41,50,54,59,30,46,33,46,57,63,38,31,53,44,33,60,55,48,40,41,28,46,24,45,45,26,23,40,35,33,30,38,35,60,30,35,37,33,43,54,51,40,31,57,39,55,46,40,44,40,28,21,41,59,53,31,59,66,28,33,36,37,40,23,43,42,43,51,60,25,32,36,35,38,38,37,47,41,43,38,34,54,40,39,39,32,26,45,24,41,52,53,48,62,59,63,39,35,44,40,31,35,57,40,32,26,59,59,61,46,33,38,44,43,63,49,44,40,41,39,60,48,34,46,48,42,45,36,41,56,43,60,55,58,52,27,47,53,28,47,49,48,64,30,38,62,26,63,55,50,51,36,43,46,57,61,55,52,32,37,35,41,56,31,36,55,31,41,54,49,31,34,34,27,43,42,62,43,40,49,42,30,30,47,35,33,58,37,62,36,36,40,44,52,60,24,40,32,56,59,48,33,38,54,37,38,53,62,49,56,47,18,39,41,45,44,65,18,40,22,57,34,53,60,32,63,56,48,50,40,44,48,44,42,36,54,55,56,57,48,23,57,48,56,58,41,44,40,49,22,40,32,54,26,38,59,27,30,38,43,58,41,24,46,67,34,45,41,39,48,61,46,41,42,57,39,38,44,31,53,49,43,65,70,47,42,38,49,38,29,55,62,61,40,44,41,41,57,41,60,35,47,68,42,60,29,33,47,37,49,32,41,54,48,58,25,48,41,41,30,53,55,46,40,51,32,38,68,35,43,51,34,38,31,31,52,35,63,23,54,30,37,57,25,49,30,35,44,21,62,40,56,53,44,28,42,43,57,54,39,66,42,37,32,35,41,40,42,42,57,43,51,42,61,42,45,62,60,62,35,41,45,70,47,66,42,41,42,45,53,43,39,41,30,28,34,51,27,50,30,61,64,33,67,55,41,55,31,41,41,49,47,45,41,38,54,59,36,27,60,61,64,43,43,36,43,54,59,43,53,52,32,33,36,44,68,58,41,42,25,35,23,55,43,53,25,38,35,39,40,41,37,42,55,26,47,28,36,50,35,41,42,41,36,54,53,37,55,39,24,41,25,52,34,27,26,38,49,56,52,38,46,50,30,37,24,29,60,62,56,58,27,35,53,32,67,21,58,66,48,60,49,33,26,50,58,24,48,54,41,39,48,56,53,53,50,36,41,50,34,36,29,30,49,56,48,42,30,50,62,32,37,66,44,55,35,65,58,68,45,37,45,31,34,33,39,32,36,59,60,41,45,46,54,43,46,62,27,58,42,21,38,37,34,35,43,57,31,61,45,45,28,22,41,30,36,59,41,39,29,56,47,36,41,28,54,35,46,28,37,39,36,34,30,57,52,62,50,53,48,50,55,42,50,30,66,60,65,67,64,51,38,45,59,41,49,38,36,27,57,31,53,38,67,61,47,57,35,40,29,44,54,42,39,30,33,34,63,51,61,53,50,33,38,38,62,63,55,58,46,45,21,30,31,57,53,52,45,34,44,27,55,38,54,51,40,36,34,43,56,57,31,56,48,37,51,23,48,38,34,52,37,41,27,46,42,30,45,41,37,56,62,28,45,57,38,31,24,25,28,34,63,49,27,46,59,42,28,54,33,54,41,45,23,47,42,36,43,43,48,39,66,32,46,62,37,55,40,30,63,30,36,30,40,59,37,36,38,48,36,66,41,51,36,42,38,42,44,49,35,29,63,51,55,35,22,27,58,42,53,34,37,37,40,42,36,42,48,36,32,38,30,46,40,36,31,58,62,48,35,48,63,27,58,37,38,29,63,35,29,31,32,34,41,55,40,66,62,61,63,44,44,31,35,38,65,60,30,34,64,57,44,30,36,42,59,39,52,25,44,20,55,42,44,38,63,63,38,36,37,38,65,28,40,41,26,51,64,31,61,39,59,44,32,62,36,37,32,56,57,41,47,27,47,39,64,32,49,43,57,43,54,40,51,55,40,38,37,31,39,59,48,34,56,29,39,62,59,38,42,58,39,41,50,57,53,42,58,57,42,65,55,55,40,59,39,35,23,32,60,49,33,37,58,30,35,27,34,34,51,44,34,34,42,36,39,46,68,58,58],\"xaxis\":\"x\",\"yaxis\":\"y\",\"type\":\"histogram\"},{\"alignmentgroup\":\"True\",\"bingroup\":\"x\",\"hovertemplate\":\"Marital_Status=Divorced\\u003cbr\\u003eage=%{x}\\u003cbr\\u003ecount=%{y}\\u003cextra\\u003e\\u003c\\u002fextra\\u003e\",\"legendgroup\":\"Divorced\",\"marker\":{\"color\":\"rgb(214,96,77)\",\"pattern\":{\"shape\":\"\"}},\"name\":\"Divorced\",\"offsetgroup\":\"Divorced\",\"orientation\":\"v\",\"showlegend\":true,\"x\":[41,54,61,25,60,70,37,47,35,27,41,37,36,48,38,60,54,62,35,50,58,50,60,51,39,33,45,50,45,64,25,49,56,38,49,52,37,52,44,27,61,44,37,45,57,43,47,54,41,41,48,36,69,51,36,53,49,47,50,43,57,35,52,62,53,43,57,39,50,45,37,52,40,36,45,44,62,52,43,38,64,65,40,45,36,47,54,51,37,32,42,38,70,56,27,43,38,30,34,37,40,56,45,54,49,34,35,60,60,57,55,43,41,47,56,56,38,59,40,50,61,51,25,36,32,52,42,54,45,33,56,42,36,43,50,41,30,38,44,34,41,43,43,51,39,36,45,52,59,40,42,45,59,41,46,41,50,63,36,41,48,62,37,52,37,60,63,27,41,58,50,59,49,53,46,38,32,26,61,55,58,59,44,44,34,38,59,42,58,46,42,38,47,49,62,38,46,42,46,64,42,48,47,38,50,46,49,54,55,63,60,39,37,44,39,42,41,37,60,46,40,45,50,59,43,45,42,50,58,64,33],\"xaxis\":\"x\",\"yaxis\":\"y\",\"type\":\"histogram\"},{\"alignmentgroup\":\"True\",\"bingroup\":\"x\",\"hovertemplate\":\"Marital_Status=Widow\\u003cbr\\u003eage=%{x}\\u003cbr\\u003ecount=%{y}\\u003cextra\\u003e\\u003c\\u002fextra\\u003e\",\"legendgroup\":\"Widow\",\"marker\":{\"color\":\"rgb(244,165,130)\",\"pattern\":{\"shape\":\"\"}},\"name\":\"Widow\",\"offsetgroup\":\"Widow\",\"orientation\":\"v\",\"showlegend\":true,\"x\":[41,57,62,52,59,45,48,46,41,45,58,64,64,56,42,60,59,38,43,50,57,41,69,35,65,38,42,64,38,57,55,47,42,50,53,58,56,68,70,43,51,55,61,64,64,66,54,56,41,64,49,66,63,52,64,41,48,60,39,53,50,63,62,64,64,51,64,66,55,62,54,70,58,44,44,64,66],\"xaxis\":\"x\",\"yaxis\":\"y\",\"type\":\"histogram\"},{\"alignmentgroup\":\"True\",\"bingroup\":\"x\",\"hovertemplate\":\"Marital_Status=Absurd\\u003cbr\\u003eage=%{x}\\u003cbr\\u003ecount=%{y}\\u003cextra\\u003e\\u003c\\u002fextra\\u003e\",\"legendgroup\":\"Absurd\",\"marker\":{\"color\":\"rgb(253,219,199)\",\"pattern\":{\"shape\":\"\"}},\"name\":\"Absurd\",\"offsetgroup\":\"Absurd\",\"orientation\":\"v\",\"showlegend\":true,\"x\":[19,57],\"xaxis\":\"x\",\"yaxis\":\"y\",\"type\":\"histogram\"},{\"alignmentgroup\":\"True\",\"bingroup\":\"x\",\"hovertemplate\":\"Marital_Status=YOLO\\u003cbr\\u003eage=%{x}\\u003cbr\\u003ecount=%{y}\\u003cextra\\u003e\\u003c\\u002fextra\\u003e\",\"legendgroup\":\"YOLO\",\"marker\":{\"color\":\"rgb(247,247,247)\",\"pattern\":{\"shape\":\"\"}},\"name\":\"YOLO\",\"offsetgroup\":\"YOLO\",\"orientation\":\"v\",\"showlegend\":true,\"x\":[39,39],\"xaxis\":\"x\",\"yaxis\":\"y\",\"type\":\"histogram\"}],                        {\"template\":{\"data\":{\"histogram2dcontour\":[{\"type\":\"histogram2dcontour\",\"colorbar\":{\"outlinewidth\":0,\"ticks\":\"\"},\"colorscale\":[[0.0,\"#0d0887\"],[0.1111111111111111,\"#46039f\"],[0.2222222222222222,\"#7201a8\"],[0.3333333333333333,\"#9c179e\"],[0.4444444444444444,\"#bd3786\"],[0.5555555555555556,\"#d8576b\"],[0.6666666666666666,\"#ed7953\"],[0.7777777777777778,\"#fb9f3a\"],[0.8888888888888888,\"#fdca26\"],[1.0,\"#f0f921\"]]}],\"choropleth\":[{\"type\":\"choropleth\",\"colorbar\":{\"outlinewidth\":0,\"ticks\":\"\"}}],\"histogram2d\":[{\"type\":\"histogram2d\",\"colorbar\":{\"outlinewidth\":0,\"ticks\":\"\"},\"colorscale\":[[0.0,\"#0d0887\"],[0.1111111111111111,\"#46039f\"],[0.2222222222222222,\"#7201a8\"],[0.3333333333333333,\"#9c179e\"],[0.4444444444444444,\"#bd3786\"],[0.5555555555555556,\"#d8576b\"],[0.6666666666666666,\"#ed7953\"],[0.7777777777777778,\"#fb9f3a\"],[0.8888888888888888,\"#fdca26\"],[1.0,\"#f0f921\"]]}],\"heatmap\":[{\"type\":\"heatmap\",\"colorbar\":{\"outlinewidth\":0,\"ticks\":\"\"},\"colorscale\":[[0.0,\"#0d0887\"],[0.1111111111111111,\"#46039f\"],[0.2222222222222222,\"#7201a8\"],[0.3333333333333333,\"#9c179e\"],[0.4444444444444444,\"#bd3786\"],[0.5555555555555556,\"#d8576b\"],[0.6666666666666666,\"#ed7953\"],[0.7777777777777778,\"#fb9f3a\"],[0.8888888888888888,\"#fdca26\"],[1.0,\"#f0f921\"]]}],\"heatmapgl\":[{\"type\":\"heatmapgl\",\"colorbar\":{\"outlinewidth\":0,\"ticks\":\"\"},\"colorscale\":[[0.0,\"#0d0887\"],[0.1111111111111111,\"#46039f\"],[0.2222222222222222,\"#7201a8\"],[0.3333333333333333,\"#9c179e\"],[0.4444444444444444,\"#bd3786\"],[0.5555555555555556,\"#d8576b\"],[0.6666666666666666,\"#ed7953\"],[0.7777777777777778,\"#fb9f3a\"],[0.8888888888888888,\"#fdca26\"],[1.0,\"#f0f921\"]]}],\"contourcarpet\":[{\"type\":\"contourcarpet\",\"colorbar\":{\"outlinewidth\":0,\"ticks\":\"\"}}],\"contour\":[{\"type\":\"contour\",\"colorbar\":{\"outlinewidth\":0,\"ticks\":\"\"},\"colorscale\":[[0.0,\"#0d0887\"],[0.1111111111111111,\"#46039f\"],[0.2222222222222222,\"#7201a8\"],[0.3333333333333333,\"#9c179e\"],[0.4444444444444444,\"#bd3786\"],[0.5555555555555556,\"#d8576b\"],[0.6666666666666666,\"#ed7953\"],[0.7777777777777778,\"#fb9f3a\"],[0.8888888888888888,\"#fdca26\"],[1.0,\"#f0f921\"]]}],\"surface\":[{\"type\":\"surface\",\"colorbar\":{\"outlinewidth\":0,\"ticks\":\"\"},\"colorscale\":[[0.0,\"#0d0887\"],[0.1111111111111111,\"#46039f\"],[0.2222222222222222,\"#7201a8\"],[0.3333333333333333,\"#9c179e\"],[0.4444444444444444,\"#bd3786\"],[0.5555555555555556,\"#d8576b\"],[0.6666666666666666,\"#ed7953\"],[0.7777777777777778,\"#fb9f3a\"],[0.8888888888888888,\"#fdca26\"],[1.0,\"#f0f921\"]]}],\"mesh3d\":[{\"type\":\"mesh3d\",\"colorbar\":{\"outlinewidth\":0,\"ticks\":\"\"}}],\"scatter\":[{\"fillpattern\":{\"fillmode\":\"overlay\",\"size\":10,\"solidity\":0.2},\"type\":\"scatter\"}],\"parcoords\":[{\"type\":\"parcoords\",\"line\":{\"colorbar\":{\"outlinewidth\":0,\"ticks\":\"\"}}}],\"scatterpolargl\":[{\"type\":\"scatterpolargl\",\"marker\":{\"colorbar\":{\"outlinewidth\":0,\"ticks\":\"\"}}}],\"bar\":[{\"error_x\":{\"color\":\"#2a3f5f\"},\"error_y\":{\"color\":\"#2a3f5f\"},\"marker\":{\"line\":{\"color\":\"#E5ECF6\",\"width\":0.5},\"pattern\":{\"fillmode\":\"overlay\",\"size\":10,\"solidity\":0.2}},\"type\":\"bar\"}],\"scattergeo\":[{\"type\":\"scattergeo\",\"marker\":{\"colorbar\":{\"outlinewidth\":0,\"ticks\":\"\"}}}],\"scatterpolar\":[{\"type\":\"scatterpolar\",\"marker\":{\"colorbar\":{\"outlinewidth\":0,\"ticks\":\"\"}}}],\"histogram\":[{\"marker\":{\"pattern\":{\"fillmode\":\"overlay\",\"size\":10,\"solidity\":0.2}},\"type\":\"histogram\"}],\"scattergl\":[{\"type\":\"scattergl\",\"marker\":{\"colorbar\":{\"outlinewidth\":0,\"ticks\":\"\"}}}],\"scatter3d\":[{\"type\":\"scatter3d\",\"line\":{\"colorbar\":{\"outlinewidth\":0,\"ticks\":\"\"}},\"marker\":{\"colorbar\":{\"outlinewidth\":0,\"ticks\":\"\"}}}],\"scattermapbox\":[{\"type\":\"scattermapbox\",\"marker\":{\"colorbar\":{\"outlinewidth\":0,\"ticks\":\"\"}}}],\"scatterternary\":[{\"type\":\"scatterternary\",\"marker\":{\"colorbar\":{\"outlinewidth\":0,\"ticks\":\"\"}}}],\"scattercarpet\":[{\"type\":\"scattercarpet\",\"marker\":{\"colorbar\":{\"outlinewidth\":0,\"ticks\":\"\"}}}],\"carpet\":[{\"aaxis\":{\"endlinecolor\":\"#2a3f5f\",\"gridcolor\":\"white\",\"linecolor\":\"white\",\"minorgridcolor\":\"white\",\"startlinecolor\":\"#2a3f5f\"},\"baxis\":{\"endlinecolor\":\"#2a3f5f\",\"gridcolor\":\"white\",\"linecolor\":\"white\",\"minorgridcolor\":\"white\",\"startlinecolor\":\"#2a3f5f\"},\"type\":\"carpet\"}],\"table\":[{\"cells\":{\"fill\":{\"color\":\"#EBF0F8\"},\"line\":{\"color\":\"white\"}},\"header\":{\"fill\":{\"color\":\"#C8D4E3\"},\"line\":{\"color\":\"white\"}},\"type\":\"table\"}],\"barpolar\":[{\"marker\":{\"line\":{\"color\":\"#E5ECF6\",\"width\":0.5},\"pattern\":{\"fillmode\":\"overlay\",\"size\":10,\"solidity\":0.2}},\"type\":\"barpolar\"}],\"pie\":[{\"automargin\":true,\"type\":\"pie\"}]},\"layout\":{\"autotypenumbers\":\"strict\",\"colorway\":[\"#636efa\",\"#EF553B\",\"#00cc96\",\"#ab63fa\",\"#FFA15A\",\"#19d3f3\",\"#FF6692\",\"#B6E880\",\"#FF97FF\",\"#FECB52\"],\"font\":{\"color\":\"#2a3f5f\"},\"hovermode\":\"closest\",\"hoverlabel\":{\"align\":\"left\"},\"paper_bgcolor\":\"white\",\"plot_bgcolor\":\"#E5ECF6\",\"polar\":{\"bgcolor\":\"#E5ECF6\",\"angularaxis\":{\"gridcolor\":\"white\",\"linecolor\":\"white\",\"ticks\":\"\"},\"radialaxis\":{\"gridcolor\":\"white\",\"linecolor\":\"white\",\"ticks\":\"\"}},\"ternary\":{\"bgcolor\":\"#E5ECF6\",\"aaxis\":{\"gridcolor\":\"white\",\"linecolor\":\"white\",\"ticks\":\"\"},\"baxis\":{\"gridcolor\":\"white\",\"linecolor\":\"white\",\"ticks\":\"\"},\"caxis\":{\"gridcolor\":\"white\",\"linecolor\":\"white\",\"ticks\":\"\"}},\"coloraxis\":{\"colorbar\":{\"outlinewidth\":0,\"ticks\":\"\"}},\"colorscale\":{\"sequential\":[[0.0,\"#0d0887\"],[0.1111111111111111,\"#46039f\"],[0.2222222222222222,\"#7201a8\"],[0.3333333333333333,\"#9c179e\"],[0.4444444444444444,\"#bd3786\"],[0.5555555555555556,\"#d8576b\"],[0.6666666666666666,\"#ed7953\"],[0.7777777777777778,\"#fb9f3a\"],[0.8888888888888888,\"#fdca26\"],[1.0,\"#f0f921\"]],\"sequentialminus\":[[0.0,\"#0d0887\"],[0.1111111111111111,\"#46039f\"],[0.2222222222222222,\"#7201a8\"],[0.3333333333333333,\"#9c179e\"],[0.4444444444444444,\"#bd3786\"],[0.5555555555555556,\"#d8576b\"],[0.6666666666666666,\"#ed7953\"],[0.7777777777777778,\"#fb9f3a\"],[0.8888888888888888,\"#fdca26\"],[1.0,\"#f0f921\"]],\"diverging\":[[0,\"#8e0152\"],[0.1,\"#c51b7d\"],[0.2,\"#de77ae\"],[0.3,\"#f1b6da\"],[0.4,\"#fde0ef\"],[0.5,\"#f7f7f7\"],[0.6,\"#e6f5d0\"],[0.7,\"#b8e186\"],[0.8,\"#7fbc41\"],[0.9,\"#4d9221\"],[1,\"#276419\"]]},\"xaxis\":{\"gridcolor\":\"white\",\"linecolor\":\"white\",\"ticks\":\"\",\"title\":{\"standoff\":15},\"zerolinecolor\":\"white\",\"automargin\":true,\"zerolinewidth\":2},\"yaxis\":{\"gridcolor\":\"white\",\"linecolor\":\"white\",\"ticks\":\"\",\"title\":{\"standoff\":15},\"zerolinecolor\":\"white\",\"automargin\":true,\"zerolinewidth\":2},\"scene\":{\"xaxis\":{\"backgroundcolor\":\"#E5ECF6\",\"gridcolor\":\"white\",\"linecolor\":\"white\",\"showbackground\":true,\"ticks\":\"\",\"zerolinecolor\":\"white\",\"gridwidth\":2},\"yaxis\":{\"backgroundcolor\":\"#E5ECF6\",\"gridcolor\":\"white\",\"linecolor\":\"white\",\"showbackground\":true,\"ticks\":\"\",\"zerolinecolor\":\"white\",\"gridwidth\":2},\"zaxis\":{\"backgroundcolor\":\"#E5ECF6\",\"gridcolor\":\"white\",\"linecolor\":\"white\",\"showbackground\":true,\"ticks\":\"\",\"zerolinecolor\":\"white\",\"gridwidth\":2}},\"shapedefaults\":{\"line\":{\"color\":\"#2a3f5f\"}},\"annotationdefaults\":{\"arrowcolor\":\"#2a3f5f\",\"arrowhead\":0,\"arrowwidth\":1},\"geo\":{\"bgcolor\":\"white\",\"landcolor\":\"#E5ECF6\",\"subunitcolor\":\"white\",\"showland\":true,\"showlakes\":true,\"lakecolor\":\"white\"},\"title\":{\"x\":0.05},\"mapbox\":{\"style\":\"light\"}}},\"xaxis\":{\"anchor\":\"y\",\"domain\":[0.0,1.0],\"title\":{\"text\":\"age\"}},\"yaxis\":{\"anchor\":\"x\",\"domain\":[0.0,1.0],\"title\":{\"text\":\"count\"}},\"legend\":{\"title\":{\"text\":\"Marital_Status\"},\"tracegroupgap\":0},\"title\":{\"text\":\"Age Distribution by Marital Status\"},\"barmode\":\"relative\"},                        {\"responsive\": true}                    ).then(function(){\n",
              "                            \n",
              "var gd = document.getElementById('7bb9e898-bf5b-47ce-83c6-d527c741cd16');\n",
              "var x = new MutationObserver(function (mutations, observer) {{\n",
              "        var display = window.getComputedStyle(gd).display;\n",
              "        if (!display || display === 'none') {{\n",
              "            console.log([gd, 'removed!']);\n",
              "            Plotly.purge(gd);\n",
              "            observer.disconnect();\n",
              "        }}\n",
              "}});\n",
              "\n",
              "// Listen for the removal of the full notebook cells\n",
              "var notebookContainer = gd.closest('#notebook-container');\n",
              "if (notebookContainer) {{\n",
              "    x.observe(notebookContainer, {childList: true});\n",
              "}}\n",
              "\n",
              "// Listen for the clearing of the current output cell\n",
              "var outputEl = gd.closest('.output');\n",
              "if (outputEl) {{\n",
              "    x.observe(outputEl, {childList: true});\n",
              "}}\n",
              "\n",
              "                        })                };                            </script>        </div>\n",
              "</body>\n",
              "</html>"
            ]
          },
          "metadata": {}
        },
        {
          "output_type": "display_data",
          "data": {
            "text/html": [
              "<html>\n",
              "<head><meta charset=\"utf-8\" /></head>\n",
              "<body>\n",
              "    <div>            <script src=\"https://cdnjs.cloudflare.com/ajax/libs/mathjax/2.7.5/MathJax.js?config=TeX-AMS-MML_SVG\"></script><script type=\"text/javascript\">if (window.MathJax && window.MathJax.Hub && window.MathJax.Hub.Config) {window.MathJax.Hub.Config({SVG: {font: \"STIX-Web\"}});}</script>                <script type=\"text/javascript\">window.PlotlyConfig = {MathJaxConfig: 'local'};</script>\n",
              "        <script charset=\"utf-8\" src=\"https://cdn.plot.ly/plotly-2.24.1.min.js\"></script>                <div id=\"bbee117b-e9be-4ced-aa61-e4d83a9117d8\" class=\"plotly-graph-div\" style=\"height:525px; width:100%;\"></div>            <script type=\"text/javascript\">                                    window.PLOTLYENV=window.PLOTLYENV || {};                                    if (document.getElementById(\"bbee117b-e9be-4ced-aa61-e4d83a9117d8\")) {                    Plotly.newPlot(                        \"bbee117b-e9be-4ced-aa61-e4d83a9117d8\",                        [{\"alignmentgroup\":\"True\",\"bingroup\":\"x\",\"hovertemplate\":\"Education=Undergraduate\\u003cbr\\u003eage=%{x}\\u003cbr\\u003ecount=%{y}\\u003cextra\\u003e\\u003c\\u002fextra\\u003e\",\"legendgroup\":\"Undergraduate\",\"marker\":{\"color\":\"#440154\",\"pattern\":{\"shape\":\"\"}},\"name\":\"Undergraduate\",\"offsetgroup\":\"Undergraduate\",\"orientation\":\"v\",\"showlegend\":true,\"x\":[55,60,48,30,41,30,36,54,25,32,66,27,30,34,62,44,37,27,24,42,37,41,33,55,38,16,45,63,57,36,37,35,47,26,31,37,61,65,42,47,35,55,43,39,54,62,35,36,37,48,27,44,40,27,53,57,41,47,57,31,52,41,62,53,34,55,34,49,44,34,34,22,51,44,35,46,44,37,30,48,29,61,45,50,36,51,25,36,37,32,39,45,40,26,64,55,35,36,58,30,47,60,54,25,57,49,31,44,47,55,62,26,53,29,47,37,34,113,25,40,36,59,59,62,45,35,25,48,58,57,60,28,37,36,32,26,44,50,35,36,60,47,51,42,63,38,40,121,45,54,42,23,54,41,60,28,39,54,45,48,49,33,51,43,43,59,54,50,57,32,36,66,39,61,48,29,44,32,43,48,25,31,56,57,26,29,46,67,38,46,24,47,41,27,62,43,42,39,60,56,29,30,30,52,44,40,48,24,27,40,61,48,44,41,56,27,38,35,58,55,36,45,43,53,37,50,30,37,46,43,23,44,28,58,39,42,52,63,35,21,41,28,25,32,57,47,39,53,49,49,30,36,25,51,38,20,32,31,60,28,25,25,45,23,46,49,44,47,27,24,67,23,40,54,49,37,58,44,33,36,40,46,62,30,50,64,51,39,42,63,38,33,35,26,57,35,38,38,39,45,60,36,58,36,69,62,22,59,37,24,21,53,34,49,52,23,54,49,22,59,25,26,48,38,44,51,31,47,47,61,36,43,37,24,50,33,46,51,25,50,60,31,43,54,35,33,44,50,34,42,38,35,46,43,62,46,31,43,57,59,54,37,43,35,31,52,52,58,41,57,37,49,39,46,39,35,42,65,35,58,37,38,52,35,44,54,40,52,61,51,42,52,49,43,55,27,38,57,39,61,54,49,28,38,32,53,26,42,42,33,40,35,28,50,45,31,58,46,43,61,19,52,54,40,36,36,27,62,27,38,60,31,52,35,43,56,59,48,36,48,58,22,35,40,65,40,24,43,35,50,61,38,19,43,60,38,44,35,35,49,32,47,62,58,35,25,48,34,48,41,60,42,38,44,42,41,26,36,63,35,52,47,40,45,57,62,55,56,41,41,32,41,39,38,58,42,35,41,53,50,54,54,59,51,30,20,33,46,57,32,33,37,63,38,26,31,53,44,21,50,33,39,55,34,28,46,24,45,26,23,38,35,33,55,38,33,60,30,35,42,37,38,33,54,51,40,31,23,57,56,27,55,43,46,40,44,37,52,42,40,21,18,59,59,20,28,36,31,21,25,23,62,42,42,61,30,60,26,32,34,36,37,47,60,41,45,34,54,40,39,32,26,24,54,52,62,59,53,49,35,63,44,37,60,40,25,60,19,35,57,40,57,32,26,59,61,46,33,35,49,44,40,37,41,34,35,26,48,42,42,45,36,41,32,60,55,58,21,52,27,28,47,49,43,27,38,60,26,55,51,22,47,56,36,46,57,61,55,52,37,49,41,56,31,36,43,31,54,34,56,26,34,38,34,27,43,42,43,40,49,59,30,42,47,35,45,34,58,50,46,37,28,61,46,36,36,28,40,52,24,36,68,32,56,26,48,33,38,37,38,53,62,49,56,47,18,41,45,44,65,45,18,40,34,32,32,63,56,55,43,28,48,40,54,62,48,51,36,54,33,23,48,56,58,41,44,40,38,48,50,26,40,56,32,26,42,36,30,43,41,24,61,30,52,43,20,45,39,61,41,50,57,39,38,44,53,62,38,43,56,70,40,42,49,34,38,29,41,61,43,44,41,57,42,41,47,68,34,60,29,43,33,47,37,32,41,58,25,48,41,41,30,46,35,40,32,35,43,51,65,38,31,61,30,52,23,31,38,54,37,20,25,49,30,51,35,50,44,21,39,62,36,37,40,56,39,53,52,38,28,57,54,50,39,66,37,32,35,40,37,40,42,51,42,61,55,62,41,70,23,34,47,66,42,41,41,46,53,43,56,41,41,28,40,46,34,51,27,50,30,61,33,67,55,41,55,41,41,49,60,45,41,41,44,54,36,60,61,43,43,36,47,54,59,34,52,32,33,36,58,25,35,23,55,36,53,25,41,35,37,55,26,47,28,36,34,50,35,42,42,38,40,36,54,53,37,55,24,24,24,25,34,48,26,49,56,38,49,56,52,38,37,52,30,24,60,29,61,60,58,35,32,21,58,63,27,49,33,26,58,24,29,41,53,53,36,23,24,34,23,38,36,29,30,27,49,42,30,54,50,32,37,35,59,68,45,31,34,33,33,46,32,51,49,36,41,33,45,38,48,28,62,58,42,21,38,34,34,35,43,61,45,45,42,24,62,31,22,61,41,36,24,39,47,36,28,35,46,22,28,57,37,39,34,22,57,48,62,53,58,48,55,59,47,50,55,50,30,66,60,65,44,38,34,41,34,45,41,49,34,38,36,27,57,31,53,27,47,57,27,29,33,44,54,42,45,39,30,33,34,63,51,38,61,58,50,33,38,38,47,63,55,49,58,46,21,59,31,62,57,52,45,34,44,27,26,54,40,36,34,56,57,23,26,17,38,52,27,38,34,42,30,39,30,37,49,42,62,27,56,38,28,38,31,28,46,40,64,34,31,42,46,59,28,54,54,42,45,44,23,37,37,42,56,54,43,55,62,37,40,63,35,30,62,30,45,59,37,63,38,56,23,36,61,48,66,41,51,64,47,31,42,38,42,44,49,35,29,63,38,55,35,22,27,58,56,53,34,37,34,43,42,48,36,42,49,55,27,36,32,54,38,30,46,63,40,36,58,48,60,27,58,37,38,29,63,35,62,29,31,22,42,32,41,43,55,40,42,66,62,38,55,61,48,39,63,44,35,38,62,65,30,34,64,57,44,30,44,54,42,39,58,52,25,44,20,55,33,44,38,19,38,57,37,28,41,26,42,51,58,61,32,41,37,32,56,57,41,47,39,37,32,49,44,44,40,43,45,57,41,56,40,38,44,31,50,49,34,56,64,21,59,29,32,49,43,39,62,59,42,58,39,50,35,57,53,42,42,65,55,55,40,40,59,39,23,43,35,23,44,32,60,49,50,58,33,17,37,58,30,35,34,34,44,34,51,34,42,29,26,36,39,46,33],\"xaxis\":\"x\",\"yaxis\":\"y\",\"type\":\"histogram\"},{\"alignmentgroup\":\"True\",\"bingroup\":\"x\",\"hovertemplate\":\"Education=Postgraduate\\u003cbr\\u003eage=%{x}\\u003cbr\\u003ecount=%{y}\\u003cextra\\u003e\\u003c\\u002fextra\\u003e\",\"legendgroup\":\"Postgraduate\",\"marker\":{\"color\":\"#482878\",\"pattern\":{\"shape\":\"\"}},\"name\":\"Postgraduate\",\"offsetgroup\":\"Postgraduate\",\"orientation\":\"v\",\"showlegend\":true,\"x\":[33,46,28,39,64,61,66,64,63,60,48,25,50,60,67,62,43,70,28,54,38,58,48,57,46,31,62,58,38,40,50,43,55,40,42,44,30,55,68,52,21,51,32,60,47,28,61,52,58,55,49,46,54,41,48,20,37,39,48,61,60,55,67,38,41,55,37,64,44,38,67,30,44,49,24,34,41,35,48,28,50,44,39,65,59,44,33,40,28,48,31,55,50,24,43,38,38,51,56,45,44,34,61,47,42,31,39,50,33,27,45,40,39,57,64,60,27,49,36,52,49,21,37,58,49,52,37,63,27,24,57,42,114,43,63,38,47,36,43,70,65,45,34,37,43,41,37,52,44,33,45,45,34,67,46,22,58,40,43,39,58,71,42,41,32,39,72,52,57,64,42,65,41,60,42,29,56,45,58,41,31,42,37,40,40,41,52,48,37,54,49,69,51,42,65,52,27,57,32,55,67,38,70,27,55,37,53,37,62,32,28,31,41,43,64,35,42,50,64,62,46,43,32,36,47,57,38,62,52,28,37,48,41,38,44,64,47,26,44,69,43,48,37,52,52,35,43,56,62,66,53,66,42,43,37,54,64,66,47,57,39,45,49,51,37,49,33,37,40,30,25,44,52,55,64,52,64,26,45,44,65,42,47,37,47,30,38,48,64,59,65,62,60,57,64,41,55,40,34,55,25,35,57,62,55,48,56,58,40,54,45,36,68,55,51,60,43,69,37,43,58,27,44,33,55,37,46,41,56,60,48,40,41,45,40,47,27,30,35,42,58,40,43,59,35,47,70,40,39,28,47,50,41,53,31,59,59,44,66,33,37,40,61,43,43,38,51,25,35,38,40,42,38,37,56,52,43,38,39,45,41,53,48,34,39,35,58,31,56,26,59,59,50,38,44,43,63,39,60,48,46,55,56,41,43,47,47,53,48,64,30,62,63,26,41,50,43,32,46,35,43,55,56,41,40,41,49,31,53,62,41,54,29,30,30,33,40,62,44,51,25,60,51,40,59,70,54,51,39,22,57,53,60,23,52,61,50,42,43,44,45,44,42,55,56,57,48,57,49,22,55,54,58,38,59,27,38,58,46,67,34,41,48,46,42,41,30,31,49,65,50,47,44,38,55,62,40,41,36,51,60,35,42,49,54,56,48,51,53,55,51,38,31,68,34,31,35,63,30,51,57,68,42,54,45,48,52,44,42,43,59,42,41,42,42,57,45,43,42,45,62,60,59,35,45,42,45,39,41,30,64,64,31,46,47,38,64,59,27,50,64,43,56,43,26,53,37,44,68,41,42,63,43,38,39,57,40,41,42,37,41,30,41,66,27,39,37,54,41,46,52,60,27,62,46,50,37,37,48,62,56,66,23,27,53,67,37,66,48,41,60,50,48,47,39,54,39,48,56,58,50,41,50,56,48,62,41,50,66,44,55,65,58,37,45,49,53,39,64,66,36,59,60,55,24,46,54,43,46,28,27,37,57,31,32,26,28,30,55,63,59,41,29,56,41,54,36,30,52,32,35,52,50,42,69,44,67,64,51,64,42,59,34,38,38,67,61,35,40,38,51,53,37,62,47,38,49,45,30,53,42,42,48,55,38,51,43,58,31,60,46,56,48,37,51,48,34,29,42,61,37,41,46,45,41,47,65,53,62,28,45,46,44,29,57,42,24,25,60,69,63,49,27,42,33,41,50,32,47,70,36,43,48,39,66,32,46,57,63,55,30,36,40,73,36,49,64,64,48,51,36,45,28,38,51,50,42,66,37,40,46,41,54,48,31,62,48,35,63,66,34,59,37,44,32,31,60,26,36,59,70,42,39,63,63,36,38,65,40,51,64,31,39,59,44,62,51,36,27,47,37,64,57,60,46,43,54,40,51,55,37,39,59,48,39,23,38,45,39,41,42,58,57,30,61,39,64,66,27,31,51,44,42,68,58,58],\"xaxis\":\"x\",\"yaxis\":\"y\",\"type\":\"histogram\"}],                        {\"template\":{\"data\":{\"histogram2dcontour\":[{\"type\":\"histogram2dcontour\",\"colorbar\":{\"outlinewidth\":0,\"ticks\":\"\"},\"colorscale\":[[0.0,\"#0d0887\"],[0.1111111111111111,\"#46039f\"],[0.2222222222222222,\"#7201a8\"],[0.3333333333333333,\"#9c179e\"],[0.4444444444444444,\"#bd3786\"],[0.5555555555555556,\"#d8576b\"],[0.6666666666666666,\"#ed7953\"],[0.7777777777777778,\"#fb9f3a\"],[0.8888888888888888,\"#fdca26\"],[1.0,\"#f0f921\"]]}],\"choropleth\":[{\"type\":\"choropleth\",\"colorbar\":{\"outlinewidth\":0,\"ticks\":\"\"}}],\"histogram2d\":[{\"type\":\"histogram2d\",\"colorbar\":{\"outlinewidth\":0,\"ticks\":\"\"},\"colorscale\":[[0.0,\"#0d0887\"],[0.1111111111111111,\"#46039f\"],[0.2222222222222222,\"#7201a8\"],[0.3333333333333333,\"#9c179e\"],[0.4444444444444444,\"#bd3786\"],[0.5555555555555556,\"#d8576b\"],[0.6666666666666666,\"#ed7953\"],[0.7777777777777778,\"#fb9f3a\"],[0.8888888888888888,\"#fdca26\"],[1.0,\"#f0f921\"]]}],\"heatmap\":[{\"type\":\"heatmap\",\"colorbar\":{\"outlinewidth\":0,\"ticks\":\"\"},\"colorscale\":[[0.0,\"#0d0887\"],[0.1111111111111111,\"#46039f\"],[0.2222222222222222,\"#7201a8\"],[0.3333333333333333,\"#9c179e\"],[0.4444444444444444,\"#bd3786\"],[0.5555555555555556,\"#d8576b\"],[0.6666666666666666,\"#ed7953\"],[0.7777777777777778,\"#fb9f3a\"],[0.8888888888888888,\"#fdca26\"],[1.0,\"#f0f921\"]]}],\"heatmapgl\":[{\"type\":\"heatmapgl\",\"colorbar\":{\"outlinewidth\":0,\"ticks\":\"\"},\"colorscale\":[[0.0,\"#0d0887\"],[0.1111111111111111,\"#46039f\"],[0.2222222222222222,\"#7201a8\"],[0.3333333333333333,\"#9c179e\"],[0.4444444444444444,\"#bd3786\"],[0.5555555555555556,\"#d8576b\"],[0.6666666666666666,\"#ed7953\"],[0.7777777777777778,\"#fb9f3a\"],[0.8888888888888888,\"#fdca26\"],[1.0,\"#f0f921\"]]}],\"contourcarpet\":[{\"type\":\"contourcarpet\",\"colorbar\":{\"outlinewidth\":0,\"ticks\":\"\"}}],\"contour\":[{\"type\":\"contour\",\"colorbar\":{\"outlinewidth\":0,\"ticks\":\"\"},\"colorscale\":[[0.0,\"#0d0887\"],[0.1111111111111111,\"#46039f\"],[0.2222222222222222,\"#7201a8\"],[0.3333333333333333,\"#9c179e\"],[0.4444444444444444,\"#bd3786\"],[0.5555555555555556,\"#d8576b\"],[0.6666666666666666,\"#ed7953\"],[0.7777777777777778,\"#fb9f3a\"],[0.8888888888888888,\"#fdca26\"],[1.0,\"#f0f921\"]]}],\"surface\":[{\"type\":\"surface\",\"colorbar\":{\"outlinewidth\":0,\"ticks\":\"\"},\"colorscale\":[[0.0,\"#0d0887\"],[0.1111111111111111,\"#46039f\"],[0.2222222222222222,\"#7201a8\"],[0.3333333333333333,\"#9c179e\"],[0.4444444444444444,\"#bd3786\"],[0.5555555555555556,\"#d8576b\"],[0.6666666666666666,\"#ed7953\"],[0.7777777777777778,\"#fb9f3a\"],[0.8888888888888888,\"#fdca26\"],[1.0,\"#f0f921\"]]}],\"mesh3d\":[{\"type\":\"mesh3d\",\"colorbar\":{\"outlinewidth\":0,\"ticks\":\"\"}}],\"scatter\":[{\"fillpattern\":{\"fillmode\":\"overlay\",\"size\":10,\"solidity\":0.2},\"type\":\"scatter\"}],\"parcoords\":[{\"type\":\"parcoords\",\"line\":{\"colorbar\":{\"outlinewidth\":0,\"ticks\":\"\"}}}],\"scatterpolargl\":[{\"type\":\"scatterpolargl\",\"marker\":{\"colorbar\":{\"outlinewidth\":0,\"ticks\":\"\"}}}],\"bar\":[{\"error_x\":{\"color\":\"#2a3f5f\"},\"error_y\":{\"color\":\"#2a3f5f\"},\"marker\":{\"line\":{\"color\":\"#E5ECF6\",\"width\":0.5},\"pattern\":{\"fillmode\":\"overlay\",\"size\":10,\"solidity\":0.2}},\"type\":\"bar\"}],\"scattergeo\":[{\"type\":\"scattergeo\",\"marker\":{\"colorbar\":{\"outlinewidth\":0,\"ticks\":\"\"}}}],\"scatterpolar\":[{\"type\":\"scatterpolar\",\"marker\":{\"colorbar\":{\"outlinewidth\":0,\"ticks\":\"\"}}}],\"histogram\":[{\"marker\":{\"pattern\":{\"fillmode\":\"overlay\",\"size\":10,\"solidity\":0.2}},\"type\":\"histogram\"}],\"scattergl\":[{\"type\":\"scattergl\",\"marker\":{\"colorbar\":{\"outlinewidth\":0,\"ticks\":\"\"}}}],\"scatter3d\":[{\"type\":\"scatter3d\",\"line\":{\"colorbar\":{\"outlinewidth\":0,\"ticks\":\"\"}},\"marker\":{\"colorbar\":{\"outlinewidth\":0,\"ticks\":\"\"}}}],\"scattermapbox\":[{\"type\":\"scattermapbox\",\"marker\":{\"colorbar\":{\"outlinewidth\":0,\"ticks\":\"\"}}}],\"scatterternary\":[{\"type\":\"scatterternary\",\"marker\":{\"colorbar\":{\"outlinewidth\":0,\"ticks\":\"\"}}}],\"scattercarpet\":[{\"type\":\"scattercarpet\",\"marker\":{\"colorbar\":{\"outlinewidth\":0,\"ticks\":\"\"}}}],\"carpet\":[{\"aaxis\":{\"endlinecolor\":\"#2a3f5f\",\"gridcolor\":\"white\",\"linecolor\":\"white\",\"minorgridcolor\":\"white\",\"startlinecolor\":\"#2a3f5f\"},\"baxis\":{\"endlinecolor\":\"#2a3f5f\",\"gridcolor\":\"white\",\"linecolor\":\"white\",\"minorgridcolor\":\"white\",\"startlinecolor\":\"#2a3f5f\"},\"type\":\"carpet\"}],\"table\":[{\"cells\":{\"fill\":{\"color\":\"#EBF0F8\"},\"line\":{\"color\":\"white\"}},\"header\":{\"fill\":{\"color\":\"#C8D4E3\"},\"line\":{\"color\":\"white\"}},\"type\":\"table\"}],\"barpolar\":[{\"marker\":{\"line\":{\"color\":\"#E5ECF6\",\"width\":0.5},\"pattern\":{\"fillmode\":\"overlay\",\"size\":10,\"solidity\":0.2}},\"type\":\"barpolar\"}],\"pie\":[{\"automargin\":true,\"type\":\"pie\"}]},\"layout\":{\"autotypenumbers\":\"strict\",\"colorway\":[\"#636efa\",\"#EF553B\",\"#00cc96\",\"#ab63fa\",\"#FFA15A\",\"#19d3f3\",\"#FF6692\",\"#B6E880\",\"#FF97FF\",\"#FECB52\"],\"font\":{\"color\":\"#2a3f5f\"},\"hovermode\":\"closest\",\"hoverlabel\":{\"align\":\"left\"},\"paper_bgcolor\":\"white\",\"plot_bgcolor\":\"#E5ECF6\",\"polar\":{\"bgcolor\":\"#E5ECF6\",\"angularaxis\":{\"gridcolor\":\"white\",\"linecolor\":\"white\",\"ticks\":\"\"},\"radialaxis\":{\"gridcolor\":\"white\",\"linecolor\":\"white\",\"ticks\":\"\"}},\"ternary\":{\"bgcolor\":\"#E5ECF6\",\"aaxis\":{\"gridcolor\":\"white\",\"linecolor\":\"white\",\"ticks\":\"\"},\"baxis\":{\"gridcolor\":\"white\",\"linecolor\":\"white\",\"ticks\":\"\"},\"caxis\":{\"gridcolor\":\"white\",\"linecolor\":\"white\",\"ticks\":\"\"}},\"coloraxis\":{\"colorbar\":{\"outlinewidth\":0,\"ticks\":\"\"}},\"colorscale\":{\"sequential\":[[0.0,\"#0d0887\"],[0.1111111111111111,\"#46039f\"],[0.2222222222222222,\"#7201a8\"],[0.3333333333333333,\"#9c179e\"],[0.4444444444444444,\"#bd3786\"],[0.5555555555555556,\"#d8576b\"],[0.6666666666666666,\"#ed7953\"],[0.7777777777777778,\"#fb9f3a\"],[0.8888888888888888,\"#fdca26\"],[1.0,\"#f0f921\"]],\"sequentialminus\":[[0.0,\"#0d0887\"],[0.1111111111111111,\"#46039f\"],[0.2222222222222222,\"#7201a8\"],[0.3333333333333333,\"#9c179e\"],[0.4444444444444444,\"#bd3786\"],[0.5555555555555556,\"#d8576b\"],[0.6666666666666666,\"#ed7953\"],[0.7777777777777778,\"#fb9f3a\"],[0.8888888888888888,\"#fdca26\"],[1.0,\"#f0f921\"]],\"diverging\":[[0,\"#8e0152\"],[0.1,\"#c51b7d\"],[0.2,\"#de77ae\"],[0.3,\"#f1b6da\"],[0.4,\"#fde0ef\"],[0.5,\"#f7f7f7\"],[0.6,\"#e6f5d0\"],[0.7,\"#b8e186\"],[0.8,\"#7fbc41\"],[0.9,\"#4d9221\"],[1,\"#276419\"]]},\"xaxis\":{\"gridcolor\":\"white\",\"linecolor\":\"white\",\"ticks\":\"\",\"title\":{\"standoff\":15},\"zerolinecolor\":\"white\",\"automargin\":true,\"zerolinewidth\":2},\"yaxis\":{\"gridcolor\":\"white\",\"linecolor\":\"white\",\"ticks\":\"\",\"title\":{\"standoff\":15},\"zerolinecolor\":\"white\",\"automargin\":true,\"zerolinewidth\":2},\"scene\":{\"xaxis\":{\"backgroundcolor\":\"#E5ECF6\",\"gridcolor\":\"white\",\"linecolor\":\"white\",\"showbackground\":true,\"ticks\":\"\",\"zerolinecolor\":\"white\",\"gridwidth\":2},\"yaxis\":{\"backgroundcolor\":\"#E5ECF6\",\"gridcolor\":\"white\",\"linecolor\":\"white\",\"showbackground\":true,\"ticks\":\"\",\"zerolinecolor\":\"white\",\"gridwidth\":2},\"zaxis\":{\"backgroundcolor\":\"#E5ECF6\",\"gridcolor\":\"white\",\"linecolor\":\"white\",\"showbackground\":true,\"ticks\":\"\",\"zerolinecolor\":\"white\",\"gridwidth\":2}},\"shapedefaults\":{\"line\":{\"color\":\"#2a3f5f\"}},\"annotationdefaults\":{\"arrowcolor\":\"#2a3f5f\",\"arrowhead\":0,\"arrowwidth\":1},\"geo\":{\"bgcolor\":\"white\",\"landcolor\":\"#E5ECF6\",\"subunitcolor\":\"white\",\"showland\":true,\"showlakes\":true,\"lakecolor\":\"white\"},\"title\":{\"x\":0.05},\"mapbox\":{\"style\":\"light\"}}},\"xaxis\":{\"anchor\":\"y\",\"domain\":[0.0,1.0],\"title\":{\"text\":\"age\"}},\"yaxis\":{\"anchor\":\"x\",\"domain\":[0.0,1.0],\"title\":{\"text\":\"count\"}},\"legend\":{\"title\":{\"text\":\"Education\"},\"tracegroupgap\":0},\"title\":{\"text\":\"Age & Education Distribution of Customers\"},\"barmode\":\"relative\"},                        {\"responsive\": true}                    ).then(function(){\n",
              "                            \n",
              "var gd = document.getElementById('bbee117b-e9be-4ced-aa61-e4d83a9117d8');\n",
              "var x = new MutationObserver(function (mutations, observer) {{\n",
              "        var display = window.getComputedStyle(gd).display;\n",
              "        if (!display || display === 'none') {{\n",
              "            console.log([gd, 'removed!']);\n",
              "            Plotly.purge(gd);\n",
              "            observer.disconnect();\n",
              "        }}\n",
              "}});\n",
              "\n",
              "// Listen for the removal of the full notebook cells\n",
              "var notebookContainer = gd.closest('#notebook-container');\n",
              "if (notebookContainer) {{\n",
              "    x.observe(notebookContainer, {childList: true});\n",
              "}}\n",
              "\n",
              "// Listen for the clearing of the current output cell\n",
              "var outputEl = gd.closest('.output');\n",
              "if (outputEl) {{\n",
              "    x.observe(outputEl, {childList: true});\n",
              "}}\n",
              "\n",
              "                        })                };                            </script>        </div>\n",
              "</body>\n",
              "</html>"
            ]
          },
          "metadata": {}
        }
      ]
    },
    {
      "cell_type": "markdown",
      "source": [
        "*Promotion response*"
      ],
      "metadata": {
        "id": "UZqJiznG5TD3"
      },
      "id": "UZqJiznG5TD3"
    },
    {
      "cell_type": "code",
      "source": [
        "campaign_cols = ['AcceptedCmp3', 'AcceptedCmp4', 'AcceptedCmp5', 'AcceptedCmp1', 'AcceptedCmp2']\n",
        "\n",
        "# Calculate acceptance rates\n",
        "acceptance_rates = customer_data[campaign_cols].mean()\n",
        "\n",
        "# Create a radar plot\n",
        "fig = go.Figure(data=go.Scatterpolar(\n",
        "    r=acceptance_rates,\n",
        "    theta=campaign_cols,\n",
        "    fill='toself',\n",
        "    line_color='darkblue',\n",
        "    marker=dict(color='darkblue'),\n",
        "))\n",
        "\n",
        "fig.update_layout(\n",
        "    polar=dict(\n",
        "        radialaxis=dict(visible=True, range=[0, 0.1]),  # Set the range for the radial axis\n",
        "    ),\n",
        "    title='Acceptance Rate of Each Campaign',\n",
        ")\n",
        "\n",
        "fig.show()"
      ],
      "metadata": {
        "colab": {
          "base_uri": "https://localhost:8080/",
          "height": 542
        },
        "id": "VzCk667H5Ulv",
        "outputId": "8945d2b8-2629-4647-de20-251eeffa6c6f"
      },
      "id": "VzCk667H5Ulv",
      "execution_count": null,
      "outputs": [
        {
          "output_type": "display_data",
          "data": {
            "text/html": [
              "<html>\n",
              "<head><meta charset=\"utf-8\" /></head>\n",
              "<body>\n",
              "    <div>            <script src=\"https://cdnjs.cloudflare.com/ajax/libs/mathjax/2.7.5/MathJax.js?config=TeX-AMS-MML_SVG\"></script><script type=\"text/javascript\">if (window.MathJax && window.MathJax.Hub && window.MathJax.Hub.Config) {window.MathJax.Hub.Config({SVG: {font: \"STIX-Web\"}});}</script>                <script type=\"text/javascript\">window.PlotlyConfig = {MathJaxConfig: 'local'};</script>\n",
              "        <script charset=\"utf-8\" src=\"https://cdn.plot.ly/plotly-2.24.1.min.js\"></script>                <div id=\"514fe59c-3c48-472d-a604-a12a02848497\" class=\"plotly-graph-div\" style=\"height:525px; width:100%;\"></div>            <script type=\"text/javascript\">                                    window.PLOTLYENV=window.PLOTLYENV || {};                                    if (document.getElementById(\"514fe59c-3c48-472d-a604-a12a02848497\")) {                    Plotly.newPlot(                        \"514fe59c-3c48-472d-a604-a12a02848497\",                        [{\"fill\":\"toself\",\"line\":{\"color\":\"darkblue\"},\"marker\":{\"color\":\"darkblue\"},\"r\":[0.07276785714285715,0.07455357142857143,0.07276785714285715,0.06428571428571428,0.013392857142857142],\"theta\":[\"AcceptedCmp3\",\"AcceptedCmp4\",\"AcceptedCmp5\",\"AcceptedCmp1\",\"AcceptedCmp2\"],\"type\":\"scatterpolar\"}],                        {\"template\":{\"data\":{\"histogram2dcontour\":[{\"type\":\"histogram2dcontour\",\"colorbar\":{\"outlinewidth\":0,\"ticks\":\"\"},\"colorscale\":[[0.0,\"#0d0887\"],[0.1111111111111111,\"#46039f\"],[0.2222222222222222,\"#7201a8\"],[0.3333333333333333,\"#9c179e\"],[0.4444444444444444,\"#bd3786\"],[0.5555555555555556,\"#d8576b\"],[0.6666666666666666,\"#ed7953\"],[0.7777777777777778,\"#fb9f3a\"],[0.8888888888888888,\"#fdca26\"],[1.0,\"#f0f921\"]]}],\"choropleth\":[{\"type\":\"choropleth\",\"colorbar\":{\"outlinewidth\":0,\"ticks\":\"\"}}],\"histogram2d\":[{\"type\":\"histogram2d\",\"colorbar\":{\"outlinewidth\":0,\"ticks\":\"\"},\"colorscale\":[[0.0,\"#0d0887\"],[0.1111111111111111,\"#46039f\"],[0.2222222222222222,\"#7201a8\"],[0.3333333333333333,\"#9c179e\"],[0.4444444444444444,\"#bd3786\"],[0.5555555555555556,\"#d8576b\"],[0.6666666666666666,\"#ed7953\"],[0.7777777777777778,\"#fb9f3a\"],[0.8888888888888888,\"#fdca26\"],[1.0,\"#f0f921\"]]}],\"heatmap\":[{\"type\":\"heatmap\",\"colorbar\":{\"outlinewidth\":0,\"ticks\":\"\"},\"colorscale\":[[0.0,\"#0d0887\"],[0.1111111111111111,\"#46039f\"],[0.2222222222222222,\"#7201a8\"],[0.3333333333333333,\"#9c179e\"],[0.4444444444444444,\"#bd3786\"],[0.5555555555555556,\"#d8576b\"],[0.6666666666666666,\"#ed7953\"],[0.7777777777777778,\"#fb9f3a\"],[0.8888888888888888,\"#fdca26\"],[1.0,\"#f0f921\"]]}],\"heatmapgl\":[{\"type\":\"heatmapgl\",\"colorbar\":{\"outlinewidth\":0,\"ticks\":\"\"},\"colorscale\":[[0.0,\"#0d0887\"],[0.1111111111111111,\"#46039f\"],[0.2222222222222222,\"#7201a8\"],[0.3333333333333333,\"#9c179e\"],[0.4444444444444444,\"#bd3786\"],[0.5555555555555556,\"#d8576b\"],[0.6666666666666666,\"#ed7953\"],[0.7777777777777778,\"#fb9f3a\"],[0.8888888888888888,\"#fdca26\"],[1.0,\"#f0f921\"]]}],\"contourcarpet\":[{\"type\":\"contourcarpet\",\"colorbar\":{\"outlinewidth\":0,\"ticks\":\"\"}}],\"contour\":[{\"type\":\"contour\",\"colorbar\":{\"outlinewidth\":0,\"ticks\":\"\"},\"colorscale\":[[0.0,\"#0d0887\"],[0.1111111111111111,\"#46039f\"],[0.2222222222222222,\"#7201a8\"],[0.3333333333333333,\"#9c179e\"],[0.4444444444444444,\"#bd3786\"],[0.5555555555555556,\"#d8576b\"],[0.6666666666666666,\"#ed7953\"],[0.7777777777777778,\"#fb9f3a\"],[0.8888888888888888,\"#fdca26\"],[1.0,\"#f0f921\"]]}],\"surface\":[{\"type\":\"surface\",\"colorbar\":{\"outlinewidth\":0,\"ticks\":\"\"},\"colorscale\":[[0.0,\"#0d0887\"],[0.1111111111111111,\"#46039f\"],[0.2222222222222222,\"#7201a8\"],[0.3333333333333333,\"#9c179e\"],[0.4444444444444444,\"#bd3786\"],[0.5555555555555556,\"#d8576b\"],[0.6666666666666666,\"#ed7953\"],[0.7777777777777778,\"#fb9f3a\"],[0.8888888888888888,\"#fdca26\"],[1.0,\"#f0f921\"]]}],\"mesh3d\":[{\"type\":\"mesh3d\",\"colorbar\":{\"outlinewidth\":0,\"ticks\":\"\"}}],\"scatter\":[{\"fillpattern\":{\"fillmode\":\"overlay\",\"size\":10,\"solidity\":0.2},\"type\":\"scatter\"}],\"parcoords\":[{\"type\":\"parcoords\",\"line\":{\"colorbar\":{\"outlinewidth\":0,\"ticks\":\"\"}}}],\"scatterpolargl\":[{\"type\":\"scatterpolargl\",\"marker\":{\"colorbar\":{\"outlinewidth\":0,\"ticks\":\"\"}}}],\"bar\":[{\"error_x\":{\"color\":\"#2a3f5f\"},\"error_y\":{\"color\":\"#2a3f5f\"},\"marker\":{\"line\":{\"color\":\"#E5ECF6\",\"width\":0.5},\"pattern\":{\"fillmode\":\"overlay\",\"size\":10,\"solidity\":0.2}},\"type\":\"bar\"}],\"scattergeo\":[{\"type\":\"scattergeo\",\"marker\":{\"colorbar\":{\"outlinewidth\":0,\"ticks\":\"\"}}}],\"scatterpolar\":[{\"type\":\"scatterpolar\",\"marker\":{\"colorbar\":{\"outlinewidth\":0,\"ticks\":\"\"}}}],\"histogram\":[{\"marker\":{\"pattern\":{\"fillmode\":\"overlay\",\"size\":10,\"solidity\":0.2}},\"type\":\"histogram\"}],\"scattergl\":[{\"type\":\"scattergl\",\"marker\":{\"colorbar\":{\"outlinewidth\":0,\"ticks\":\"\"}}}],\"scatter3d\":[{\"type\":\"scatter3d\",\"line\":{\"colorbar\":{\"outlinewidth\":0,\"ticks\":\"\"}},\"marker\":{\"colorbar\":{\"outlinewidth\":0,\"ticks\":\"\"}}}],\"scattermapbox\":[{\"type\":\"scattermapbox\",\"marker\":{\"colorbar\":{\"outlinewidth\":0,\"ticks\":\"\"}}}],\"scatterternary\":[{\"type\":\"scatterternary\",\"marker\":{\"colorbar\":{\"outlinewidth\":0,\"ticks\":\"\"}}}],\"scattercarpet\":[{\"type\":\"scattercarpet\",\"marker\":{\"colorbar\":{\"outlinewidth\":0,\"ticks\":\"\"}}}],\"carpet\":[{\"aaxis\":{\"endlinecolor\":\"#2a3f5f\",\"gridcolor\":\"white\",\"linecolor\":\"white\",\"minorgridcolor\":\"white\",\"startlinecolor\":\"#2a3f5f\"},\"baxis\":{\"endlinecolor\":\"#2a3f5f\",\"gridcolor\":\"white\",\"linecolor\":\"white\",\"minorgridcolor\":\"white\",\"startlinecolor\":\"#2a3f5f\"},\"type\":\"carpet\"}],\"table\":[{\"cells\":{\"fill\":{\"color\":\"#EBF0F8\"},\"line\":{\"color\":\"white\"}},\"header\":{\"fill\":{\"color\":\"#C8D4E3\"},\"line\":{\"color\":\"white\"}},\"type\":\"table\"}],\"barpolar\":[{\"marker\":{\"line\":{\"color\":\"#E5ECF6\",\"width\":0.5},\"pattern\":{\"fillmode\":\"overlay\",\"size\":10,\"solidity\":0.2}},\"type\":\"barpolar\"}],\"pie\":[{\"automargin\":true,\"type\":\"pie\"}]},\"layout\":{\"autotypenumbers\":\"strict\",\"colorway\":[\"#636efa\",\"#EF553B\",\"#00cc96\",\"#ab63fa\",\"#FFA15A\",\"#19d3f3\",\"#FF6692\",\"#B6E880\",\"#FF97FF\",\"#FECB52\"],\"font\":{\"color\":\"#2a3f5f\"},\"hovermode\":\"closest\",\"hoverlabel\":{\"align\":\"left\"},\"paper_bgcolor\":\"white\",\"plot_bgcolor\":\"#E5ECF6\",\"polar\":{\"bgcolor\":\"#E5ECF6\",\"angularaxis\":{\"gridcolor\":\"white\",\"linecolor\":\"white\",\"ticks\":\"\"},\"radialaxis\":{\"gridcolor\":\"white\",\"linecolor\":\"white\",\"ticks\":\"\"}},\"ternary\":{\"bgcolor\":\"#E5ECF6\",\"aaxis\":{\"gridcolor\":\"white\",\"linecolor\":\"white\",\"ticks\":\"\"},\"baxis\":{\"gridcolor\":\"white\",\"linecolor\":\"white\",\"ticks\":\"\"},\"caxis\":{\"gridcolor\":\"white\",\"linecolor\":\"white\",\"ticks\":\"\"}},\"coloraxis\":{\"colorbar\":{\"outlinewidth\":0,\"ticks\":\"\"}},\"colorscale\":{\"sequential\":[[0.0,\"#0d0887\"],[0.1111111111111111,\"#46039f\"],[0.2222222222222222,\"#7201a8\"],[0.3333333333333333,\"#9c179e\"],[0.4444444444444444,\"#bd3786\"],[0.5555555555555556,\"#d8576b\"],[0.6666666666666666,\"#ed7953\"],[0.7777777777777778,\"#fb9f3a\"],[0.8888888888888888,\"#fdca26\"],[1.0,\"#f0f921\"]],\"sequentialminus\":[[0.0,\"#0d0887\"],[0.1111111111111111,\"#46039f\"],[0.2222222222222222,\"#7201a8\"],[0.3333333333333333,\"#9c179e\"],[0.4444444444444444,\"#bd3786\"],[0.5555555555555556,\"#d8576b\"],[0.6666666666666666,\"#ed7953\"],[0.7777777777777778,\"#fb9f3a\"],[0.8888888888888888,\"#fdca26\"],[1.0,\"#f0f921\"]],\"diverging\":[[0,\"#8e0152\"],[0.1,\"#c51b7d\"],[0.2,\"#de77ae\"],[0.3,\"#f1b6da\"],[0.4,\"#fde0ef\"],[0.5,\"#f7f7f7\"],[0.6,\"#e6f5d0\"],[0.7,\"#b8e186\"],[0.8,\"#7fbc41\"],[0.9,\"#4d9221\"],[1,\"#276419\"]]},\"xaxis\":{\"gridcolor\":\"white\",\"linecolor\":\"white\",\"ticks\":\"\",\"title\":{\"standoff\":15},\"zerolinecolor\":\"white\",\"automargin\":true,\"zerolinewidth\":2},\"yaxis\":{\"gridcolor\":\"white\",\"linecolor\":\"white\",\"ticks\":\"\",\"title\":{\"standoff\":15},\"zerolinecolor\":\"white\",\"automargin\":true,\"zerolinewidth\":2},\"scene\":{\"xaxis\":{\"backgroundcolor\":\"#E5ECF6\",\"gridcolor\":\"white\",\"linecolor\":\"white\",\"showbackground\":true,\"ticks\":\"\",\"zerolinecolor\":\"white\",\"gridwidth\":2},\"yaxis\":{\"backgroundcolor\":\"#E5ECF6\",\"gridcolor\":\"white\",\"linecolor\":\"white\",\"showbackground\":true,\"ticks\":\"\",\"zerolinecolor\":\"white\",\"gridwidth\":2},\"zaxis\":{\"backgroundcolor\":\"#E5ECF6\",\"gridcolor\":\"white\",\"linecolor\":\"white\",\"showbackground\":true,\"ticks\":\"\",\"zerolinecolor\":\"white\",\"gridwidth\":2}},\"shapedefaults\":{\"line\":{\"color\":\"#2a3f5f\"}},\"annotationdefaults\":{\"arrowcolor\":\"#2a3f5f\",\"arrowhead\":0,\"arrowwidth\":1},\"geo\":{\"bgcolor\":\"white\",\"landcolor\":\"#E5ECF6\",\"subunitcolor\":\"white\",\"showland\":true,\"showlakes\":true,\"lakecolor\":\"white\"},\"title\":{\"x\":0.05},\"mapbox\":{\"style\":\"light\"}}},\"polar\":{\"radialaxis\":{\"visible\":true,\"range\":[0,0.1]}},\"title\":{\"text\":\"Acceptance Rate of Each Campaign\"}},                        {\"responsive\": true}                    ).then(function(){\n",
              "                            \n",
              "var gd = document.getElementById('514fe59c-3c48-472d-a604-a12a02848497');\n",
              "var x = new MutationObserver(function (mutations, observer) {{\n",
              "        var display = window.getComputedStyle(gd).display;\n",
              "        if (!display || display === 'none') {{\n",
              "            console.log([gd, 'removed!']);\n",
              "            Plotly.purge(gd);\n",
              "            observer.disconnect();\n",
              "        }}\n",
              "}});\n",
              "\n",
              "// Listen for the removal of the full notebook cells\n",
              "var notebookContainer = gd.closest('#notebook-container');\n",
              "if (notebookContainer) {{\n",
              "    x.observe(notebookContainer, {childList: true});\n",
              "}}\n",
              "\n",
              "// Listen for the clearing of the current output cell\n",
              "var outputEl = gd.closest('.output');\n",
              "if (outputEl) {{\n",
              "    x.observe(outputEl, {childList: true});\n",
              "}}\n",
              "\n",
              "                        })                };                            </script>        </div>\n",
              "</body>\n",
              "</html>"
            ]
          },
          "metadata": {}
        }
      ]
    },
    {
      "cell_type": "markdown",
      "source": [
        "*Purchase behavior*"
      ],
      "metadata": {
        "id": "_cpJEBWt5XlH"
      },
      "id": "_cpJEBWt5XlH"
    },
    {
      "cell_type": "code",
      "source": [
        "total_amount = Data['MntWines']+Data['MntFruits']+Data['MntMeatProducts']+Data['MntFishProducts']+Data['MntSweetProducts']+Data['MntGoldProds']\n",
        "\n",
        "customer_data['total_amount_spent'] = total_amount\n",
        "\n",
        "# Filter the data\n",
        "t = customer_data[(customer_data[\"age\"] < 100) & (customer_data[\"Income\"] < 3e+05)]\n",
        "\n",
        "# Generate a palette based on the number of unique age groups\n",
        "num_age_groups = t[\"age_group\"].nunique()\n",
        "cmap = sns.color_palette(\"Set2\", n_colors=num_age_groups)\n",
        "\n",
        "# Plot\n",
        "joint_plot = sns.jointplot(x=\"Income\", y=\"total_amount_spent\", data=t, kind='scatter', hue=\"age_group\", palette=cmap)\n",
        "\n",
        "plt.xlim(0, None)\n",
        "plt.ylim(0, 3000)\n",
        "plt.xticks(rotation=90)\n",
        "plt.show()"
      ],
      "metadata": {
        "colab": {
          "base_uri": "https://localhost:8080/",
          "height": 920
        },
        "id": "cqk7A6Mj5YpA",
        "outputId": "45c8893c-e309-4566-af86-08356552afa4"
      },
      "id": "cqk7A6Mj5YpA",
      "execution_count": null,
      "outputs": [
        {
          "output_type": "stream",
          "name": "stderr",
          "text": [
            "/usr/local/lib/python3.10/dist-packages/seaborn/axisgrid.py:1826: UserWarning:\n",
            "\n",
            "\n",
            "The palette list has fewer values (5) than needed (6) and will cycle, which may produce an uninterpretable plot.\n",
            "\n",
            "/usr/local/lib/python3.10/dist-packages/seaborn/axisgrid.py:1877: UserWarning:\n",
            "\n",
            "\n",
            "The palette list has fewer values (5) than needed (6) and will cycle, which may produce an uninterpretable plot.\n",
            "\n",
            "/usr/local/lib/python3.10/dist-packages/seaborn/axisgrid.py:1883: UserWarning:\n",
            "\n",
            "\n",
            "The palette list has fewer values (5) than needed (6) and will cycle, which may produce an uninterpretable plot.\n",
            "\n"
          ]
        },
        {
          "output_type": "display_data",
          "data": {
            "text/plain": [
              "<Figure size 600x600 with 3 Axes>"
            ],
            "image/png": "[encoded data removed]"
          },
          "metadata": {}
        }
      ]
    },
    {
      "cell_type": "markdown",
      "source": [
        "## Data processing"
      ],
      "metadata": {
        "id": "g8X_MhdUOlW3"
      },
      "id": "g8X_MhdUOlW3"
    },
    {
      "cell_type": "markdown",
      "source": [
        "*Handling missing value*"
      ],
      "metadata": {
        "id": "VJ0n1KnWP_ms"
      },
      "id": "VJ0n1KnWP_ms"
    },
    {
      "cell_type": "code",
      "execution_count": null,
      "id": "233bf196",
      "metadata": {
        "id": "233bf196"
      },
      "outputs": [],
      "source": [
        "mean_value = Data[\"Income\"].mean()\n",
        "\n",
        "# Impute missing values with the mean\n",
        "Data[\"Income\"].fillna(mean_value, inplace=True)"
      ]
    },
    {
      "cell_type": "markdown",
      "source": [
        "*Setting x and y*"
      ],
      "metadata": {
        "id": "BUX5Q01BJOcm"
      },
      "id": "BUX5Q01BJOcm"
    },
    {
      "cell_type": "code",
      "execution_count": null,
      "id": "d2b58e0f-56af-49df-8e31-3fe3d3eada44",
      "metadata": {
        "id": "d2b58e0f-56af-49df-8e31-3fe3d3eada44"
      },
      "outputs": [],
      "source": [
        "X=Data.drop(\"Response\",axis=1)\n",
        "y=Data[\"Response\"]"
      ]
    },
    {
      "cell_type": "markdown",
      "source": [
        "*Data cleaning*"
      ],
      "metadata": {
        "id": "h7vsSEbx1Rv1"
      },
      "id": "h7vsSEbx1Rv1"
    },
    {
      "cell_type": "code",
      "source": [
        "label_encoder_education = LabelEncoder()\n",
        "label_encoder_marital_status = LabelEncoder()\n",
        "\n",
        "\n",
        "# Apply LabelEncoder to specific columns\n",
        "X['Education'] = label_encoder_education.fit_transform(X['Education'])\n",
        "X['Marital_Status'] = label_encoder_marital_status.fit_transform(X['Marital_Status'])\n",
        "\n",
        "X['Dt_Customer'] = pd.to_datetime(X['Dt_Customer'],format='%d-%m-%Y')\n",
        "\n",
        "# Extract relevant date features\n",
        "X['C_Year'] = X['Dt_Customer'].dt.year\n",
        "X['C_Month'] = X['Dt_Customer'].dt.month\n",
        "X['C_Day'] = X['Dt_Customer'].dt.day\n",
        "\n",
        "# Drop the original date column if you no longer need it\n",
        "X.drop('Dt_Customer', axis=1, inplace=True)"
      ],
      "metadata": {
        "id": "SXDv3YPC3JMa"
      },
      "id": "SXDv3YPC3JMa",
      "execution_count": null,
      "outputs": []
    },
    {
      "cell_type": "markdown",
      "source": [
        "*Splitting the dataset*"
      ],
      "metadata": {
        "id": "ea-FTNmNvm8F"
      },
      "id": "ea-FTNmNvm8F"
    },
    {
      "cell_type": "code",
      "execution_count": null,
      "id": "8a823000",
      "metadata": {
        "id": "8a823000"
      },
      "outputs": [],
      "source": [
        "X_train, X_test, y_train, y_test = train_test_split(X, y, test_size=0.3, random_state=42, stratify=y)"
      ]
    },
    {
      "cell_type": "markdown",
      "source": [
        "## Data imbalance"
      ],
      "metadata": {
        "id": "tD7WQs38vrbt"
      },
      "id": "tD7WQs38vrbt"
    },
    {
      "cell_type": "markdown",
      "source": [
        "*Check for class imbalance*"
      ],
      "metadata": {
        "id": "V2IECqw2QDfJ"
      },
      "id": "V2IECqw2QDfJ"
    },
    {
      "cell_type": "code",
      "execution_count": null,
      "id": "49efec38",
      "metadata": {
        "colab": {
          "base_uri": "https://localhost:8080/"
        },
        "id": "49efec38",
        "outputId": "e244de64-38e4-44e0-80be-1f91c4892cde"
      },
      "outputs": [
        {
          "output_type": "stream",
          "name": "stdout",
          "text": [
            "0    1906\n",
            "1     334\n",
            "Name: Response, dtype: int64\n"
          ]
        }
      ],
      "source": [
        "print(Data['Response'].value_counts())"
      ]
    },
    {
      "cell_type": "code",
      "execution_count": null,
      "id": "7cfbee30-5ecb-4703-95bf-431452323a42",
      "metadata": {
        "colab": {
          "base_uri": "https://localhost:8080/"
        },
        "id": "7cfbee30-5ecb-4703-95bf-431452323a42",
        "outputId": "51033442-5734-4396-8047-655dfa0fec47"
      },
      "outputs": [
        {
          "output_type": "stream",
          "name": "stdout",
          "text": [
            "probability of  responding is 0.14910714285714285\n",
            "probability of not responding is 0.8508928571428571\n"
          ]
        }
      ],
      "source": [
        "#probability of responding\n",
        "prob_resp = len(y[y == 1]) / len(y)\n",
        "print(f\"probability of  responding is {prob_resp}\")\n",
        "\n",
        "#probability of not responding\n",
        "prob_not = len(y[y == 0]) / len(y)\n",
        "print(f\"probability of not responding is {prob_not}\")"
      ]
    },
    {
      "cell_type": "code",
      "execution_count": null,
      "id": "320d9e33-146b-4053-be25-a3396e339754",
      "metadata": {
        "id": "320d9e33-146b-4053-be25-a3396e339754"
      },
      "outputs": [],
      "source": [
        "#Data.describe()"
      ]
    },
    {
      "cell_type": "markdown",
      "source": [
        "*Dealing with class imbalance*"
      ],
      "metadata": {
        "id": "jkBK1uUERjPt"
      },
      "id": "jkBK1uUERjPt"
    },
    {
      "cell_type": "code",
      "source": [
        "from imblearn.under_sampling import RandomUnderSampler\n",
        "\n",
        "rus = RandomUnderSampler(random_state=42)\n",
        "X_rus, y_rus = rus.fit_resample(X_train, y_train)"
      ],
      "metadata": {
        "id": "9h0t7Le2dBJ7"
      },
      "id": "9h0t7Le2dBJ7",
      "execution_count": null,
      "outputs": []
    },
    {
      "cell_type": "code",
      "source": [
        "from imblearn.over_sampling import RandomOverSampler\n",
        "\n",
        "ros = RandomOverSampler(random_state=42)\n",
        "X_ros, y_ros = ros.fit_resample(X_train, y_train)"
      ],
      "metadata": {
        "id": "XD35AT19VV-0"
      },
      "id": "XD35AT19VV-0",
      "execution_count": null,
      "outputs": []
    },
    {
      "cell_type": "code",
      "source": [
        "from imblearn.over_sampling import SMOTE\n",
        "\n",
        "smote = SMOTE(random_state=42)\n",
        "X_smote, y_smote = smote.fit_resample(X_train, y_train)"
      ],
      "metadata": {
        "id": "yyJwHZbydCyu"
      },
      "id": "yyJwHZbydCyu",
      "execution_count": null,
      "outputs": []
    },
    {
      "cell_type": "markdown",
      "id": "1777d463",
      "metadata": {
        "id": "1777d463"
      },
      "source": [
        "## Model Building"
      ]
    },
    {
      "cell_type": "markdown",
      "source": [
        "*Standardizing*"
      ],
      "metadata": {
        "id": "75KgybUORzHg"
      },
      "id": "75KgybUORzHg"
    },
    {
      "cell_type": "code",
      "execution_count": null,
      "id": "2a758006",
      "metadata": {
        "id": "2a758006"
      },
      "outputs": [],
      "source": [
        "Scale = StandardScaler()\n",
        "\n",
        "Scale.fit(X_train)\n",
        "X_train = Scale.transform(X_train)\n",
        "\n",
        "Scale.fit(X_rus)\n",
        "X_rus = Scale.transform(X_rus)\n",
        "\n",
        "Scale.fit(X_ros)\n",
        "X_ros = Scale.transform(X_ros)\n",
        "\n",
        "Scale.fit(X_smote)\n",
        "X_smote = Scale.transform(X_smote)\n",
        "\n",
        "X_test = Scale.transform(X_test)"
      ]
    },
    {
      "cell_type": "markdown",
      "source": [
        "### Decision tree"
      ],
      "metadata": {
        "id": "wKmpcRhtT4Oz"
      },
      "id": "wKmpcRhtT4Oz"
    },
    {
      "cell_type": "markdown",
      "source": [
        "#### RandomUnderSampler"
      ],
      "metadata": {
        "id": "oifsHAoiJFYS"
      },
      "id": "oifsHAoiJFYS"
    },
    {
      "cell_type": "code",
      "source": [
        "tree = DecisionTreeClassifier()\n",
        "tree.fit(X_rus, y_rus)\n",
        "y_train_pred = cross_val_predict(tree, X_rus, y_rus, cv=10)\n",
        "y_test_pred = cross_val_predict(tree, X_test, y_test, cv=10)\n",
        "\n",
        "train_accuracy = accuracy_score(y_rus, y_train_pred)\n",
        "test_accuracy = accuracy_score(y_test, y_test_pred)\n",
        "\n",
        "train_recall = recall_score(y_rus, y_train_pred)\n",
        "test_recall = recall_score(y_test, y_test_pred)\n",
        "\n",
        "train_precision = precision_score(y_rus, y_train_pred)\n",
        "test_precision = precision_score(y_rus, y_train_pred)\n",
        "\n",
        "train_f1 = f1_score(y_rus, y_train_pred)\n",
        "test_f1 = f1_score(y_test, y_test_pred)\n",
        "\n",
        "print(\"Accuracy (In-Sample):\", train_accuracy)\n",
        "print(\"Accuracy (Out-of-Sample):\", test_accuracy)\n",
        "print(\"Recall (In-Sample):\", train_recall)\n",
        "print(\"Recall (Out-of-Sample):\", test_recall)\n",
        "print(\"Precision (In-Sample):\", train_precision)\n",
        "print(\"Precision (Out-of-Sample):\", test_precision)\n",
        "print(\"F1 Score (In-Sample):\", train_f1)\n",
        "print(\"F1 Score (Out-of-Sample):\", test_f1)"
      ],
      "metadata": {
        "colab": {
          "base_uri": "https://localhost:8080/"
        },
        "id": "VKny2T9oI_6p",
        "outputId": "51066440-80e7-40cf-d7ed-0236d9775bcf"
      },
      "id": "VKny2T9oI_6p",
      "execution_count": null,
      "outputs": [
        {
          "output_type": "stream",
          "name": "stdout",
          "text": [
            "Accuracy (In-Sample): 0.6987179487179487\n",
            "Accuracy (Out-of-Sample): 0.7886904761904762\n",
            "Recall (In-Sample): 0.7051282051282052\n",
            "Recall (Out-of-Sample): 0.36\n",
            "Precision (In-Sample): 0.6962025316455697\n",
            "Precision (Out-of-Sample): 0.6962025316455697\n",
            "F1 Score (In-Sample): 0.7006369426751593\n",
            "F1 Score (Out-of-Sample): 0.3364485981308411\n"
          ]
        }
      ]
    },
    {
      "cell_type": "markdown",
      "source": [
        "#### RandomOverSampler"
      ],
      "metadata": {
        "id": "0kbKUh-RKHhv"
      },
      "id": "0kbKUh-RKHhv"
    },
    {
      "cell_type": "code",
      "source": [
        "tree = DecisionTreeClassifier()\n",
        "tree.fit(X_ros, y_ros)\n",
        "y_train_pred = cross_val_predict(tree, X_ros, y_ros, cv=10)\n",
        "y_test_pred = cross_val_predict(tree, X_test, y_test, cv=10)\n",
        "\n",
        "train_accuracy = accuracy_score(y_ros, y_train_pred)\n",
        "test_accuracy = accuracy_score(y_test, y_test_pred)\n",
        "\n",
        "train_recall = recall_score(y_ros, y_train_pred)\n",
        "test_recall = recall_score(y_test, y_test_pred)\n",
        "\n",
        "train_precision = precision_score(y_ros, y_train_pred)\n",
        "test_precision = precision_score(y_ros, y_train_pred)\n",
        "\n",
        "train_f1 = f1_score(y_ros, y_train_pred)\n",
        "test_f1 = f1_score(y_test, y_test_pred)\n",
        "\n",
        "print(\"Accuracy (In-Sample):\", train_accuracy)\n",
        "print(\"Accuracy (Out-of-Sample):\", test_accuracy)\n",
        "print(\"Recall (In-Sample):\", train_recall)\n",
        "print(\"Recall (Out-of-Sample):\", test_recall)\n",
        "print(\"Precision (In-Sample):\", train_precision)\n",
        "print(\"Precision (Out-of-Sample):\", test_precision)\n",
        "print(\"F1 Score (In-Sample):\", train_f1)\n",
        "print(\"F1 Score (Out-of-Sample):\", test_f1)"
      ],
      "metadata": {
        "colab": {
          "base_uri": "https://localhost:8080/"
        },
        "id": "F52pAa_QKGyU",
        "outputId": "d250aa38-278a-48af-b3ad-ae80e34015a2"
      },
      "id": "F52pAa_QKGyU",
      "execution_count": null,
      "outputs": [
        {
          "output_type": "stream",
          "name": "stdout",
          "text": [
            "Accuracy (In-Sample): 0.9535232383808095\n",
            "Accuracy (Out-of-Sample): 0.8244047619047619\n",
            "Recall (In-Sample): 1.0\n",
            "Recall (Out-of-Sample): 0.43\n",
            "Precision (In-Sample): 0.9149519890260631\n",
            "Precision (Out-of-Sample): 0.9149519890260631\n",
            "F1 Score (In-Sample): 0.9555873925501432\n",
            "F1 Score (Out-of-Sample): 0.4215686274509804\n"
          ]
        }
      ]
    },
    {
      "cell_type": "markdown",
      "source": [
        "#### Smote"
      ],
      "metadata": {
        "id": "YcJ15OUeJNPp"
      },
      "id": "YcJ15OUeJNPp"
    },
    {
      "cell_type": "code",
      "source": [
        "tree = DecisionTreeClassifier()\n",
        "tree.fit(X_smote, y_smote)\n",
        "y_train_pred = cross_val_predict(tree, X_smote, y_smote, cv=10)\n",
        "y_test_pred = cross_val_predict(tree, X_test, y_test, cv=10)\n",
        "\n",
        "train_accuracy = accuracy_score(y_smote, y_train_pred)\n",
        "test_accuracy = accuracy_score(y_test, y_test_pred)\n",
        "\n",
        "train_recall = recall_score(y_smote, y_train_pred)\n",
        "test_recall = recall_score(y_test, y_test_pred)\n",
        "\n",
        "train_precision = precision_score(y_smote, y_train_pred)\n",
        "test_precision = precision_score(y_smote, y_train_pred)\n",
        "\n",
        "train_f1 = f1_score(y_smote, y_train_pred)\n",
        "test_f1 = f1_score(y_test, y_test_pred)\n",
        "\n",
        "train_auc = roc_auc_score(y_smote, y_train_pred)\n",
        "test_auc = roc_auc_score(y_test, y_test_pred)\n",
        "\n",
        "print(\"Accuracy (In-Sample):\", train_accuracy)\n",
        "print(\"Accuracy (Out-of-Sample):\", test_accuracy)\n",
        "print(\"Recall (In-Sample):\", train_recall)\n",
        "print(\"Recall (Out-of-Sample):\", test_recall)\n",
        "print(\"Precision (In-Sample):\", train_precision)\n",
        "print(\"Precision (Out-of-Sample):\", test_precision)\n",
        "print(\"F1 Score (In-Sample):\", train_f1)\n",
        "print(\"F1 Score (Out-of-Sample):\", test_f1)"
      ],
      "metadata": {
        "colab": {
          "base_uri": "https://localhost:8080/"
        },
        "id": "49YyXIP5I3Qn",
        "outputId": "628fd898-535d-47f8-f222-50b5630c50cc"
      },
      "id": "49YyXIP5I3Qn",
      "execution_count": null,
      "outputs": [
        {
          "output_type": "stream",
          "name": "stdout",
          "text": [
            "Accuracy (In-Sample): 0.8616941529235382\n",
            "Accuracy (Out-of-Sample): 0.8020833333333334\n",
            "Recall (In-Sample): 0.8868065967016492\n",
            "Recall (Out-of-Sample): 0.36\n",
            "Precision (In-Sample): 0.8443968593861527\n",
            "Precision (Out-of-Sample): 0.8443968593861527\n",
            "F1 Score (In-Sample): 0.8650822669104203\n",
            "F1 Score (Out-of-Sample): 0.351219512195122\n"
          ]
        }
      ]
    },
    {
      "cell_type": "markdown",
      "source": [
        "#### Not adjusted for imbalance"
      ],
      "metadata": {
        "id": "C15tAX5AKdkl"
      },
      "id": "C15tAX5AKdkl"
    },
    {
      "cell_type": "code",
      "source": [
        "tree = DecisionTreeClassifier()\n",
        "tree.fit(X_train, y_train)\n",
        "y_train_pred = cross_val_predict(tree, X_train, y_train, cv=10)\n",
        "y_test_pred = cross_val_predict(tree, X_test, y_test, cv=10)\n",
        "\n",
        "train_accuracy = accuracy_score(y_train, y_train_pred)\n",
        "test_accuracy = accuracy_score(y_test, y_test_pred)\n",
        "\n",
        "train_recall = recall_score(y_train, y_train_pred)\n",
        "test_recall = recall_score(y_test, y_test_pred)\n",
        "\n",
        "train_precision = precision_score(y_train, y_train_pred)\n",
        "test_precision = precision_score(y_train, y_train_pred)\n",
        "\n",
        "train_f1 = f1_score(y_train, y_train_pred)\n",
        "test_f1 = f1_score(y_test, y_test_pred)\n",
        "\n",
        "train_auc = roc_auc_score(y_train, y_train_pred)\n",
        "test_auc = roc_auc_score(y_test, y_test_pred)\n",
        "\n",
        "print(\"Accuracy (In-Sample):\", train_accuracy)\n",
        "print(\"Accuracy (Out-of-Sample):\", test_accuracy)\n",
        "print(\"Recall (In-Sample):\", train_recall)\n",
        "print(\"Recall (Out-of-Sample):\", test_recall)\n",
        "print(\"Precision (In-Sample):\", train_precision)\n",
        "print(\"Precision (Out-of-Sample):\", test_precision)\n",
        "print(\"F1 Score (In-Sample):\", train_f1)\n",
        "print(\"F1 Score (Out-of-Sample):\", test_f1)"
      ],
      "metadata": {
        "colab": {
          "base_uri": "https://localhost:8080/"
        },
        "id": "_VqNzfY_KbK-",
        "outputId": "e728cac7-2225-4084-d8e1-0bb3e291d67b"
      },
      "id": "_VqNzfY_KbK-",
      "execution_count": null,
      "outputs": [
        {
          "output_type": "stream",
          "name": "stdout",
          "text": [
            "Accuracy (In-Sample): 0.8284438775510204\n",
            "Accuracy (Out-of-Sample): 0.8065476190476191\n",
            "Recall (In-Sample): 0.4230769230769231\n",
            "Recall (Out-of-Sample): 0.38\n",
            "Precision (In-Sample): 0.4248927038626609\n",
            "Precision (Out-of-Sample): 0.4248927038626609\n",
            "F1 Score (In-Sample): 0.423982869379015\n",
            "F1 Score (Out-of-Sample): 0.3689320388349514\n"
          ]
        }
      ]
    },
    {
      "cell_type": "markdown",
      "source": [
        "### Logistic regression"
      ],
      "metadata": {
        "id": "md4q435w4WIl"
      },
      "id": "md4q435w4WIl"
    },
    {
      "cell_type": "code",
      "source": [
        "from  warnings import simplefilter\n",
        "from sklearn.exceptions import ConvergenceWarning\n",
        "simplefilter(\"ignore\", category=ConvergenceWarning)"
      ],
      "metadata": {
        "id": "-uRfddZFPcQ9"
      },
      "id": "-uRfddZFPcQ9",
      "execution_count": null,
      "outputs": []
    },
    {
      "cell_type": "markdown",
      "source": [
        "#### RandomUnderSampler"
      ],
      "metadata": {
        "id": "t_Ra8OzjLu5w"
      },
      "id": "t_Ra8OzjLu5w"
    },
    {
      "cell_type": "code",
      "source": [
        "lr = LogisticRegression()\n",
        "lr.fit(X_rus, y_rus)\n",
        "y_train_pred = cross_val_predict(lr, X_rus, y_rus, cv=10)\n",
        "y_test_pred = cross_val_predict(lr, X_test, y_test, cv=10)\n",
        "\n",
        "train_accuracy = accuracy_score(y_rus, y_train_pred)\n",
        "test_accuracy = accuracy_score(y_test, y_test_pred)\n",
        "\n",
        "train_recall = recall_score(y_rus, y_train_pred)\n",
        "test_recall = recall_score(y_test, y_test_pred)\n",
        "\n",
        "train_precision = precision_score(y_rus, y_train_pred)\n",
        "test_precision = precision_score(y_rus, y_train_pred)\n",
        "\n",
        "train_f1 = f1_score(y_rus, y_train_pred)\n",
        "test_f1 = f1_score(y_test, y_test_pred)\n",
        "\n",
        "train_auc = roc_auc_score(y_rus, y_train_pred)\n",
        "test_auc = roc_auc_score(y_test, y_test_pred)\n",
        "\n",
        "print(\"Accuracy (In-Sample):\", train_accuracy)\n",
        "print(\"Accuracy (Out-of-Sample):\", test_accuracy)\n",
        "print(\"Recall (In-Sample):\", train_recall)\n",
        "print(\"Recall (Out-of-Sample):\", test_recall)\n",
        "print(\"Precision (In-Sample):\", train_precision)\n",
        "print(\"Precision (Out-of-Sample):\", test_precision)\n",
        "print(\"F1 Score (In-Sample):\", train_f1)\n",
        "print(\"F1 Score (Out-of-Sample):\", test_f1)"
      ],
      "metadata": {
        "colab": {
          "base_uri": "https://localhost:8080/"
        },
        "id": "H917mptwLwUz",
        "outputId": "81151d34-aa3b-42e8-d5af-a58e08cc7b9f"
      },
      "id": "H917mptwLwUz",
      "execution_count": null,
      "outputs": [
        {
          "output_type": "stream",
          "name": "stdout",
          "text": [
            "Accuracy (In-Sample): 0.7905982905982906\n",
            "Accuracy (Out-of-Sample): 0.8973214285714286\n",
            "Recall (In-Sample): 0.7863247863247863\n",
            "Recall (Out-of-Sample): 0.48\n",
            "Precision (In-Sample): 0.7931034482758621\n",
            "Precision (Out-of-Sample): 0.7931034482758621\n",
            "F1 Score (In-Sample): 0.7896995708154507\n",
            "F1 Score (Out-of-Sample): 0.5818181818181819\n"
          ]
        }
      ]
    },
    {
      "cell_type": "markdown",
      "source": [
        "#### RandomOverSampler"
      ],
      "metadata": {
        "id": "FgP1FirePns9"
      },
      "id": "FgP1FirePns9"
    },
    {
      "cell_type": "code",
      "source": [
        "lr = LogisticRegression()\n",
        "lr.fit(X_ros, y_ros)\n",
        "y_train_pred = cross_val_predict(lr, X_ros, y_ros, cv=10)\n",
        "y_test_pred = cross_val_predict(lr, X_test, y_test, cv=10)\n",
        "\n",
        "train_accuracy = accuracy_score(y_ros, y_train_pred)\n",
        "test_accuracy = accuracy_score(y_test, y_test_pred)\n",
        "\n",
        "train_recall = recall_score(y_ros, y_train_pred)\n",
        "test_recall = recall_score(y_test, y_test_pred)\n",
        "\n",
        "train_precision = precision_score(y_ros, y_train_pred)\n",
        "test_precision = precision_score(y_ros, y_train_pred)\n",
        "\n",
        "train_f1 = f1_score(y_ros, y_train_pred)\n",
        "test_f1 = f1_score(y_test, y_test_pred)\n",
        "\n",
        "train_auc = roc_auc_score(y_ros, y_train_pred)\n",
        "test_auc = roc_auc_score(y_test, y_test_pred)\n",
        "\n",
        "print(\"Accuracy (In-Sample):\", train_accuracy)\n",
        "print(\"Accuracy (Out-of-Sample):\", test_accuracy)\n",
        "print(\"Recall (In-Sample):\", train_recall)\n",
        "print(\"Recall (Out-of-Sample):\", test_recall)\n",
        "print(\"Precision (In-Sample):\", train_precision)\n",
        "print(\"Precision (Out-of-Sample):\", test_precision)\n",
        "print(\"F1 Score (In-Sample):\", train_f1)\n",
        "print(\"F1 Score (Out-of-Sample):\", test_f1)"
      ],
      "metadata": {
        "colab": {
          "base_uri": "https://localhost:8080/"
        },
        "id": "iNwWLpBcPnOH",
        "outputId": "87f53eb9-81af-4454-cdda-5e86f308b51b"
      },
      "id": "iNwWLpBcPnOH",
      "execution_count": null,
      "outputs": [
        {
          "output_type": "stream",
          "name": "stdout",
          "text": [
            "Accuracy (In-Sample): 0.8185907046476761\n",
            "Accuracy (Out-of-Sample): 0.8973214285714286\n",
            "Recall (In-Sample): 0.8065967016491754\n",
            "Recall (Out-of-Sample): 0.48\n",
            "Precision (In-Sample): 0.82642089093702\n",
            "Precision (Out-of-Sample): 0.82642089093702\n",
            "F1 Score (In-Sample): 0.8163884673748103\n",
            "F1 Score (Out-of-Sample): 0.5818181818181819\n"
          ]
        }
      ]
    },
    {
      "cell_type": "markdown",
      "source": [
        "#### Smote"
      ],
      "metadata": {
        "id": "LFKnmy-nPx4p"
      },
      "id": "LFKnmy-nPx4p"
    },
    {
      "cell_type": "code",
      "source": [
        "lr = LogisticRegression()\n",
        "lr.fit(X_smote, y_smote)\n",
        "y_train_pred = cross_val_predict(lr, X_smote, y_smote, cv=10)\n",
        "y_test_pred = cross_val_predict(lr, X_test, y_test, cv=10)\n",
        "\n",
        "train_accuracy = accuracy_score(y_smote, y_train_pred)\n",
        "test_accuracy = accuracy_score(y_test, y_test_pred)\n",
        "\n",
        "train_recall = recall_score(y_smote, y_train_pred)\n",
        "test_recall = recall_score(y_test, y_test_pred)\n",
        "\n",
        "train_precision = precision_score(y_smote, y_train_pred)\n",
        "test_precision = precision_score(y_smote, y_train_pred)\n",
        "\n",
        "train_f1 = f1_score(y_smote, y_train_pred)\n",
        "test_f1 = f1_score(y_test, y_test_pred)\n",
        "\n",
        "train_auc = roc_auc_score(y_smote, y_train_pred)\n",
        "test_auc = roc_auc_score(y_test, y_test_pred)\n",
        "\n",
        "print(\"Accuracy (In-Sample):\", train_accuracy)\n",
        "print(\"Accuracy (Out-of-Sample):\", test_accuracy)\n",
        "print(\"Recall (In-Sample):\", train_recall)\n",
        "print(\"Recall (Out-of-Sample):\", test_recall)\n",
        "print(\"Precision (In-Sample):\", train_precision)\n",
        "print(\"Precision (Out-of-Sample):\", test_precision)\n",
        "print(\"F1 Score (In-Sample):\", train_f1)\n",
        "print(\"F1 Score (Out-of-Sample):\", test_f1)"
      ],
      "metadata": {
        "colab": {
          "base_uri": "https://localhost:8080/"
        },
        "id": "g6GlyXLFPywA",
        "outputId": "2263c4c8-1a8b-4df6-df43-b317303df945"
      },
      "id": "g6GlyXLFPywA",
      "execution_count": null,
      "outputs": [
        {
          "output_type": "stream",
          "name": "stdout",
          "text": [
            "Accuracy (In-Sample): 0.8448275862068966\n",
            "Accuracy (Out-of-Sample): 0.8973214285714286\n",
            "Recall (In-Sample): 0.8523238380809596\n",
            "Recall (Out-of-Sample): 0.48\n",
            "Precision (In-Sample): 0.8397341211225997\n",
            "Precision (Out-of-Sample): 0.8397341211225997\n",
            "F1 Score (In-Sample): 0.8459821428571429\n",
            "F1 Score (Out-of-Sample): 0.5818181818181819\n"
          ]
        }
      ]
    },
    {
      "cell_type": "markdown",
      "source": [
        "#### Not adjusted for imbalance"
      ],
      "metadata": {
        "id": "u0ZShdOOP4SY"
      },
      "id": "u0ZShdOOP4SY"
    },
    {
      "cell_type": "code",
      "source": [
        "lr = LogisticRegression()\n",
        "lr.fit(X_train, y_train)\n",
        "y_train_pred = cross_val_predict(lr, X_train, y_train, cv=10)\n",
        "y_test_pred = cross_val_predict(lr, X_test, y_test, cv=10)\n",
        "\n",
        "train_accuracy = accuracy_score(y_train, y_train_pred)\n",
        "test_accuracy = accuracy_score(y_test, y_test_pred)\n",
        "\n",
        "train_recall = recall_score(y_train, y_train_pred)\n",
        "test_recall = recall_score(y_test, y_test_pred)\n",
        "\n",
        "train_precision = precision_score(y_train, y_train_pred)\n",
        "test_precision = precision_score(y_train, y_train_pred)\n",
        "\n",
        "train_f1 = f1_score(y_train, y_train_pred)\n",
        "test_f1 = f1_score(y_test, y_test_pred)\n",
        "\n",
        "train_auc = roc_auc_score(y_train, y_train_pred)\n",
        "test_auc = roc_auc_score(y_test, y_test_pred)\n",
        "\n",
        "print(\"Accuracy (In-Sample):\", train_accuracy)\n",
        "print(\"Accuracy (Out-of-Sample):\", test_accuracy)\n",
        "print(\"Recall (In-Sample):\", train_recall)\n",
        "print(\"Recall (Out-of-Sample):\", test_recall)\n",
        "print(\"Precision (In-Sample):\", train_precision)\n",
        "print(\"Precision (Out-of-Sample):\", test_precision)\n",
        "print(\"F1 Score (In-Sample):\", train_f1)\n",
        "print(\"F1 Score (Out-of-Sample):\", test_f1)"
      ],
      "metadata": {
        "colab": {
          "base_uri": "https://localhost:8080/"
        },
        "id": "Jsz9ZSi9P614",
        "outputId": "f3adea9a-d0b6-47c6-e19c-9086cf9955d6"
      },
      "id": "Jsz9ZSi9P614",
      "execution_count": null,
      "outputs": [
        {
          "output_type": "stream",
          "name": "stdout",
          "text": [
            "Accuracy (In-Sample): 0.8832908163265306\n",
            "Accuracy (Out-of-Sample): 0.8973214285714286\n",
            "Recall (In-Sample): 0.41452991452991456\n",
            "Recall (Out-of-Sample): 0.48\n",
            "Precision (In-Sample): 0.6783216783216783\n",
            "Precision (Out-of-Sample): 0.6783216783216783\n",
            "F1 Score (In-Sample): 0.5145888594164456\n",
            "F1 Score (Out-of-Sample): 0.5818181818181819\n"
          ]
        }
      ]
    },
    {
      "cell_type": "markdown",
      "source": [
        "### kNN"
      ],
      "metadata": {
        "id": "yvmqSKUFP0ua"
      },
      "id": "yvmqSKUFP0ua"
    },
    {
      "cell_type": "markdown",
      "source": [
        "#### RandomUnderSampler"
      ],
      "metadata": {
        "id": "qGtK3XncRp3h"
      },
      "id": "qGtK3XncRp3h"
    },
    {
      "cell_type": "code",
      "source": [
        "knn = KNeighborsClassifier(n_neighbors = 3)\n",
        "knn.fit(X_rus, y_rus)\n",
        "y_train_pred = cross_val_predict(knn, X_rus, y_rus, cv=10)\n",
        "y_test_pred = cross_val_predict(knn, X_test, y_test, cv=10)\n",
        "\n",
        "train_accuracy = accuracy_score(y_rus, y_train_pred)\n",
        "test_accuracy = accuracy_score(y_test, y_test_pred)\n",
        "\n",
        "train_recall = recall_score(y_rus, y_train_pred)\n",
        "test_recall = recall_score(y_test, y_test_pred)\n",
        "\n",
        "train_precision = precision_score(y_rus, y_train_pred)\n",
        "test_precision = precision_score(y_rus, y_train_pred)\n",
        "\n",
        "train_f1 = f1_score(y_rus, y_train_pred)\n",
        "test_f1 = f1_score(y_test, y_test_pred)\n",
        "\n",
        "train_auc = roc_auc_score(y_rus, y_train_pred)\n",
        "test_auc = roc_auc_score(y_test, y_test_pred)\n",
        "\n",
        "print(\"Accuracy (In-Sample):\", train_accuracy)\n",
        "print(\"Accuracy (Out-of-Sample):\", test_accuracy)\n",
        "print(\"Recall (In-Sample):\", train_recall)\n",
        "print(\"Recall (Out-of-Sample):\", test_recall)\n",
        "print(\"Precision (In-Sample):\", train_precision)\n",
        "print(\"Precision (Out-of-Sample):\", test_precision)\n",
        "print(\"F1 Score (In-Sample):\", train_f1)\n",
        "print(\"F1 Score (Out-of-Sample):\", test_f1)"
      ],
      "metadata": {
        "colab": {
          "base_uri": "https://localhost:8080/"
        },
        "id": "KIuCcbAlQIvG",
        "outputId": "eb9f7a41-8bf7-4430-a2ef-6226a8304d0c"
      },
      "id": "KIuCcbAlQIvG",
      "execution_count": null,
      "outputs": [
        {
          "output_type": "stream",
          "name": "stdout",
          "text": [
            "Accuracy (In-Sample): 0.7307692307692307\n",
            "Accuracy (Out-of-Sample): 0.8303571428571429\n",
            "Recall (In-Sample): 0.7307692307692307\n",
            "Recall (Out-of-Sample): 0.21\n",
            "Precision (In-Sample): 0.7307692307692307\n",
            "Precision (Out-of-Sample): 0.7307692307692307\n",
            "F1 Score (In-Sample): 0.7307692307692306\n",
            "F1 Score (Out-of-Sample): 0.2692307692307693\n"
          ]
        }
      ]
    },
    {
      "cell_type": "markdown",
      "source": [
        "#### RandomOverSampler"
      ],
      "metadata": {
        "id": "AuZe6w5OMcoJ"
      },
      "id": "AuZe6w5OMcoJ"
    },
    {
      "cell_type": "code",
      "source": [
        "knn = KNeighborsClassifier(n_neighbors = 3)\n",
        "knn.fit(X_ros, y_ros)\n",
        "y_train_pred = cross_val_predict(knn, X_ros, y_ros, cv=10)\n",
        "y_test_pred = cross_val_predict(knn, X_test, y_test, cv=10)\n",
        "\n",
        "train_accuracy = accuracy_score(y_ros, y_train_pred)\n",
        "test_accuracy = accuracy_score(y_test, y_test_pred)\n",
        "\n",
        "train_recall = recall_score(y_ros, y_train_pred)\n",
        "test_recall = recall_score(y_test, y_test_pred)\n",
        "\n",
        "train_precision = precision_score(y_ros, y_train_pred)\n",
        "test_precision = precision_score(y_ros, y_train_pred)\n",
        "\n",
        "train_f1 = f1_score(y_ros, y_train_pred)\n",
        "test_f1 = f1_score(y_test, y_test_pred)\n",
        "\n",
        "train_auc = roc_auc_score(y_ros, y_train_pred)\n",
        "test_auc = roc_auc_score(y_test, y_test_pred)\n",
        "\n",
        "print(\"Accuracy (In-Sample):\", train_accuracy)\n",
        "print(\"Accuracy (Out-of-Sample):\", test_accuracy)\n",
        "print(\"Recall (In-Sample):\", train_recall)\n",
        "print(\"Recall (Out-of-Sample):\", test_recall)\n",
        "print(\"Precision (In-Sample):\", train_precision)\n",
        "print(\"Precision (Out-of-Sample):\", test_precision)\n",
        "print(\"F1 Score (In-Sample):\", train_f1)\n",
        "print(\"F1 Score (Out-of-Sample):\", test_f1)"
      ],
      "metadata": {
        "colab": {
          "base_uri": "https://localhost:8080/"
        },
        "id": "xb30hsvWQa87",
        "outputId": "7b88295f-cc1a-4702-a28e-0137ed14f55b"
      },
      "id": "xb30hsvWQa87",
      "execution_count": null,
      "outputs": [
        {
          "output_type": "stream",
          "name": "stdout",
          "text": [
            "Accuracy (In-Sample): 0.9122938530734632\n",
            "Accuracy (Out-of-Sample): 0.8303571428571429\n",
            "Recall (In-Sample): 0.987256371814093\n",
            "Recall (Out-of-Sample): 0.21\n",
            "Precision (In-Sample): 0.8585397653194263\n",
            "Precision (Out-of-Sample): 0.8585397653194263\n",
            "F1 Score (In-Sample): 0.9184100418410042\n",
            "F1 Score (Out-of-Sample): 0.2692307692307693\n"
          ]
        }
      ]
    },
    {
      "cell_type": "markdown",
      "source": [
        "#### Smote"
      ],
      "metadata": {
        "id": "fOYQfSW5MeUV"
      },
      "id": "fOYQfSW5MeUV"
    },
    {
      "cell_type": "code",
      "source": [
        "knn = KNeighborsClassifier(n_neighbors = 3)\n",
        "knn.fit(X_smote, y_smote)\n",
        "y_train_pred = cross_val_predict(knn, X_smote, y_smote, cv=10)\n",
        "y_test_pred = cross_val_predict(knn, X_test, y_test, cv=10)\n",
        "\n",
        "train_accuracy = accuracy_score(y_smote, y_train_pred)\n",
        "test_accuracy = accuracy_score(y_test, y_test_pred)\n",
        "\n",
        "train_recall = recall_score(y_smote, y_train_pred)\n",
        "test_recall = recall_score(y_test, y_test_pred)\n",
        "\n",
        "train_precision = precision_score(y_smote, y_train_pred)\n",
        "test_precision = precision_score(y_smote, y_train_pred)\n",
        "\n",
        "train_f1 = f1_score(y_smote, y_train_pred)\n",
        "test_f1 = f1_score(y_test, y_test_pred)\n",
        "\n",
        "train_auc = roc_auc_score(y_smote, y_train_pred)\n",
        "test_auc = roc_auc_score(y_test, y_test_pred)\n",
        "\n",
        "print(\"Accuracy (In-Sample):\", train_accuracy)\n",
        "print(\"Accuracy (Out-of-Sample):\", test_accuracy)\n",
        "print(\"Recall (In-Sample):\", train_recall)\n",
        "print(\"Recall (Out-of-Sample):\", test_recall)\n",
        "print(\"Precision (In-Sample):\", train_precision)\n",
        "print(\"Precision (Out-of-Sample):\", test_precision)\n",
        "print(\"F1 Score (In-Sample):\", train_f1)\n",
        "print(\"F1 Score (Out-of-Sample):\", test_f1)"
      ],
      "metadata": {
        "colab": {
          "base_uri": "https://localhost:8080/"
        },
        "id": "bCLCaWLbQf6t",
        "outputId": "de86dcb7-1851-45ac-ffc0-0b22044bd54d"
      },
      "id": "bCLCaWLbQf6t",
      "execution_count": null,
      "outputs": [
        {
          "output_type": "stream",
          "name": "stdout",
          "text": [
            "Accuracy (In-Sample): 0.8511994002998501\n",
            "Accuracy (Out-of-Sample): 0.8571428571428571\n",
            "Recall (In-Sample): 0.9737631184407796\n",
            "Recall (Out-of-Sample): 0.28\n",
            "Precision (In-Sample): 0.7820590006020469\n",
            "Precision (Out-of-Sample): 0.7820590006020469\n",
            "F1 Score (In-Sample): 0.8674457429048414\n",
            "F1 Score (Out-of-Sample): 0.3684210526315789\n"
          ]
        }
      ]
    },
    {
      "cell_type": "markdown",
      "source": [
        "#### Not adjusted for imbalance"
      ],
      "metadata": {
        "id": "tNUUMPFSMfbC"
      },
      "id": "tNUUMPFSMfbC"
    },
    {
      "cell_type": "code",
      "source": [
        "knn = KNeighborsClassifier(n_neighbors = 3)\n",
        "knn.fit(X_train, y_train)\n",
        "y_train_pred = cross_val_predict(knn, X_train, y_train, cv=10)\n",
        "y_test_pred = cross_val_predict(knn, X_test, y_test, cv=10)\n",
        "\n",
        "train_accuracy = accuracy_score(y_train, y_train_pred)\n",
        "test_accuracy = accuracy_score(y_test, y_test_pred)\n",
        "\n",
        "train_recall = recall_score(y_train, y_train_pred)\n",
        "test_recall = recall_score(y_test, y_test_pred)\n",
        "\n",
        "train_precision = precision_score(y_train, y_train_pred)\n",
        "test_precision = precision_score(y_train, y_train_pred)\n",
        "\n",
        "train_f1 = f1_score(y_train, y_train_pred)\n",
        "test_f1 = f1_score(y_test, y_test_pred)\n",
        "\n",
        "train_auc = roc_auc_score(y_train, y_train_pred)\n",
        "test_auc = roc_auc_score(y_test, y_test_pred)\n",
        "\n",
        "print(\"Accuracy (In-Sample):\", train_accuracy)\n",
        "print(\"Accuracy (Out-of-Sample):\", test_accuracy)\n",
        "print(\"Recall (In-Sample):\", train_recall)\n",
        "print(\"Recall (Out-of-Sample):\", test_recall)\n",
        "print(\"Precision (In-Sample):\", train_precision)\n",
        "print(\"Precision (Out-of-Sample):\", test_precision)\n",
        "print(\"F1 Score (In-Sample):\", train_f1)\n",
        "print(\"F1 Score (Out-of-Sample):\", test_f1)"
      ],
      "metadata": {
        "colab": {
          "base_uri": "https://localhost:8080/"
        },
        "id": "_pgpcdyjQm8X",
        "outputId": "2da35c4e-a114-4852-c84c-a18f156a4a79"
      },
      "id": "_pgpcdyjQm8X",
      "execution_count": null,
      "outputs": [
        {
          "output_type": "stream",
          "name": "stdout",
          "text": [
            "Accuracy (In-Sample): 0.8539540816326531\n",
            "Accuracy (Out-of-Sample): 0.8571428571428571\n",
            "Recall (In-Sample): 0.3418803418803419\n",
            "Recall (Out-of-Sample): 0.28\n",
            "Precision (In-Sample): 0.5161290322580645\n",
            "Precision (Out-of-Sample): 0.5161290322580645\n",
            "F1 Score (In-Sample): 0.41131105398457585\n",
            "F1 Score (Out-of-Sample): 0.3684210526315789\n"
          ]
        }
      ]
    },
    {
      "cell_type": "markdown",
      "source": [
        "## Best model"
      ],
      "metadata": {
        "id": "OiaK1lgbv-jO"
      },
      "id": "OiaK1lgbv-jO"
    },
    {
      "cell_type": "markdown",
      "source": [
        "#### Decision tree with RandomOverSampler"
      ],
      "metadata": {
        "id": "6tBEZZT80SVs"
      },
      "id": "6tBEZZT80SVs"
    },
    {
      "cell_type": "code",
      "source": [
        "# Define the parameter grid\n",
        "parameters = {\n",
        "    'max_depth': range(3, 20),\n",
        "    'min_samples_split': [2, 5, 10],\n",
        "    'min_samples_leaf': [1, 2, 4],\n",
        "    'criterion': ['gini', 'entropy']\n",
        "}\n",
        "\n",
        "outer_cv = KFold(n_splits=5, shuffle=True, random_state=42)\n",
        "inner_cv = KFold(n_splits=5, shuffle=True, random_state=42)\n",
        "\n",
        "# Initialize lists to store results\n",
        "best_scores = []\n",
        "best_params_list = []\n",
        "\n",
        "# Outer cross-validation loop\n",
        "for train_index, test_index in outer_cv.split(X_ros, y_ros):\n",
        "    X_train_outer, X_test_outer = X_ros[train_index], X_ros[test_index]\n",
        "    y_train_outer, y_test_outer = y_ros[train_index], y_ros[test_index]\n",
        "\n",
        "    # Initialize the GridSearchCV object for hyperparameter tuning\n",
        "    gs_dt = GridSearchCV(DecisionTreeClassifier(),\n",
        "                         parameters,\n",
        "                         scoring='precision',\n",
        "                         cv=inner_cv,\n",
        "                         n_jobs=4)\n",
        "\n",
        "    gs_dt.fit(X_train_outer, y_train_outer)\n",
        "\n",
        "    # Get the best hyperparameters and score from the inner loop\n",
        "    best_params_inner = gs_dt.best_params_\n",
        "    best_score_inner = gs_dt.best_score_\n",
        "\n",
        "    best_params_list.append(best_params_inner)\n",
        "    best_scores.append(best_score_inner)\n",
        "\n",
        "# Calculate the mean and standard deviation of the best scores\n",
        "mean_best_score = np.mean(best_scores)\n",
        "std_best_score = np.std(best_scores)\n",
        "\n",
        "# Get the best hyperparameters from the outer loop\n",
        "best_params_outer = best_params_list[np.argmax(best_scores)]\n",
        "\n",
        "print(\"Best Precision for Decision Tree Classifier (Nested CV): \", mean_best_score)\n",
        "print(\"Best hyperparameters for Decision Tree Classifier (Nested CV): \", best_params_outer)"
      ],
      "metadata": {
        "colab": {
          "base_uri": "https://localhost:8080/"
        },
        "id": "15NLNVV9Ric2",
        "outputId": "b67a14be-c153-456f-e405-114ba31fcd1e"
      },
      "id": "15NLNVV9Ric2",
      "execution_count": null,
      "outputs": [
        {
          "output_type": "stream",
          "name": "stdout",
          "text": [
            "Best Precision for Decision Tree Classifier (Nested CV):  0.8890089977775496\n",
            "Best hyperparameters for Decision Tree Classifier (Nested CV):  {'criterion': 'gini', 'max_depth': 17, 'min_samples_leaf': 2, 'min_samples_split': 5}\n"
          ]
        }
      ]
    },
    {
      "cell_type": "code",
      "source": [
        "tree = DecisionTreeClassifier(criterion = 'gini',\n",
        "                              max_depth = 17,\n",
        "                              min_samples_leaf = 2,\n",
        "                              min_samples_split = 5)\n",
        "tree.fit(X_ros, y_ros)\n",
        "y_train_pred = cross_val_predict(tree, X_ros, y_ros, cv=10)\n",
        "y_test_pred = cross_val_predict(tree, X_test, y_test, cv=10)\n",
        "\n",
        "train_accuracy = accuracy_score(y_ros, y_train_pred)\n",
        "test_accuracy = accuracy_score(y_test, y_test_pred)\n",
        "\n",
        "train_recall = recall_score(y_ros, y_train_pred)\n",
        "test_recall = recall_score(y_test, y_test_pred)\n",
        "\n",
        "train_precision = precision_score(y_ros, y_train_pred)\n",
        "test_precision = precision_score(y_ros, y_train_pred)\n",
        "\n",
        "train_f1 = f1_score(y_ros, y_train_pred)\n",
        "test_f1 = f1_score(y_test, y_test_pred)\n",
        "\n",
        "print(\"Accuracy (In-Sample):\", train_accuracy)\n",
        "print(\"Accuracy (Out-of-Sample):\", test_accuracy)\n",
        "print(\"Recall (In-Sample):\", train_recall)\n",
        "print(\"Recall (Out-of-Sample):\", test_recall)\n",
        "print(\"Precision (In-Sample):\", train_precision)\n",
        "print(\"Precision (Out-of-Sample):\", test_precision)\n",
        "print(\"F1 Score (In-Sample):\", train_f1)\n",
        "print(\"F1 Score (Out-of-Sample):\", test_f1)"
      ],
      "metadata": {
        "colab": {
          "base_uri": "https://localhost:8080/"
        },
        "id": "7hdozWKfTLim",
        "outputId": "961c2c0d-1d20-4a18-a2fb-c676b0ffa442"
      },
      "id": "7hdozWKfTLim",
      "execution_count": null,
      "outputs": [
        {
          "output_type": "stream",
          "name": "stdout",
          "text": [
            "Accuracy (In-Sample): 0.931784107946027\n",
            "Accuracy (Out-of-Sample): 0.8258928571428571\n",
            "Recall (In-Sample): 0.987256371814093\n",
            "Recall (Out-of-Sample): 0.33\n",
            "Precision (In-Sample): 0.888663967611336\n",
            "Precision (Out-of-Sample): 0.888663967611336\n",
            "F1 Score (In-Sample): 0.9353693181818182\n",
            "F1 Score (Out-of-Sample): 0.36065573770491804\n"
          ]
        }
      ]
    },
    {
      "cell_type": "markdown",
      "source": [
        "*Optimized decision tree out-of-sample precision: 0.893*"
      ],
      "metadata": {
        "id": "ZX9Vi8C2a6YJ"
      },
      "id": "ZX9Vi8C2a6YJ"
    },
    {
      "cell_type": "markdown",
      "source": [
        "#### Logistic regression with Smote"
      ],
      "metadata": {
        "id": "0pLA0ehqRiuf"
      },
      "id": "0pLA0ehqRiuf"
    },
    {
      "cell_type": "code",
      "source": [
        "# Define the parameter grid\n",
        "parameters = {\n",
        "    'penalty': ['l1', 'l2'],\n",
        "    'C': [0.001, 0.01, 0.1, 1, 10, 100],\n",
        "    'solver': ['liblinear', 'saga'],\n",
        "}\n",
        "\n",
        "outer_cv = KFold(n_splits=5, shuffle=True, random_state=42)\n",
        "inner_cv = KFold(n_splits=5, shuffle=True, random_state=42)\n",
        "\n",
        "# Initialize lists to store results\n",
        "best_scores = []\n",
        "best_params_list = []\n",
        "\n",
        "# Outer cross-validation loop\n",
        "for train_index, test_index in outer_cv.split(X_smote, y_smote):\n",
        "    X_train_outer, X_test_outer = X_smote[train_index], X_smote[test_index]\n",
        "    y_train_outer, y_test_outer = y_smote[train_index], y_smote[test_index]\n",
        "\n",
        "    # Initialize the GridSearchCV object for hyperparameter tuning\n",
        "    gs_lr = GridSearchCV(LogisticRegression(),\n",
        "                     parameters,\n",
        "                     scoring='precision',\n",
        "                     cv=inner_cv,\n",
        "                     n_jobs=4)\n",
        "\n",
        "    # Fit the GridSearchCV on the training data\n",
        "    gs_lr.fit(X_train_outer, y_train_outer)\n",
        "\n",
        "    # Get the best hyperparameters and score from the inner loop\n",
        "    best_params_inner = gs_lr.best_params_\n",
        "    best_score_inner = gs_lr.best_score_\n",
        "\n",
        "    best_params_list.append(best_params_inner)\n",
        "    best_scores.append(best_score_inner)\n",
        "\n",
        "# Calculate the mean and standard deviation of the best scores\n",
        "mean_best_score = np.mean(best_scores)\n",
        "std_best_score = np.std(best_scores)\n",
        "\n",
        "# Get the best hyperparameters from the outer loop\n",
        "best_params_outer = best_params_list[np.argmax(best_scores)]\n",
        "\n",
        "print(\"Best Precision for Logistic Regression (Nested CV): \", mean_best_score)\n",
        "print(\"Best hyperparameters for Logistic Regression (Nested CV): \", best_params_outer)"
      ],
      "metadata": {
        "id": "iwmQADo4rsPX",
        "colab": {
          "base_uri": "https://localhost:8080/"
        },
        "outputId": "2ae3fca7-043f-43ed-b7e7-60b9311e7395"
      },
      "id": "iwmQADo4rsPX",
      "execution_count": null,
      "outputs": [
        {
          "output_type": "stream",
          "name": "stdout",
          "text": [
            "Best Precision for Logistic Regression (Nested CV):  0.8437103070725914\n",
            "Best hyperparameters for Logistic Regression (Nested CV):  {'C': 10, 'penalty': 'l1', 'solver': 'liblinear'}\n"
          ]
        }
      ]
    },
    {
      "cell_type": "code",
      "source": [
        "lr = LogisticRegression(C = 10,\n",
        "                        penalty = 'l1',\n",
        "                        solver = 'liblinear')\n",
        "lr.fit(X_smote, y_smote)\n",
        "y_train_pred = cross_val_predict(lr, X_smote, y_smote, cv=10)\n",
        "y_test_pred = cross_val_predict(lr, X_test, y_test, cv=10)\n",
        "\n",
        "train_accuracy = accuracy_score(y_smote, y_train_pred)\n",
        "test_accuracy = accuracy_score(y_test, y_test_pred)\n",
        "\n",
        "train_recall = recall_score(y_smote, y_train_pred)\n",
        "test_recall = recall_score(y_test, y_test_pred)\n",
        "\n",
        "train_precision = precision_score(y_smote, y_train_pred)\n",
        "test_precision = precision_score(y_smote, y_train_pred)\n",
        "\n",
        "train_f1 = f1_score(y_smote, y_train_pred)\n",
        "test_f1 = f1_score(y_test, y_test_pred)\n",
        "\n",
        "train_auc = roc_auc_score(y_smote, y_train_pred)\n",
        "test_auc = roc_auc_score(y_test, y_test_pred)\n",
        "\n",
        "print(\"Accuracy (In-Sample):\", train_accuracy)\n",
        "print(\"Accuracy (Out-of-Sample):\", test_accuracy)\n",
        "print(\"Recall (In-Sample):\", train_recall)\n",
        "print(\"Recall (Out-of-Sample):\", test_recall)\n",
        "print(\"Precision (In-Sample):\", train_precision)\n",
        "print(\"Precision (Out-of-Sample):\", test_precision)\n",
        "print(\"F1 Score (In-Sample):\", train_f1)\n",
        "print(\"F1 Score (Out-of-Sample):\", test_f1)"
      ],
      "metadata": {
        "id": "nWAsfe8NRkR5",
        "colab": {
          "base_uri": "https://localhost:8080/"
        },
        "outputId": "bf4f63ec-794a-4f53-a777-b83e02278668"
      },
      "id": "nWAsfe8NRkR5",
      "execution_count": null,
      "outputs": [
        {
          "output_type": "stream",
          "name": "stdout",
          "text": [
            "Accuracy (In-Sample): 0.845952023988006\n",
            "Accuracy (Out-of-Sample): 0.8958333333333334\n",
            "Recall (In-Sample): 0.8538230884557722\n",
            "Recall (Out-of-Sample): 0.49\n",
            "Precision (In-Sample): 0.8405904059040591\n",
            "Precision (Out-of-Sample): 0.8405904059040591\n",
            "F1 Score (In-Sample): 0.8471550762365192\n",
            "F1 Score (Out-of-Sample): 0.5833333333333334\n"
          ]
        }
      ]
    },
    {
      "cell_type": "markdown",
      "source": [
        "*Optimized logistic regression out-of-sample precision: 0.841*"
      ],
      "metadata": {
        "id": "0klGFZRTbCnv"
      },
      "id": "0klGFZRTbCnv"
    },
    {
      "cell_type": "markdown",
      "source": [
        "#### kNN with RandomOverSampler"
      ],
      "metadata": {
        "id": "BRI7PPZpRk0n"
      },
      "id": "BRI7PPZpRk0n"
    },
    {
      "cell_type": "code",
      "source": [
        "# Define the parameter grid\n",
        "parameters = {\n",
        "    'n_neighbors': range(3, 20),\n",
        "    'weights': ['uniform', 'distance'],\n",
        "    'metric': ['euclidean', 'manhattan'],\n",
        "}\n",
        "\n",
        "outer_cv = KFold(n_splits=5, shuffle=True, random_state=42)\n",
        "inner_cv = KFold(n_splits=5, shuffle=True, random_state=42)\n",
        "\n",
        "# Initialize lists to store results\n",
        "best_scores = []\n",
        "best_params_list = []\n",
        "\n",
        "# Outer cross-validation loop\n",
        "for train_index, test_index in outer_cv.split(X_ros, y_ros):\n",
        "    X_train_outer, X_test_outer = X_ros[train_index], X_ros[test_index]\n",
        "    y_train_outer, y_test_outer = y_ros[train_index], y_ros[test_index]\n",
        "\n",
        "    # Initialize the GridSearchCV object for hyperparameter tuning\n",
        "    gs_knn = GridSearchCV(KNeighborsClassifier(),\n",
        "                         parameters,\n",
        "                         scoring='precision',\n",
        "                         cv=inner_cv,\n",
        "                         n_jobs=4)\n",
        "\n",
        "    gs_knn.fit(X_train_outer, y_train_outer)\n",
        "\n",
        "    # Get the best hyperparameters and score from the inner loop\n",
        "    best_params_inner = gs_knn.best_params_\n",
        "    best_score_inner = gs_knn.best_score_\n",
        "\n",
        "    best_params_list.append(best_params_inner)\n",
        "    best_scores.append(best_score_inner)\n",
        "\n",
        "# Calculate the mean and standard deviation of the best scores\n",
        "mean_best_score = np.mean(best_scores)\n",
        "std_best_score = np.std(best_scores)\n",
        "\n",
        "best_params_outer = best_params_list[np.argmax(best_scores)]\n",
        "\n",
        "print(\"Best Precision for K-Nearest Neighbors (Nested CV): \", mean_best_score)\n",
        "print(\"Best hyperparameters for K-Nearest Neighbors (Nested CV): \", best_params_outer)"
      ],
      "metadata": {
        "id": "oFEaSJBArs_G",
        "colab": {
          "base_uri": "https://localhost:8080/"
        },
        "outputId": "3c152031-b22d-4cbf-9def-bbfb610e8910"
      },
      "id": "oFEaSJBArs_G",
      "execution_count": null,
      "outputs": [
        {
          "output_type": "stream",
          "name": "stdout",
          "text": [
            "Best Precision for K-Nearest Neighbors (Nested CV):  0.858813381918343\n",
            "Best hyperparameters for K-Nearest Neighbors (Nested CV):  {'metric': 'manhattan', 'n_neighbors': 4, 'weights': 'uniform'}\n"
          ]
        }
      ]
    },
    {
      "cell_type": "code",
      "source": [
        "knn = KNeighborsClassifier(n_neighbors = 4,\n",
        "                           metric = 'manhattan',\n",
        "                           weights = 'uniform')\n",
        "knn.fit(X_ros, y_ros)\n",
        "y_train_pred = cross_val_predict(knn, X_ros, y_ros, cv=10)\n",
        "y_test_pred = cross_val_predict(knn, X_test, y_test, cv=10)\n",
        "\n",
        "train_accuracy = accuracy_score(y_ros, y_train_pred)\n",
        "test_accuracy = accuracy_score(y_test, y_test_pred)\n",
        "\n",
        "train_recall = recall_score(y_ros, y_train_pred)\n",
        "test_recall = recall_score(y_test, y_test_pred)\n",
        "\n",
        "train_precision = precision_score(y_ros, y_train_pred)\n",
        "test_precision = precision_score(y_ros, y_train_pred)\n",
        "\n",
        "train_f1 = f1_score(y_ros, y_train_pred)\n",
        "test_f1 = f1_score(y_test, y_test_pred)\n",
        "\n",
        "train_auc = roc_auc_score(y_ros, y_train_pred)\n",
        "test_auc = roc_auc_score(y_test, y_test_pred)\n",
        "\n",
        "print(\"Accuracy (In-Sample):\", train_accuracy)\n",
        "print(\"Accuracy (Out-of-Sample):\", test_accuracy)\n",
        "print(\"Recall (In-Sample):\", train_recall)\n",
        "print(\"Recall (Out-of-Sample):\", test_recall)\n",
        "print(\"Precision (In-Sample):\", train_precision)\n",
        "print(\"Precision (Out-of-Sample):\", test_precision)\n",
        "print(\"F1 Score (In-Sample):\", train_f1)\n",
        "print(\"F1 Score (Out-of-Sample):\", test_f1)"
      ],
      "metadata": {
        "id": "1Yf0TrcgRnZh",
        "colab": {
          "base_uri": "https://localhost:8080/"
        },
        "outputId": "9b60ca71-6374-4675-de85-6de720eb5db4"
      },
      "id": "1Yf0TrcgRnZh",
      "execution_count": null,
      "outputs": [
        {
          "output_type": "stream",
          "name": "stdout",
          "text": [
            "Accuracy (In-Sample): 0.9081709145427287\n",
            "Accuracy (Out-of-Sample): 0.8645833333333334\n",
            "Recall (In-Sample): 0.9557721139430285\n",
            "Recall (Out-of-Sample): 0.15\n",
            "Precision (In-Sample): 0.8726899383983573\n",
            "Precision (Out-of-Sample): 0.8726899383983573\n",
            "F1 Score (In-Sample): 0.9123434704830053\n",
            "F1 Score (Out-of-Sample): 0.24793388429752064\n"
          ]
        }
      ]
    },
    {
      "cell_type": "markdown",
      "source": [
        "*Optimized k-NN out-of-sample precision: 0.873*"
      ],
      "metadata": {
        "id": "6xv2CPMqdlkl"
      },
      "id": "6xv2CPMqdlkl"
    }
  ],
  "metadata": {
    "kernelspec": {
      "display_name": "Python 3 (ipykernel)",
      "language": "python",
      "name": "python3"
    },
    "language_info": {
      "codemirror_mode": {
        "name": "ipython",
        "version": 3
      },
      "file_extension": ".py",
      "mimetype": "text/x-python",
      "name": "python",
      "nbconvert_exporter": "python",
      "pygments_lexer": "ipython3",
      "version": "3.11.5"
    },
    "colab": {
      "provenance": []
    }
  },
  "nbformat": 4,
  "nbformat_minor": 5
}
