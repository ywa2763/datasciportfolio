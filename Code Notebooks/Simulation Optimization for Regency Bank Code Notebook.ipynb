{
  "nbformat": 4,
  "nbformat_minor": 0,
  "metadata": {
    "colab": {
      "provenance": []
    },
    "kernelspec": {
      "name": "python3",
      "display_name": "Python 3"
    },
    "language_info": {
      "name": "python"
    }
  },
  "cells": [
    {
      "cell_type": "markdown",
      "source": [
        "##Set-up"
      ],
      "metadata": {
        "id": "jc0Q68QJU9Br"
      }
    },
    {
      "cell_type": "code",
      "execution_count": null,
      "metadata": {
        "colab": {
          "base_uri": "https://localhost:8080/"
        },
        "id": "PSzF13hWou8t",
        "outputId": "8cbfe747-f859-4611-b3ba-a8e045fd99d3"
      },
      "outputs": [
        {
          "output_type": "stream",
          "name": "stdout",
          "text": [
            "Collecting gurobipy\n",
            "  Downloading gurobipy-11.0.0-cp310-cp310-manylinux2014_x86_64.manylinux_2_17_x86_64.whl (13.4 MB)\n",
            "\u001b[2K     \u001b[90m━━━━━━━━━━━━━━━━━━━━━━━━━━━━━━━━━━━━━━━━\u001b[0m \u001b[32m13.4/13.4 MB\u001b[0m \u001b[31m32.1 MB/s\u001b[0m eta \u001b[36m0:00:00\u001b[0m\n",
            "\u001b[?25hInstalling collected packages: gurobipy\n",
            "Successfully installed gurobipy-11.0.0\n"
          ]
        }
      ],
      "source": [
        "!pip install gurobipy\n",
        "import gurobipy as gp\n",
        "from gurobipy import GRB\n",
        "import pandas as pd\n",
        "import numpy as np\n",
        "import matplotlib.pyplot as plt\n",
        "pd.options.display.float_format = '{:,.0f}'.format"
      ]
    },
    {
      "cell_type": "code",
      "source": [
        "data = pd.read_excel('RegencyClientList.xlsx')\n",
        "df = data.copy()\n",
        "\n",
        "risk_ratings = df['Risk Rating']\n",
        "complexity_levels = df['Complexity Level']\n",
        "annual_spend = df['Annual Spend Volume']\n",
        "num_cards = df['# of Cards']\n",
        "clients = len(df)"
      ],
      "metadata": {
        "id": "DYDHI6ilUx9x"
      },
      "execution_count": null,
      "outputs": []
    },
    {
      "cell_type": "markdown",
      "source": [
        "##Simulation (Q2)"
      ],
      "metadata": {
        "id": "R5toueNTfJxE"
      }
    },
    {
      "cell_type": "markdown",
      "source": [
        "*Given constants*"
      ],
      "metadata": {
        "id": "T7hpRFGi1CRC"
      }
    },
    {
      "cell_type": "code",
      "source": [
        "#migration costs\n",
        "migration_fc = 500000\n",
        "migration_costs = {\n",
        "    1: 2000,\n",
        "    2: 5000,\n",
        "    3: 7000,\n",
        "    }\n",
        "def get_migration_cost(complexity_level):\n",
        "    if complexity_level == 1:\n",
        "        return 2000\n",
        "    elif complexity_level == 2:\n",
        "        return 5000\n",
        "    elif complexity_level == 3:\n",
        "        return 7000\n",
        "    else:\n",
        "        return 0\n",
        "\n",
        "#ongoing annual costs\n",
        "ongoing_fc = 200000\n",
        "ongoing_costs = {\n",
        "    1: 1500,\n",
        "    2: 2000,\n",
        "    3: 3000,\n",
        "    }\n",
        "def get_ongoing_cost(complexity_level):\n",
        "    if complexity_level == 1:\n",
        "        return 1500\n",
        "    elif complexity_level == 2:\n",
        "        return 2000\n",
        "    elif complexity_level == 3:\n",
        "        return 3000\n",
        "    else:\n",
        "        return 0\n",
        "\n",
        "#card associated costs\n",
        "card_cost_to_issue = 45\n",
        "card_annual_service_cost = 40\n",
        "\n",
        "#other annual rates\n",
        "attrition_rate = 0.1\n",
        "annual_growth = 0.08\n",
        "annual_card_growth = 0.1\n",
        "annual_growth_std_dev = 0.01\n",
        "\n",
        "#revenue related constants\n",
        "flat_charge = 5000 #per client, not per card\n",
        "variable_charge = 0.01 #1% of total annual spend\n",
        "\n",
        "#risk-related constants\n",
        "risk_data = {\n",
        "    7: {'default_probability': 0.1, 'default_months': 6},\n",
        "    6: {'default_probability': 0.05, 'default_months': 4},\n",
        "    5: {'default_probability': 0.03, 'default_months': 3},\n",
        "    4: {'default_probability': 0.02, 'default_months': 3},\n",
        "    3: {'default_probability': 0.01, 'default_months': 3},\n",
        "    2: {'default_probability': 0.005, 'default_months': 3},\n",
        "    1: {'default_probability': 0.001, 'default_months': 3}\n",
        "}"
      ],
      "metadata": {
        "id": "uDmm1zJGfLFT"
      },
      "execution_count": null,
      "outputs": []
    },
    {
      "cell_type": "markdown",
      "source": [
        "*Simulation function (documented ver.) - if needed to debug*"
      ],
      "metadata": {
        "id": "sUBwtSJ61Fsj"
      }
    },
    {
      "cell_type": "code",
      "source": [
        "def documented_simulation(data, year):\n",
        "  df = data.copy()\n",
        "\n",
        "  #migration costs\n",
        "  if (year == 1):\n",
        "    migration_cost = migration_fc + df['Complexity Level'].apply(get_migration_cost).sum()\n",
        "  else:\n",
        "    migration_cost = 0\n",
        "  print(\"Migration Cost:\", migration_cost)\n",
        "\n",
        "  #annual ongoing costs\n",
        "  ongoing_cost = ongoing_fc + df['Complexity Level'].apply(get_ongoing_cost).sum()\n",
        "  print(\"Ongoing Cost:\", ongoing_cost)\n",
        "\n",
        "  #update card number growth\n",
        "  curr_num_cards = df['# of Cards']\n",
        "  new_cards = curr_num_cards * np.random.normal(loc = .1, scale = .01)\n",
        "  print(\"Current cards:\", curr_num_cards.sum())\n",
        "  print(\"New cards issued:\", new_cards.sum())\n",
        "\n",
        "  #update spending growth\n",
        "  curr_annual_spend = df['Annual Spend Volume']\n",
        "  new_spend = curr_annual_spend * np.random.normal(loc = .08, scale = .01)\n",
        "  print(\"Current spend:\", curr_annual_spend.sum())\n",
        "  print(\"Spending growth:\", new_spend.sum())\n",
        "\n",
        "  #update card number and spending in df\n",
        "  df['# of Cards'] = curr_num_cards + new_cards\n",
        "  df['Annual Spend Volume'] = curr_annual_spend + new_spend\n",
        "  spend = df['Annual Spend Volume'].sum()\n",
        "\n",
        "  #card related costs\n",
        "  card_issue_cost = new_cards.sum() * card_cost_to_issue\n",
        "  print(\"Card Issue Cost: \", card_issue_cost)\n",
        "  card_service_cost = (curr_num_cards + new_cards).sum() * card_annual_service_cost\n",
        "  print(\"Card Service Cost: \", card_service_cost)\n",
        "\n",
        "  #calculate default costs based on risk rating\n",
        "  df['Default Occurrence'] = df['Risk Rating'].map(lambda x: np.random.binomial(1, risk_data[x]['default_probability']))\n",
        "  print(\"Number of Defaults:\", df['Default Occurrence'].sum())\n",
        "\n",
        "  #calculate default costs\n",
        "  default_costs = np.where(df['Default Occurrence'] == 1, (df['Annual Spend Volume'] / 12) * df.apply(lambda row: risk_data[row['Risk Rating']]['default_months'], axis=1), 0)\n",
        "\n",
        "  total_default_costs = default_costs.sum()\n",
        "  print(\"Default Costs:\", default_costs.sum())\n",
        "\n",
        "  #calculate total cost\n",
        "  total_cost = migration_cost + ongoing_cost + card_service_cost + card_issue_cost + total_default_costs\n",
        "  print(\"Total Cost:\", total_cost)\n",
        "\n",
        "  #calculate total revenue\n",
        "  revenue = len(data) * flat_charge + spend.sum() * variable_charge\n",
        "  total_revenue = revenue.sum()\n",
        "  print(\"Total Revenue:\", total_revenue)\n",
        "\n",
        "  #calculate total profit\n",
        "  total_profit = total_revenue - total_cost\n",
        "  print(\"Total Profit:\", total_revenue - total_cost)\n",
        "\n",
        "  #attrition update\n",
        "  df[\"Attrition\"] = np.random.binomial(1, attrition_rate, len(df))\n",
        "  new_df = df[df['Attrition'] == 0]\n",
        "  print(\"Lost Clients:\", df[\"Attrition\"].sum())\n",
        "  print(\"Remaining Clients:\", len(new_df))\n",
        "\n",
        "  return total_cost, total_revenue, total_profit, new_df"
      ],
      "metadata": {
        "id": "RkafExNQl9AW"
      },
      "execution_count": null,
      "outputs": []
    },
    {
      "cell_type": "markdown",
      "source": [
        "*Simulation function (clean ver.)*"
      ],
      "metadata": {
        "id": "rS3FOF7H-1GS"
      }
    },
    {
      "cell_type": "code",
      "source": [
        "def simulation(data, year):\n",
        "  df = data.copy()\n",
        "\n",
        "  #migration costs\n",
        "  if (year == 1):\n",
        "    migration_cost = migration_fc + df['Complexity Level'].apply(get_migration_cost).sum()\n",
        "  else:\n",
        "    migration_cost = 0\n",
        "\n",
        "  #annual ongoing costs\n",
        "  ongoing_cost = ongoing_fc + df['Complexity Level'].apply(get_ongoing_cost).sum()\n",
        "\n",
        "  #update card number growth\n",
        "  curr_num_cards = data['# of Cards']\n",
        "  new_cards = curr_num_cards * np.random.normal(loc = .1, scale = .01)\n",
        "\n",
        "  #update spending growth\n",
        "  curr_annual_spend = data['Annual Spend Volume']\n",
        "  new_spend = curr_annual_spend * np.random.normal(loc = .08, scale = .01)\n",
        "\n",
        "  #update card number and spending in df\n",
        "  df.loc[:,'# of Cards'] = curr_num_cards + new_cards\n",
        "  df.loc[:, 'Annual Spend Volume'] = curr_annual_spend + new_spend\n",
        "  spend = df['Annual Spend Volume'].sum()\n",
        "\n",
        "  #card related costs\n",
        "  card_issue_cost = new_cards.sum() * card_cost_to_issue\n",
        "  card_service_cost = (curr_num_cards + new_cards).sum() * card_annual_service_cost\n",
        "\n",
        "  #calculate default costs based on risk rating\n",
        "  df['Default Occurrence'] = df['Risk Rating'].map(lambda x: np.random.binomial(1, risk_data[x]['default_probability']))\n",
        "\n",
        "  #calculate default costs\n",
        "  default_costs = np.where(df['Default Occurrence'] == 1, (df['Annual Spend Volume'] / 12) * df.apply(lambda row: risk_data[row['Risk Rating']]['default_months'], axis=1), 0)\n",
        "\n",
        "  total_default_costs = default_costs.sum()\n",
        "\n",
        "  #calculate total cost\n",
        "  total_cost = migration_cost + ongoing_cost + card_service_cost + card_issue_cost + total_default_costs\n",
        "\n",
        "  #calculate total revenue\n",
        "  revenue = len(data) * flat_charge + spend.sum() * variable_charge\n",
        "  total_revenue = revenue.sum()\n",
        "\n",
        "  #calculate total profit\n",
        "  total_profit = total_revenue - total_cost\n",
        "\n",
        "  #attrition update\n",
        "  df[\"Attrition\"] = np.random.binomial(1, attrition_rate, len(df))\n",
        "  new_df = df[df['Attrition'] == 0]\n",
        "\n",
        "  return total_cost, total_revenue, total_profit, new_df"
      ],
      "metadata": {
        "id": "Z4I3Azv7-qM-"
      },
      "execution_count": null,
      "outputs": []
    },
    {
      "cell_type": "markdown",
      "source": [
        "*Three year simulation function*"
      ],
      "metadata": {
        "id": "ihb3BRd0-_my"
      }
    },
    {
      "cell_type": "code",
      "source": [
        "def three_year_sim():\n",
        "  data = pd.read_excel('RegencyClientList.xlsx')\n",
        "  df = data.copy()\n",
        "\n",
        "  #year 1\n",
        "  year1_total_cost, year1_total_revenue, year1_total_profit, df = simulation(df, 1)\n",
        "\n",
        "  #year 2\n",
        "  year2_total_cost, year2_total_revenue, year2_total_profit, df = simulation(df, 2)\n",
        "\n",
        "  #year 3\n",
        "  year3_total_cost, year3_total_revenue, year3_total_profit, df = simulation(df, 3)\n",
        "\n",
        "  #sum three years\n",
        "  three_year_cost = year1_total_cost + year2_total_cost + year3_total_cost\n",
        "  three_year_revenue = year1_total_revenue + year2_total_revenue + year3_total_revenue\n",
        "  three_year_profit = year1_total_profit + year2_total_profit + year3_total_profit\n",
        "\n",
        "  return year1_total_cost, year2_total_cost, year3_total_cost, three_year_cost, \\\n",
        "         year1_total_revenue, year2_total_revenue, year3_total_revenue, \\\n",
        "         three_year_revenue, year1_total_profit, year2_total_profit, \\\n",
        "         year3_total_profit, three_year_profit"
      ],
      "metadata": {
        "id": "2EM688qvAAJK"
      },
      "execution_count": null,
      "outputs": []
    },
    {
      "cell_type": "markdown",
      "source": [
        "*Distributions (100 simulations)*"
      ],
      "metadata": {
        "id": "6KZEIWDa_DvE"
      }
    },
    {
      "cell_type": "code",
      "source": [
        "import matplotlib.pyplot as plt\n",
        "\n",
        "def simulate_and_plot(num_simulations=100):\n",
        "    np.random.seed(42)\n",
        "\n",
        "    year1_costs = []\n",
        "    year2_costs = []\n",
        "    year3_costs = []\n",
        "    total_costs = []\n",
        "\n",
        "    year1_revenues = []\n",
        "    year2_revenues = []\n",
        "    year3_revenues = []\n",
        "    total_revenues = []\n",
        "\n",
        "    year1_results = []\n",
        "    year2_results = []\n",
        "    year3_results = []\n",
        "    total_results = []\n",
        "\n",
        "    for _ in range(num_simulations):\n",
        "        year1_total_cost, year2_total_cost, year3_total_cost, three_year_cost, \\\n",
        "        year1_total_revenue, year2_total_revenue, year3_total_revenue, \\\n",
        "        three_year_revenue, year1_total_profit, year2_total_profit, \\\n",
        "        year3_total_profit, three_year_profit = three_year_sim()\n",
        "\n",
        "        year1_costs.append(year1_total_cost)\n",
        "        year2_costs.append(year2_total_cost)\n",
        "        year3_costs.append(year3_total_cost)\n",
        "        total_costs.append(three_year_cost)\n",
        "\n",
        "        year1_revenues.append(year1_total_revenue)\n",
        "        year2_revenues.append(year2_total_revenue)\n",
        "        year3_revenues.append(year3_total_revenue)\n",
        "        total_revenues.append(three_year_revenue)\n",
        "\n",
        "        year1_results.append(year1_total_profit)\n",
        "        year2_results.append(year2_total_profit)\n",
        "        year3_results.append(year3_total_profit)\n",
        "        total_results.append(three_year_profit)\n",
        "\n",
        "    #year 1\n",
        "    mean_cost = np.mean(year1_costs)\n",
        "    std_cost = np.std(year1_costs)\n",
        "\n",
        "    mean_revenue = np.mean(year1_revenues)\n",
        "    std_revenue = np.std(year1_revenues)\n",
        "\n",
        "    mean_profit = np.mean(year1_results)\n",
        "    std_profit = np.std(year1_results)\n",
        "\n",
        "    print(f'Year 1 Mean Cost: {mean_cost:.2f}')\n",
        "    print(f'Cost Standard Deviation: {std_cost:.2f}')\n",
        "\n",
        "    print(f'Year 1 Mean Profit: {mean_revenue:.2f}')\n",
        "    print(f'Revenue Standard Deviation: {std_revenue:.2f}')\n",
        "\n",
        "    print(f'Year 1 Mean Profit: {mean_profit:.2f}')\n",
        "    print(f'Profit Standard Deviation: {std_profit:.2f}')\n",
        "\n",
        "    plt.hist(year1_results, bins=20, edgecolor='black')\n",
        "    plt.title('Distribution of Year 1 Profits')\n",
        "    plt.xlabel('Total Profit')\n",
        "    plt.ylabel('Frequency')\n",
        "    plt.show()\n",
        "\n",
        "    #year 2\n",
        "    mean_cost = np.mean(year2_costs)\n",
        "    std_cost = np.std(year2_costs)\n",
        "\n",
        "    mean_revenue = np.mean(year2_revenues)\n",
        "    std_revenue = np.std(year2_revenues)\n",
        "\n",
        "    mean_profit = np.mean(year2_results)\n",
        "    std_profit = np.std(year2_results)\n",
        "\n",
        "    print(f'Year 2 Mean Cost: {mean_cost:.2f}')\n",
        "    print(f'Cost Standard Deviation: {std_cost:.2f}')\n",
        "\n",
        "    print(f'Year 2 Mean Profit: {mean_revenue:.2f}')\n",
        "    print(f'Revenue Standard Deviation: {std_revenue:.2f}')\n",
        "\n",
        "    print(f'Year 2 Mean Profit: {mean_profit:.2f}')\n",
        "    print(f'Profit Standard Deviation: {std_profit:.2f}')\n",
        "\n",
        "    plt.hist(year2_results, bins=20, edgecolor='black')\n",
        "    plt.title('Distribution of Year 2 Profits')\n",
        "    plt.xlabel('Total Profit')\n",
        "    plt.ylabel('Frequency')\n",
        "    plt.show()\n",
        "\n",
        "    #year 3\n",
        "    mean_cost = np.mean(year3_costs)\n",
        "    std_cost = np.std(year3_costs)\n",
        "\n",
        "    mean_revenue = np.mean(year3_revenues)\n",
        "    std_revenue = np.std(year3_revenues)\n",
        "\n",
        "    mean_profit = np.mean(year3_results)\n",
        "    std_profit = np.std(year3_results)\n",
        "\n",
        "    print(f'Year 3 Mean Cost: {mean_cost:.2f}')\n",
        "    print(f'Cost Standard Deviation: {std_cost:.2f}')\n",
        "\n",
        "    print(f'Year 3 Mean Profit: {mean_revenue:.2f}')\n",
        "    print(f'Revenue Standard Deviation: {std_revenue:.2f}')\n",
        "\n",
        "    print(f'Year 3 Mean Profit: {mean_profit:.2f}')\n",
        "    print(f'Profit Standard Deviation: {std_profit:.2f}')\n",
        "    plt.hist(year3_results, bins=20, edgecolor='black')\n",
        "    plt.title('Distribution of Year 3 Profits')\n",
        "    plt.xlabel('Total Profit')\n",
        "    plt.ylabel('Frequency')\n",
        "    plt.show()\n",
        "\n",
        "    #three years total\n",
        "    mean_cost = np.mean(total_costs)\n",
        "    std_cost = np.std(total_costs)\n",
        "\n",
        "    mean_revenue = np.mean(total_revenues)\n",
        "    std_revenue = np.std(total_revenues)\n",
        "\n",
        "    mean_profit = np.mean(total_results)\n",
        "    std_profit = np.std(total_results)\n",
        "\n",
        "    print(f'Three Year Mean Cost: {mean_cost:.2f}')\n",
        "    print(f'Cost Standard Deviation: {std_cost:.2f}')\n",
        "\n",
        "    print(f'Three Year Mean Revenue: {mean_revenue:.2f}')\n",
        "    print(f'Revenue Standard Deviation: {std_revenue:.2f}')\n",
        "\n",
        "    print(f'Three Year Mean Profit: {mean_profit:.2f}')\n",
        "    print(f'Profit Standard Deviation: {std_profit:.2f}')\n",
        "\n",
        "    plt.hist(total_results, bins=20, edgecolor='black')\n",
        "    plt.title('Distribution of Three-Year Profits')\n",
        "    plt.xlabel('Total Profit')\n",
        "    plt.ylabel('Frequency')\n",
        "    plt.show()\n",
        "\n",
        "simulate_and_plot(num_simulations=100)"
      ],
      "metadata": {
        "colab": {
          "base_uri": "https://localhost:8080/",
          "height": 1000
        },
        "id": "z-Em0ybjADvz",
        "outputId": "c2f991ef-5dde-4e51-bfea-214bedcaf2d8"
      },
      "execution_count": null,
      "outputs": [
        {
          "output_type": "stream",
          "name": "stdout",
          "text": [
            "Year 1 Mean Cost: 8910471.48\n",
            "Cost Standard Deviation: 6059166.67\n",
            "Year 1 Mean Profit: 9910959.77\n",
            "Revenue Standard Deviation: 80113.10\n",
            "Year 1 Mean Profit: 1000488.30\n",
            "Profit Standard Deviation: 6057960.10\n"
          ]
        },
        {
          "output_type": "display_data",
          "data": {
            "text/plain": [
              "<Figure size 640x480 with 1 Axes>"
            ],
            "image/png": "[encoded data removed]"
          },
          "metadata": {}
        },
        {
          "output_type": "stream",
          "name": "stdout",
          "text": [
            "Year 2 Mean Cost: 6353762.46\n",
            "Cost Standard Deviation: 4447991.51\n",
            "Year 2 Mean Profit: 9595199.22\n",
            "Revenue Standard Deviation: 498359.02\n",
            "Year 2 Mean Profit: 3241436.76\n",
            "Profit Standard Deviation: 4489257.22\n"
          ]
        },
        {
          "output_type": "display_data",
          "data": {
            "text/plain": [
              "<Figure size 640x480 with 1 Axes>"
            ],
            "image/png": "[encoded data removed]"
          },
          "metadata": {}
        },
        {
          "output_type": "stream",
          "name": "stdout",
          "text": [
            "Year 3 Mean Cost: 5759057.86\n",
            "Cost Standard Deviation: 4456469.60\n",
            "Year 3 Mean Profit: 9241857.08\n",
            "Revenue Standard Deviation: 741553.18\n",
            "Year 3 Mean Profit: 3482799.22\n",
            "Profit Standard Deviation: 4436346.32\n"
          ]
        },
        {
          "output_type": "display_data",
          "data": {
            "text/plain": [
              "<Figure size 640x480 with 1 Axes>"
            ],
            "image/png": "[encoded data removed]"
          },
          "metadata": {}
        },
        {
          "output_type": "stream",
          "name": "stdout",
          "text": [
            "Three Year Mean Cost: 21023291.79\n",
            "Cost Standard Deviation: 9761777.15\n",
            "Three Year Mean Revenue: 28748016.07\n",
            "Revenue Standard Deviation: 1168060.27\n",
            "Three Year Mean Profit: 7724724.28\n",
            "Profit Standard Deviation: 9765319.27\n"
          ]
        },
        {
          "output_type": "display_data",
          "data": {
            "text/plain": [
              "<Figure size 640x480 with 1 Axes>"
            ],
            "image/png": "[encoded data removed]"
          },
          "metadata": {}
        }
      ]
    },
    {
      "cell_type": "markdown",
      "source": [
        "*Distributions (500 simulations)*"
      ],
      "metadata": {
        "id": "PTQx4Y9D1oCT"
      }
    },
    {
      "cell_type": "code",
      "source": [
        "import matplotlib.pyplot as plt\n",
        "\n",
        "def simulate_and_plot(num_simulations=500):\n",
        "    np.random.seed(42)\n",
        "\n",
        "    year1_costs = []\n",
        "    year2_costs = []\n",
        "    year3_costs = []\n",
        "    total_costs = []\n",
        "\n",
        "    year1_revenues = []\n",
        "    year2_revenues = []\n",
        "    year3_revenues = []\n",
        "    total_revenues = []\n",
        "\n",
        "    year1_results = []\n",
        "    year2_results = []\n",
        "    year3_results = []\n",
        "    total_results = []\n",
        "\n",
        "    for _ in range(num_simulations):\n",
        "        year1_total_cost, year2_total_cost, year3_total_cost, three_year_cost, \\\n",
        "        year1_total_revenue, year2_total_revenue, year3_total_revenue, \\\n",
        "        three_year_revenue, year1_total_profit, year2_total_profit, \\\n",
        "        year3_total_profit, three_year_profit = three_year_sim()\n",
        "\n",
        "        total_costs.append(three_year_cost)\n",
        "\n",
        "        total_revenues.append(three_year_revenue)\n",
        "\n",
        "        total_results.append(three_year_profit)\n",
        "\n",
        "    #three years total\n",
        "    mean_cost = np.mean(total_costs)\n",
        "    std_cost = np.std(total_costs)\n",
        "\n",
        "    mean_revenue = np.mean(total_revenues)\n",
        "    std_revenue = np.std(total_revenues)\n",
        "\n",
        "    mean_profit = np.mean(total_results)\n",
        "    std_profit = np.std(total_results)\n",
        "\n",
        "    print(f'Three Year Mean Cost: {mean_cost:.2f}')\n",
        "    print(f'Cost Standard Deviation: {std_cost:.2f}')\n",
        "\n",
        "    print(f'Three Year Mean Revenue: {mean_revenue:.2f}')\n",
        "    print(f'Revenue Standard Deviation: {std_revenue:.2f}')\n",
        "\n",
        "    print(f'Three Year Mean Profit: {mean_profit:.2f}')\n",
        "    print(f'Profit Standard Deviation: {std_profit:.2f}')\n",
        "\n",
        "    plt.hist(total_results, bins=20, edgecolor='black')\n",
        "    plt.title('Distribution of Three-Year Profits')\n",
        "    plt.xlabel('Total Profit')\n",
        "    plt.ylabel('Frequency')\n",
        "    plt.show()\n",
        "\n",
        "simulate_and_plot(num_simulations=500)"
      ],
      "metadata": {
        "id": "zjjU3YzW1rtd",
        "colab": {
          "base_uri": "https://localhost:8080/",
          "height": 576
        },
        "outputId": "c8bcd9c6-c9aa-4c32-dacf-0c0071a29da6"
      },
      "execution_count": null,
      "outputs": [
        {
          "output_type": "stream",
          "name": "stdout",
          "text": [
            "Three Year Mean Cost: 21596214.08\n",
            "Cost Standard Deviation: 9190429.14\n",
            "Three Year Mean Revenue: 28749241.51\n",
            "Revenue Standard Deviation: 1113334.01\n",
            "Three Year Mean Profit: 7153027.43\n",
            "Profit Standard Deviation: 9220941.93\n"
          ]
        },
        {
          "output_type": "display_data",
          "data": {
            "text/plain": [
              "<Figure size 640x480 with 1 Axes>"
            ],
            "image/png": "[encoded data removed]"
          },
          "metadata": {}
        }
      ]
    },
    {
      "cell_type": "markdown",
      "source": [
        "## Question 3"
      ],
      "metadata": {
        "id": "3NcdzGWQyA9o"
      }
    },
    {
      "cell_type": "code",
      "source": [
        "def simulate_by_risk_level(risk_level):\n",
        "  data = pd.read_excel('RegencyClientList.xlsx')\n",
        "  df = data[data['Risk Rating'] <= risk_level]\n",
        "\n",
        "  #year 1\n",
        "  year1_total_cost, year1_total_revenue, year1_total_profit, df = simulation(df, 1)\n",
        "\n",
        "  #year 2\n",
        "  year2_total_cost, year2_total_revenue, year2_total_profit, df = simulation(df, 2)\n",
        "\n",
        "  #year 3\n",
        "  year3_total_cost, year3_total_revenue, year3_total_profit, df = simulation(df, 3)\n",
        "\n",
        "  #sum three years\n",
        "  three_year_cost = year1_total_cost + year2_total_cost + year3_total_cost\n",
        "  three_year_revenue = year1_total_revenue + year2_total_revenue + year3_total_revenue\n",
        "  three_year_profit = year1_total_profit + year2_total_profit + year3_total_profit\n",
        "\n",
        "  return year1_total_profit, year2_total_profit, year3_total_profit, three_year_profit"
      ],
      "metadata": {
        "id": "MyXYbs1M2kOX"
      },
      "execution_count": null,
      "outputs": []
    },
    {
      "cell_type": "markdown",
      "source": [
        "*Risk level <= 7*"
      ],
      "metadata": {
        "id": "oKS4eC8Y37xA"
      }
    },
    {
      "cell_type": "code",
      "source": [
        "def simulate_and_plot(num_simulations=500):\n",
        "    np.random.seed(42)\n",
        "\n",
        "    year1_results = []\n",
        "    year2_results = []\n",
        "    year3_results = []\n",
        "    total_results = []\n",
        "\n",
        "    for _ in range(num_simulations):\n",
        "        year1_profit, year2_profit, year3_profit,three_year_profit = simulate_by_risk_level(7)\n",
        "        year1_results.append(year1_profit)\n",
        "        year2_results.append(year2_profit)\n",
        "        year3_results.append(year3_profit)\n",
        "        total_results.append(three_year_profit)\n",
        "\n",
        "    #year 1\n",
        "    mean_profit = np.mean(year1_results)\n",
        "    print(f'Year 1 Mean Profit: {mean_profit:.2f}')\n",
        "\n",
        "    #year 2\n",
        "    mean_profit = np.mean(year2_results)\n",
        "    print(f'Year 2 Mean Profit: {mean_profit:.2f}')\n",
        "\n",
        "    #year 3\n",
        "    mean_profit = np.mean(year3_results)\n",
        "    print(f'Year 3 Mean Profit: {mean_profit:.2f}')\n",
        "\n",
        "    #three years total\n",
        "    mean_profit = np.mean(total_results)\n",
        "    std_profit = np.std(total_results)\n",
        "    print(f'Three Year Mean Profit: {mean_profit:.2f}')\n",
        "    print(f'Profit Standard Deviation: {std_profit:.2f}')\n",
        "\n",
        "simulate_and_plot(num_simulations=500)"
      ],
      "metadata": {
        "colab": {
          "base_uri": "https://localhost:8080/"
        },
        "id": "lsGXHYf10NbN",
        "outputId": "59b1bbb7-6f9a-4ac1-dfff-d6d589df86d4"
      },
      "execution_count": null,
      "outputs": [
        {
          "output_type": "stream",
          "name": "stdout",
          "text": [
            "Year 1 Mean Profit: 1474199.99\n",
            "Year 2 Mean Profit: 2957869.80\n",
            "Year 3 Mean Profit: 2720957.64\n",
            "Three Year Mean Profit: 7153027.43\n",
            "Profit Standard Deviation: 9220941.93\n"
          ]
        }
      ]
    },
    {
      "cell_type": "markdown",
      "source": [
        "*Risk level <= 6*"
      ],
      "metadata": {
        "id": "I43jO-Kk4BIl"
      }
    },
    {
      "cell_type": "code",
      "source": [
        "def simulate_and_plot(num_simulations=500):\n",
        "    np.random.seed(42)\n",
        "\n",
        "    year1_results = []\n",
        "    year2_results = []\n",
        "    year3_results = []\n",
        "    total_results = []\n",
        "\n",
        "    for _ in range(num_simulations):\n",
        "        year1_profit, year2_profit, year3_profit,three_year_profit = simulate_by_risk_level(6)\n",
        "        year1_results.append(year1_profit)\n",
        "        year2_results.append(year2_profit)\n",
        "        year3_results.append(year3_profit)\n",
        "        total_results.append(three_year_profit)\n",
        "\n",
        "    #year 1\n",
        "    mean_profit = np.mean(year1_results)\n",
        "    print(f'Year 1 Mean Profit: {mean_profit:.2f}')\n",
        "\n",
        "    #year 2\n",
        "    mean_profit = np.mean(year2_results)\n",
        "    print(f'Year 2 Mean Profit: {mean_profit:.2f}')\n",
        "\n",
        "    #year 3\n",
        "    mean_profit = np.mean(year3_results)\n",
        "    print(f'Year 3 Mean Profit: {mean_profit:.2f}')\n",
        "\n",
        "    #three years total\n",
        "    mean_profit = np.mean(total_results)\n",
        "    std_profit = np.std(total_results)\n",
        "    print(f'Three Year Mean Profit: {mean_profit:.2f}')\n",
        "    print(f'Profit Standard Deviation: {std_profit:.2f}')\n",
        "\n",
        "simulate_and_plot(num_simulations=500)"
      ],
      "metadata": {
        "colab": {
          "base_uri": "https://localhost:8080/"
        },
        "id": "RL1iEd0-3_yB",
        "outputId": "ced1d047-ac81-4937-ab12-48593029fbb9"
      },
      "execution_count": null,
      "outputs": [
        {
          "output_type": "stream",
          "name": "stdout",
          "text": [
            "Year 1 Mean Profit: 2611471.11\n",
            "Year 2 Mean Profit: 3932200.66\n",
            "Year 3 Mean Profit: 3641573.36\n",
            "Three Year Mean Profit: 10185245.14\n",
            "Profit Standard Deviation: 7949808.04\n"
          ]
        }
      ]
    },
    {
      "cell_type": "markdown",
      "source": [
        "*Risk level <= 5*"
      ],
      "metadata": {
        "id": "3pGlmf7W4G62"
      }
    },
    {
      "cell_type": "code",
      "source": [
        "def simulate_and_plot(num_simulations=500):\n",
        "    np.random.seed(42)\n",
        "\n",
        "    year1_results = []\n",
        "    year2_results = []\n",
        "    year3_results = []\n",
        "    total_results = []\n",
        "\n",
        "    for _ in range(num_simulations):\n",
        "        year1_profit, year2_profit, year3_profit,three_year_profit = simulate_by_risk_level(5)\n",
        "        year1_results.append(year1_profit)\n",
        "        year2_results.append(year2_profit)\n",
        "        year3_results.append(year3_profit)\n",
        "        total_results.append(three_year_profit)\n",
        "\n",
        "    #year 1\n",
        "    mean_profit = np.mean(year1_results)\n",
        "    print(f'Year 1 Mean Profit: {mean_profit:.2f}')\n",
        "\n",
        "    #year 2\n",
        "    mean_profit = np.mean(year2_results)\n",
        "    print(f'Year 2 Mean Profit: {mean_profit:.2f}')\n",
        "\n",
        "    #year 3\n",
        "    mean_profit = np.mean(year3_results)\n",
        "    print(f'Year 3 Mean Profit: {mean_profit:.2f}')\n",
        "\n",
        "    #three years total\n",
        "    mean_profit = np.mean(total_results)\n",
        "    std_profit = np.std(total_results)\n",
        "    print(f'Three Year Mean Profit: {mean_profit:.2f}')\n",
        "    print(f'Profit Standard Deviation: {std_profit:.2f}')\n",
        "\n",
        "simulate_and_plot(num_simulations=500)"
      ],
      "metadata": {
        "colab": {
          "base_uri": "https://localhost:8080/"
        },
        "id": "5nZf9xAZ4FKq",
        "outputId": "6f6d0b8d-356d-4c62-b35f-b947a57b4d61"
      },
      "execution_count": null,
      "outputs": [
        {
          "output_type": "stream",
          "name": "stdout",
          "text": [
            "Year 1 Mean Profit: 2987436.62\n",
            "Year 2 Mean Profit: 3806649.04\n",
            "Year 3 Mean Profit: 3849759.02\n",
            "Three Year Mean Profit: 10643844.69\n",
            "Profit Standard Deviation: 7900861.84\n"
          ]
        }
      ]
    },
    {
      "cell_type": "markdown",
      "source": [
        "*Risk level <= 4*"
      ],
      "metadata": {
        "id": "wzwYxtdr4TGz"
      }
    },
    {
      "cell_type": "code",
      "source": [
        "def simulate_and_plot(num_simulations=500):\n",
        "    np.random.seed(42)\n",
        "\n",
        "    year1_results = []\n",
        "    year2_results = []\n",
        "    year3_results = []\n",
        "    total_results = []\n",
        "\n",
        "    for _ in range(num_simulations):\n",
        "        year1_profit, year2_profit, year3_profit,three_year_profit = simulate_by_risk_level(4)\n",
        "        year1_results.append(year1_profit)\n",
        "        year2_results.append(year2_profit)\n",
        "        year3_results.append(year3_profit)\n",
        "        total_results.append(three_year_profit)\n",
        "\n",
        "    #year 1\n",
        "    mean_profit = np.mean(year1_results)\n",
        "    print(f'Year 1 Mean Profit: {mean_profit:.2f}')\n",
        "\n",
        "    #year 2\n",
        "    mean_profit = np.mean(year2_results)\n",
        "    print(f'Year 2 Mean Profit: {mean_profit:.2f}')\n",
        "\n",
        "    #year 3\n",
        "    mean_profit = np.mean(year3_results)\n",
        "    print(f'Year 3 Mean Profit: {mean_profit:.2f}')\n",
        "\n",
        "    #three years total\n",
        "    mean_profit = np.mean(total_results)\n",
        "    std_profit = np.std(total_results)\n",
        "    print(f'Three Year Mean Profit: {mean_profit:.2f}')\n",
        "    print(f'Profit Standard Deviation: {std_profit:.2f}')\n",
        "\n",
        "simulate_and_plot(num_simulations=500)"
      ],
      "metadata": {
        "colab": {
          "base_uri": "https://localhost:8080/"
        },
        "id": "jFs-SWhb4Ufs",
        "outputId": "36e4b183-eddb-4b43-9825-55c905376046"
      },
      "execution_count": null,
      "outputs": [
        {
          "output_type": "stream",
          "name": "stdout",
          "text": [
            "Year 1 Mean Profit: 2317199.17\n",
            "Year 2 Mean Profit: 3363649.14\n",
            "Year 3 Mean Profit: 3307699.33\n",
            "Three Year Mean Profit: 8988547.64\n",
            "Profit Standard Deviation: 6216552.82\n"
          ]
        }
      ]
    },
    {
      "cell_type": "markdown",
      "source": [
        "*Risk level <= 3*"
      ],
      "metadata": {
        "id": "wRWSepfT4gV-"
      }
    },
    {
      "cell_type": "code",
      "source": [
        "def simulate_and_plot(num_simulations=500):\n",
        "    np.random.seed(42)\n",
        "\n",
        "    year1_results = []\n",
        "    year2_results = []\n",
        "    year3_results = []\n",
        "    total_results = []\n",
        "\n",
        "    for _ in range(num_simulations):\n",
        "        year1_profit, year2_profit, year3_profit,three_year_profit = simulate_by_risk_level(3)\n",
        "        year1_results.append(year1_profit)\n",
        "        year2_results.append(year2_profit)\n",
        "        year3_results.append(year3_profit)\n",
        "        total_results.append(three_year_profit)\n",
        "\n",
        "    #year 1\n",
        "    mean_profit = np.mean(year1_results)\n",
        "    print(f'Year 1 Mean Profit: {mean_profit:.2f}')\n",
        "\n",
        "    #year 2\n",
        "    mean_profit = np.mean(year2_results)\n",
        "    print(f'Year 2 Mean Profit: {mean_profit:.2f}')\n",
        "\n",
        "    #year 3\n",
        "    mean_profit = np.mean(year3_results)\n",
        "    print(f'Year 3 Mean Profit: {mean_profit:.2f}')\n",
        "\n",
        "    #three years total\n",
        "    mean_profit = np.mean(total_results)\n",
        "    std_profit = np.std(total_results)\n",
        "    print(f'Three Year Mean Profit: {mean_profit:.2f}')\n",
        "    print(f'Profit Standard Deviation: {std_profit:.2f}')\n",
        "\n",
        "simulate_and_plot(num_simulations=500)"
      ],
      "metadata": {
        "colab": {
          "base_uri": "https://localhost:8080/"
        },
        "id": "kiVGQRuU4jph",
        "outputId": "22514c67-522c-4c54-a025-7471740e16dd"
      },
      "execution_count": null,
      "outputs": [
        {
          "output_type": "stream",
          "name": "stdout",
          "text": [
            "Year 1 Mean Profit: 1400165.35\n",
            "Year 2 Mean Profit: 1975934.77\n",
            "Year 3 Mean Profit: 1814313.00\n",
            "Three Year Mean Profit: 5190413.12\n",
            "Profit Standard Deviation: 4368035.65\n"
          ]
        }
      ]
    },
    {
      "cell_type": "markdown",
      "source": [
        "*Risk level <= 2*"
      ],
      "metadata": {
        "id": "c_xonI8s45_e"
      }
    },
    {
      "cell_type": "code",
      "source": [
        "def simulate_and_plot(num_simulations=100):\n",
        "    np.random.seed(42)\n",
        "\n",
        "    year1_results = []\n",
        "    year2_results = []\n",
        "    year3_results = []\n",
        "    total_results = []\n",
        "\n",
        "    for _ in range(num_simulations):\n",
        "        year1_profit, year2_profit, year3_profit,three_year_profit = simulate_by_risk_level(2)\n",
        "        year1_results.append(year1_profit)\n",
        "        year2_results.append(year2_profit)\n",
        "        year3_results.append(year3_profit)\n",
        "        total_results.append(three_year_profit)\n",
        "\n",
        "    #year 1\n",
        "    mean_profit = np.mean(year1_results)\n",
        "    print(f'Year 1 Mean Profit: {mean_profit:.2f}')\n",
        "\n",
        "    #year 2\n",
        "    mean_profit = np.mean(year2_results)\n",
        "    print(f'Year 2 Mean Profit: {mean_profit:.2f}')\n",
        "\n",
        "    #year 3\n",
        "    mean_profit = np.mean(year3_results)\n",
        "    print(f'Year 3 Mean Profit: {mean_profit:.2f}')\n",
        "\n",
        "    #three years total\n",
        "    mean_profit = np.mean(total_results)\n",
        "    std_profit = np.std(total_results)\n",
        "    print(f'Three Year Mean Profit: {mean_profit:.2f}')\n",
        "    print(f'Profit Standard Deviation: {std_profit:.2f}')\n",
        "\n",
        "simulate_and_plot(num_simulations=100)"
      ],
      "metadata": {
        "colab": {
          "base_uri": "https://localhost:8080/"
        },
        "id": "bb_S8hFs4146",
        "outputId": "ec80e7fe-b8c2-49c2-b83a-8c464e298bdc"
      },
      "execution_count": null,
      "outputs": [
        {
          "output_type": "stream",
          "name": "stdout",
          "text": [
            "Year 1 Mean Profit: 215070.74\n",
            "Year 2 Mean Profit: 709301.11\n",
            "Year 3 Mean Profit: 501354.14\n",
            "Three Year Mean Profit: 1425726.00\n",
            "Profit Standard Deviation: 1272846.01\n"
          ]
        }
      ]
    },
    {
      "cell_type": "markdown",
      "source": [
        "*Risk level <= 1*"
      ],
      "metadata": {
        "id": "pTJFzfrE5Eaw"
      }
    },
    {
      "cell_type": "code",
      "source": [
        "def simulate_and_plot(num_simulations=50):\n",
        "    np.random.seed(42)\n",
        "\n",
        "    year1_results = []\n",
        "    year2_results = []\n",
        "    year3_results = []\n",
        "    total_results = []\n",
        "\n",
        "    for _ in range(num_simulations):\n",
        "        year1_profit, year2_profit, year3_profit,three_year_profit = simulate_by_risk_level(1)\n",
        "        year1_results.append(year1_profit)\n",
        "        year2_results.append(year2_profit)\n",
        "        year3_results.append(year3_profit)\n",
        "        total_results.append(three_year_profit)\n",
        "\n",
        "    #year 1\n",
        "    mean_profit = np.mean(year1_results)\n",
        "    print(f'Year 1 Mean Profit: {mean_profit:.2f}')\n",
        "\n",
        "    #year 2\n",
        "    mean_profit = np.mean(year2_results)\n",
        "    print(f'Year 2 Mean Profit: {mean_profit:.2f}')\n",
        "\n",
        "    #year 3\n",
        "    mean_profit = np.mean(year3_results)\n",
        "    print(f'Year 3 Mean Profit: {mean_profit:.2f}')\n",
        "\n",
        "    #three years total\n",
        "    mean_profit = np.mean(total_results)\n",
        "    std_profit = np.std(total_results)\n",
        "    print(f'Three Year Mean Profit: {mean_profit:.2f}')\n",
        "    print(f'Profit Standard Deviation: {std_profit:.2f}')\n",
        "\n",
        "simulate_and_plot(num_simulations=50)"
      ],
      "metadata": {
        "colab": {
          "base_uri": "https://localhost:8080/"
        },
        "id": "FivsxdTI5CQ4",
        "outputId": "acaa0083-2afb-4df6-cc23-a817a4df01e0"
      },
      "execution_count": null,
      "outputs": [
        {
          "output_type": "stream",
          "name": "stdout",
          "text": [
            "Year 1 Mean Profit: -99578.62\n",
            "Year 2 Mean Profit: 378828.09\n",
            "Year 3 Mean Profit: 396572.73\n",
            "Three Year Mean Profit: 675822.19\n",
            "Profit Standard Deviation: 469404.64\n"
          ]
        }
      ]
    },
    {
      "cell_type": "markdown",
      "source": [
        "## Question 4"
      ],
      "metadata": {
        "id": "gb3gPHewIGSn"
      }
    },
    {
      "cell_type": "code",
      "source": [
        "def simulate_by_risk_level_complexity_size(risk_level, complexity_threshold, size_threshold, data):\n",
        "  df = data[(data['Risk Rating'] <= risk_level) & (data['Complexity Level'] <= complexity_threshold) & (data['Annual Spend Volume'] >= size_threshold)]\n",
        "\n",
        "  clients = len(df)\n",
        "  #year 1\n",
        "  year1_total_cost, year1_total_revenue, year1_total_profit, df = simulation(df, 1)\n",
        "\n",
        "  #year 2\n",
        "  year2_total_cost, year2_total_revenue, year2_total_profit, df = simulation(df, 2)\n",
        "\n",
        "  #year 3\n",
        "  year3_total_cost, year3_total_revenue, year3_total_profit, df = simulation(df, 3)\n",
        "\n",
        "  #sum three years\n",
        "  three_year_cost = year1_total_cost + year2_total_cost + year3_total_cost\n",
        "  three_year_revenue = year1_total_revenue + year2_total_revenue + year3_total_revenue\n",
        "  three_year_profit = year1_total_profit + year2_total_profit + year3_total_profit\n",
        "\n",
        "  return year1_total_profit, year2_total_profit, year3_total_profit, three_year_profit, clients"
      ],
      "metadata": {
        "id": "O_1DgCUlI1nT"
      },
      "execution_count": null,
      "outputs": []
    },
    {
      "cell_type": "code",
      "source": [
        "def simulate_and_plot_q4(num_simulations=500, seed=42, risk_threshold = 7, complexity_threshold = 3, size_threshold = 0, data_source = 0):\n",
        "    # Set the random seed for reproducibility\n",
        "    np.random.seed(seed)\n",
        "    year1_results = []\n",
        "    year2_results = []\n",
        "    year3_results = []\n",
        "    total_results = []\n",
        "\n",
        "    for _ in range(num_simulations):\n",
        "        year1_profit, year2_profit, year3_profit,three_year_profit, num_clients = simulate_by_risk_level_complexity_size(risk_threshold,complexity_threshold,size_threshold,data_source)\n",
        "        year1_results.append(year1_profit)\n",
        "        year2_results.append(year2_profit)\n",
        "        year3_results.append(year3_profit)\n",
        "        total_results.append(three_year_profit)\n",
        "\n",
        "    #year 1\n",
        "    mean_profit1 = np.mean(year1_results)\n",
        "    #print(f'Year 1 Mean Profit: {mean_profit:.2f}')\n",
        "\n",
        "    #year 2\n",
        "    mean_profit2 = np.mean(year2_results)\n",
        "    #print(f'Year 2 Mean Profit: {mean_profit:.2f}')\n",
        "\n",
        "    #year 3\n",
        "    mean_profit3 = np.mean(year3_results)\n",
        "    #print(f'Year 3 Mean Profit: {mean_profit:.2f}')\n",
        "\n",
        "    #three years total\n",
        "    mean_profit = np.mean(total_results)\n",
        "    #print(f'Three Year Mean Profit: {mean_profit:.2f}')\n",
        "\n",
        "    return mean_profit1, mean_profit2, mean_profit3, mean_profit, num_clients"
      ],
      "metadata": {
        "id": "VvQWAOP_I2ZA"
      },
      "execution_count": null,
      "outputs": []
    },
    {
      "cell_type": "code",
      "source": [
        "import warnings\n",
        "# Suppress FutureWarning related to DataFrame append method\n",
        "warnings.simplefilter(action='ignore', category=FutureWarning)\n",
        "\n",
        "risk_thresholds = [4,5,6,7]\n",
        "complexity_thresholds = [1,2,3]\n",
        "size_thresholds = [100000, 150000, 200000, 250000]\n",
        "df_source = pd.read_excel('RegencyClientList.xlsx')\n",
        "\n",
        "best_profit = 0\n",
        "best_profit1 = 0\n",
        "best_profit2 = 0\n",
        "best_profit3 = 0\n",
        "best_risk = 0\n",
        "best_complexity = 0\n",
        "best_size = 0\n",
        "best_clients = 0\n",
        "\n",
        "columns = ['risk_threshold', 'complexity_threshold', 'annual_spend_threshold', 'profit1', 'profit2', 'profit3', 'profit', 'clients']\n",
        "result_df = pd.DataFrame(columns=columns)\n",
        "\n",
        "for risk_level in risk_thresholds:\n",
        "    for complexity_level in complexity_thresholds:\n",
        "        for size_level in size_thresholds:\n",
        "            profit1, profit2, profit3, profit, clients = (simulate_and_plot_q4(num_simulations=100, seed=42, risk_threshold=risk_level, complexity_threshold=complexity_level, size_threshold=size_level, data_source=df_source))\n",
        "            print(f\"Risk: {risk_level}, Complexity: {complexity_level}, Size: {size_level}, Mean Profit Year 1: {profit1:.2f}, Mean Profit Year 2: {profit2:.2f}, Mean Profit Year 3: {profit3:.2f}, Mean Profit Overall: {profit:.2f}, Clients: {clients}\")\n",
        "\n",
        "            result_df = result_df.append({'risk_threshold': risk_level, 'complexity_threshold': complexity_level, 'annual_spend_threshold':size_level, 'profit1': profit1, 'profit2': profit2, 'profit3': profit3, 'profit': profit,'clients': clients}, ignore_index=True)\n",
        "\n",
        "            if profit > best_profit:\n",
        "                best_risk = risk_level\n",
        "                best_complexity = complexity_level\n",
        "                best_size = size_level\n",
        "                best_profit = profit\n",
        "                best_profit1 = profit1\n",
        "                best_profit2 = profit2\n",
        "                best_profit3 = profit3\n",
        "                best_clients = clients\n",
        "\n",
        "print(f\"Best Solution:\\nRisk: {best_risk}, Complexity: {best_complexity}, Size: {best_size},\\nMean Profit Year 1: {best_profit1:.2f}, Mean Profit Year 2: {best_profit2:.2f}, Mean Profit Year 3: {best_profit3:.2f},\\nMean Profit Overall: {best_profit:.2f}, Clients: {best_clients}\")"
      ],
      "metadata": {
        "id": "s0XYNBLKI6nX"
      },
      "execution_count": null,
      "outputs": []
    }
  ]
}